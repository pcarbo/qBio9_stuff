{
  "nbformat": 4,
  "nbformat_minor": 0,
  "metadata": {
    "colab": {
      "provenance": [],
      "toc_visible": true,
      "authorship_tag": "ABX9TyOjMahp6Ue4HWTFMUr/UOy7",
      "include_colab_link": true
    },
    "kernelspec": {
      "name": "ir",
      "display_name": "R"
    },
    "language_info": {
      "name": "R"
    }
  },
  "cells": [
    {
      "cell_type": "markdown",
      "metadata": {
        "id": "view-in-github",
        "colab_type": "text"
      },
      "source": [
        "<a href=\"https://colab.research.google.com/github/pcarbo/qBio9_stuff/blob/main/dataviz_qbio9.ipynb\" target=\"_parent\"><img src=\"https://colab.research.google.com/assets/colab-badge.svg\" alt=\"Open In Colab\"/></a>"
      ]
    },
    {
      "cell_type": "markdown",
      "source": [
        "<h1>Data visualization tutorial: exploring data and telling stories using ggplot2</h1>\n",
        "\n",
        "Peter Carbonetto<br>\n",
        "University of Chicago<br>\n",
        "Chicago, IL<br>\n",
        "\n",
        "*Last modified on August 24, 2023*\n",
        "\n",
        "In this lesson, we will learn how to use ggplot2 to create simpley\n",
        "yet effective data visualizations. The ggplot2 package is an incredibly\n",
        "powerful plotting interface that extends the base plotting functions in\n",
        "R."
      ],
      "metadata": {
        "id": "scphMSRlHE8o"
      }
    },
    {
      "cell_type": "markdown",
      "source": [
        "Some motivation\n",
        "===============\n",
        "\n",
        "A good figure is an important part of an impactful research paper or\n",
        "presentation. A good figure is one that *tells an interesting story.*\n",
        "\n",
        "Almost inevitably, creating a good figure takes iteration and\n",
        "refinement. You will rarely get it right on the first try.\n",
        "\n",
        "For these reasons, taking the *programmatic approach* to creating\n",
        "plots is very powerful. It allows you to:\n",
        "\n",
        "a. Create an endless variety of plots.\n",
        "\n",
        "b. Reuse code to quickly create and revise plots.\n",
        "\n",
        "In this tutorial we will explore the programmatic approach to plotting\n",
        "using **ggplot2**."
      ],
      "metadata": {
        "id": "1AjnHoBZLEpv"
      }
    },
    {
      "cell_type": "markdown",
      "source": [
        "Setup\n",
        "=====\n",
        "\n",
        "*Do I have what I need?* Download the tutorial materials from GitHub, and make sure you know where to find them.\n",
        "\n",
        "If you have not already done so, install these packages:"
      ],
      "metadata": {
        "id": "Gb85fav3LTDW"
      }
    },
    {
      "cell_type": "code",
      "source": [
        "install.packages(\"ggplot2\")\n",
        "install.packages(\"cowplot\")\n",
        "install.packages(\"ggrepel\")\n",
        "install.packages(\"htmlwidgets\")\n",
        "install.packages(\"plotly\")"
      ],
      "metadata": {
        "id": "ui8hGqa0LnAL"
      },
      "execution_count": null,
      "outputs": []
    },
    {
      "cell_type": "markdown",
      "source": [
        "I run this every time in Jupyter notebook or Google Colab to make the code outputs look like they do in RStudio."
      ],
      "metadata": {
        "id": "1BDaTFi8OQxb"
      }
    },
    {
      "cell_type": "code",
      "source": [
        "options(jupyter.rich_display = FALSE)"
      ],
      "metadata": {
        "id": "RftueE7iOa8X"
      },
      "execution_count": 2,
      "outputs": []
    },
    {
      "cell_type": "markdown",
      "source": [
        "Do smaller dogs live longer?\n",
        "============================\n",
        "\n",
        "The study of dogs is a surprisingly fruitful area of research! In this\n",
        "tutorial, we will make use of some data that was made available by the\n",
        "authors of a 2008 *Genetics* article,\n",
        "*Single-nucleotide-polymorphism-based association mapping of dog\n",
        "stereotypes.* These data are stored in a CSV file.\n",
        "\n",
        "Our main analysis aim is to investigate the anecdotal claim that\n",
        "smaller breeds (such as Chihuahuas) live longer than larger breeds\n",
        "(such as Saint Bernards)."
      ],
      "metadata": {
        "id": "aSdw0-sNLwao"
      }
    },
    {
      "cell_type": "markdown",
      "source": [
        "Our first ggplot plot\n",
        "---------------------\n",
        "\n",
        "It will take us some time to understand *how* ggplot works, but let's\n",
        "start by quickly creating our first ggplot."
      ],
      "metadata": {
        "id": "JciOQT3nL1Kq"
      }
    },
    {
      "cell_type": "code",
      "source": [
        "library(ggplot2)\n",
        "options(repr.plot.width = 4,repr.plot.height = 4,repr.plot.res = 150)\n",
        "system(\"wget https://raw.githubusercontent.com/pcarbo/qBio9_stuff/main/dogs.csv\")\n",
        "dogs <- read.csv(\"dogs.csv\",stringsAsFactors = FALSE)\n",
        "ggplot(dogs,aes(x = height,y = weight)) +\n",
        "  geom_point()"
      ],
      "metadata": {
        "colab": {
          "base_uri": "https://localhost:8080/",
          "height": 317
        },
        "id": "ixkpeYC_L5Xu",
        "outputId": "776c3c3c-fed9-4196-81a5-1f481d1b4deb"
      },
      "execution_count": 6,
      "outputs": [
        {
          "output_type": "display_data",
          "data": {
            "text/plain": [
              "plot without title"
            ],
            "image/png": "[encoded data removed]"
          },
          "metadata": {
            "image/png": {
              "width": 300,
              "height": 300
            }
          }
        }
      ]
    },
    {
      "cell_type": "markdown",
      "source": [
        "A first look at the data\n",
        "------------------------\n",
        "\n",
        "When you load data into R for the first time, it is important to get a\n",
        "basic understanding of the data frame and its contents."
      ],
      "metadata": {
        "id": "6phMSygwO8il"
      }
    },
    {
      "cell_type": "code",
      "source": [
        "nrow(dogs)\n",
        "ncol(dogs)\n",
        "names(dogs)\n",
        "head(dogs)\n",
        "tail(dogs)\n",
        "summary(dogs)\n",
        "hist(dogs$aod,n = 32)\n",
        "hist(dogs$cfa7_46696633bp,n = 32)\n",
        "summary(dogs$shortcoat)\n",
        "unique(dogs$shortcoat)\n",
        "table(dogs$shortcoat,useNA = \"always\")"
      ],
      "metadata": {
        "id": "z1QSIrenO9wc"
      },
      "execution_count": null,
      "outputs": []
    }
  ]
}