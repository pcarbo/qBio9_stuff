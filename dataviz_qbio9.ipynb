{
  "nbformat": 4,
  "nbformat_minor": 0,
  "metadata": {
    "colab": {
      "provenance": [],
      "toc_visible": true,
      "authorship_tag": "ABX9TyOa7qOZ2L2d7lLRMCM/6ERr",
      "include_colab_link": true
    },
    "kernelspec": {
      "name": "ir",
      "display_name": "R"
    },
    "language_info": {
      "name": "R"
    }
  },
  "cells": [
    {
      "cell_type": "markdown",
      "metadata": {
        "id": "view-in-github",
        "colab_type": "text"
      },
      "source": [
        "<a href=\"https://colab.research.google.com/github/pcarbo/qBio9_stuff/blob/main/dataviz_qbio9.ipynb\" target=\"_parent\"><img src=\"https://colab.research.google.com/assets/colab-badge.svg\" alt=\"Open In Colab\"/></a>"
      ]
    },
    {
      "cell_type": "markdown",
      "source": [
        "<h1>Data visualization tutorial: exploring data and telling stories using ggplot2</h1>\n",
        "\n",
        "Peter Carbonetto<br>\n",
        "University of Chicago<br>\n",
        "Chicago, IL<br>\n",
        "\n",
        "*Last modified on August 24, 2023*\n",
        "\n",
        "In this lesson, we will learn how to use ggplot2 to create simpley\n",
        "yet effective data visualizations. The ggplot2 package is an incredibly\n",
        "powerful plotting interface that extends the base plotting functions in\n",
        "R."
      ],
      "metadata": {
        "id": "scphMSRlHE8o"
      }
    },
    {
      "cell_type": "markdown",
      "source": [
        "Some motivation\n",
        "===============\n",
        "\n",
        "A good figure is an important part of an impactful research paper or\n",
        "presentation. A good figure is one that *tells an interesting story.*\n",
        "\n",
        "Almost inevitably, creating a good figure takes iteration and\n",
        "refinement. You will rarely get it right on the first try.\n",
        "\n",
        "For these reasons, taking the *programmatic approach* to creating\n",
        "plots is very powerful. It allows you to:\n",
        "\n",
        "a. Create an endless variety of plots.\n",
        "\n",
        "b. Reuse code to quickly create and revise plots.\n",
        "\n",
        "In this tutorial we will explore the programmatic approach to plotting\n",
        "using **ggplot2**."
      ],
      "metadata": {
        "id": "1AjnHoBZLEpv"
      }
    },
    {
      "cell_type": "markdown",
      "source": [
        "Setup\n",
        "=====\n",
        "\n",
        "*Do I have what I need?* Download the tutorial materials from GitHub, and make sure you know where to find them.\n",
        "\n",
        "If you have not already done so, install these packages:"
      ],
      "metadata": {
        "id": "Gb85fav3LTDW"
      }
    },
    {
      "cell_type": "code",
      "source": [
        "install.packages(\"ggplot2\")\n",
        "install.packages(\"cowplot\")\n",
        "install.packages(\"ggrepel\")\n",
        "install.packages(\"htmlwidgets\")\n",
        "install.packages(\"plotly\")"
      ],
      "metadata": {
        "id": "ui8hGqa0LnAL"
      },
      "execution_count": null,
      "outputs": []
    },
    {
      "cell_type": "markdown",
      "source": [
        "I run this every time in Jupyter notebook or Google Colab to make the code outputs look like they do in RStudio:"
      ],
      "metadata": {
        "id": "1BDaTFi8OQxb"
      }
    },
    {
      "cell_type": "code",
      "source": [
        "options(jupyter.rich_display = FALSE)"
      ],
      "metadata": {
        "id": "RftueE7iOa8X"
      },
      "execution_count": null,
      "outputs": []
    },
    {
      "cell_type": "markdown",
      "source": [
        "Do smaller dogs live longer?\n",
        "============================\n",
        "\n",
        "The study of dogs is a surprisingly fruitful area of research! In this\n",
        "tutorial, we will make use of some data that was made available by the\n",
        "authors of a 2008 *Genetics* article,\n",
        "*Single-nucleotide-polymorphism-based association mapping of dog\n",
        "stereotypes.* These data are stored in a CSV file.\n",
        "\n",
        "Our main analysis aim is to investigate the anecdotal claim that\n",
        "smaller breeds (such as Chihuahuas) live longer than larger breeds\n",
        "(such as Saint Bernards)."
      ],
      "metadata": {
        "id": "aSdw0-sNLwao"
      }
    },
    {
      "cell_type": "markdown",
      "source": [
        "Our first ggplot plot\n",
        "---------------------\n",
        "\n",
        "It will take us some time to understand *how* ggplot works, but let's\n",
        "start by quickly creating our first ggplot."
      ],
      "metadata": {
        "id": "JciOQT3nL1Kq"
      }
    },
    {
      "cell_type": "code",
      "source": [
        "library(ggplot2)\n",
        "options(repr.plot.width = 4,repr.plot.height = 4,repr.plot.res = 180)\n",
        "system(\"wget https://raw.githubusercontent.com/pcarbo/qBio9_stuff/main/dogs.csv\")\n",
        "dogs <- read.csv(\"dogs.csv\",stringsAsFactors = FALSE)\n",
        "ggplot(dogs,aes(x = height,y = weight)) +\n",
        "  geom_point()"
      ],
      "metadata": {
        "id": "ixkpeYC_L5Xu"
      },
      "execution_count": null,
      "outputs": []
    },
    {
      "cell_type": "markdown",
      "source": [
        "A first look at the data\n",
        "------------------------\n",
        "\n",
        "When you load data into R for the first time, it is important to get a\n",
        "basic understanding of the data frame and its contents."
      ],
      "metadata": {
        "id": "6phMSygwO8il"
      }
    },
    {
      "cell_type": "code",
      "source": [
        "# Add your code here."
      ],
      "metadata": {
        "id": "z1QSIrenO9wc"
      },
      "execution_count": null,
      "outputs": []
    },
    {
      "cell_type": "markdown",
      "source": [
        "*What different types of data are in this table?*"
      ],
      "metadata": {
        "id": "aE5grx43Pz8k"
      }
    },
    {
      "cell_type": "markdown",
      "source": [
        "The often overlooked scatterplot\n",
        "--------------------------------\n",
        "\n",
        "In this tutorial, we will learn about ggplot2 through one of the most\n",
        "basic data visualizations: *the scatterplot.*\n",
        "\n",
        "The scatterplot is easily overlooked because it is so simple. But it\n",
        "can be one of the most effective ways to visualize relationships. And\n",
        "it has many uses.\n",
        "\n",
        "With embellishments (adding labels, varying color, shape, size,\n",
        "*etc.*), scatterplots can produce stunning visualizations."
      ],
      "metadata": {
        "id": "_EfK4GIGP1mk"
      }
    },
    {
      "cell_type": "markdown",
      "source": [
        "Our first ggplot2 (with \"ugly\" code)\n",
        "------------------------------------\n",
        "\n",
        "Recall, our objective is to investigate the relationship between\n",
        "size and longevity in dogs. We'll use weight as a proxy for size."
      ],
      "metadata": {
        "id": "Ga4Y3KkCP36L"
      }
    },
    {
      "cell_type": "code",
      "source": [
        "# Add your code here."
      ],
      "metadata": {
        "id": "hLDqh5fYP93G"
      },
      "execution_count": null,
      "outputs": []
    },
    {
      "cell_type": "markdown",
      "source": [
        "Now for some more elegant code can accomplish the same thing. (This more\n",
        "elegant code comes with a \"for experts only\" warning.)"
      ],
      "metadata": {
        "id": "ACLzLE5zQHUm"
      }
    },
    {
      "cell_type": "code",
      "source": [
        "# Add your code here."
      ],
      "metadata": {
        "id": "HdzJw-ZrQI4-"
      },
      "execution_count": null,
      "outputs": []
    },
    {
      "cell_type": "markdown",
      "source": [
        "For the moment I want to focus on the \"uglier\" code because it\n",
        "highlights better the key elements of a ggplot2 plot:\n",
        "\n",
        "1. The first input is the data (stored in a data frame).\n",
        "\n",
        "2. The second input is an \"aesthetic mapping\", created using\n",
        "   `aes` that defines how columns are mapped to features of the\n",
        "   plot (axes, shapes, colors, *etc.*). *Note:* Many people use `aes`\n",
        "   instead of `aes`.\n",
        "\n",
        "3. A \"geom\", short for \"geometric object\", specifies the type of\n",
        "   plot. ggplot2 has an excellent on-line reference at\n",
        "   [ggplot2.tidyverse.org][ggplot2-reference] explaining all the\n",
        "   \"geoms\", from bar charts to contour plots, with code examples for\n",
        "   each.\n",
        "\n",
        "4. ggplot2 outputs a *ggplot object* `p`, which can be drawn to the screen\n",
        "   with `print(p)` or just `p` (then hit \"enter\" or \"return\").\n",
        "\n",
        "The distinguishing feature of ggplot2 is that plots are created by\n",
        "*adding layers*. This layering allows for infinite variety of plots to\n",
        "be created. The layering approach means that ggplot2 is easily\n",
        "extendible, and many R packages have been developed to enhance\n",
        "ggplot2. (We will use two of these packages, ggrepel and cowplot.)"
      ],
      "metadata": {
        "id": "ND7TLgLbQSQO"
      }
    },
    {
      "cell_type": "markdown",
      "source": [
        "A few improvements\n",
        "------------------\n",
        "\n",
        "No plot is ever right the first time. *What are ways we can improve our\n",
        "plot?* Add code for your improved plot here:"
      ],
      "metadata": {
        "id": "lf_LmgxhR48v"
      }
    },
    {
      "cell_type": "code",
      "source": [
        "# Add your code here."
      ],
      "metadata": {
        "id": "gGWBOJolR56x"
      },
      "execution_count": null,
      "outputs": []
    },
    {
      "cell_type": "markdown",
      "source": [
        "In ggplot, plots can be improved either by modifying the inputs to the\n",
        "functions you are already using (for example, `geom_point` has many\n",
        "settings that can be fiddled with), or by *adding layers*. The ggplot\n",
        "online reference has many helpful examples that illustrate the variety\n",
        "of ways plots can be improved."
      ],
      "metadata": {
        "id": "zG--4wsASFHI"
      }
    },
    {
      "cell_type": "markdown",
      "source": [
        "Save your work\n",
        "--------------\n",
        "\n",
        "We've worked hard, and make considerable progress. This is a good\n",
        "point to save our work in an image file that can be shared with\n",
        "others. *What type of image file should we use?*"
      ],
      "metadata": {
        "id": "YyBNwj8dSIwd"
      }
    },
    {
      "cell_type": "code",
      "source": [
        "# Add your code here."
      ],
      "metadata": {
        "id": "-9rkgWR_SMX7"
      },
      "execution_count": null,
      "outputs": []
    },
    {
      "cell_type": "markdown",
      "source": [
        "Plot the best-fit line\n",
        "----------------------\n",
        "\n",
        "It has been estimated that an increase of 28 lbs in a dog's body\n",
        "weight corresponds to about a 1-year drop in expected lifespan (with a\n",
        "maximum lifespan of about 13 years). How well does this estimate agree\n",
        "with our data? Let's investigate this question by plotting the line\n",
        "that *best fits* these data (specifically, this is the \"least-squares\"\n",
        "fit)."
      ],
      "metadata": {
        "id": "FH44e700STjL"
      }
    },
    {
      "cell_type": "code",
      "source": [
        "# Add your code here."
      ],
      "metadata": {
        "id": "DD1wRA_ASVro"
      },
      "execution_count": null,
      "outputs": []
    },
    {
      "cell_type": "markdown",
      "source": [
        "Now let's add this \"best fit\" line to the plot. In case we make a\n",
        "mistake, let's call our new plot \"p2\" to avoid writing over our\n",
        "previous plot:"
      ],
      "metadata": {
        "id": "Zq8Xv0TvSaYs"
      }
    },
    {
      "cell_type": "code",
      "source": [
        "# Add your code here."
      ],
      "metadata": {
        "id": "pbvgb11ESbHI"
      },
      "execution_count": null,
      "outputs": []
    },
    {
      "cell_type": "markdown",
      "source": [
        "Now let's add another another \"abline\" layer to compare our estimate\n",
        "against the previous estimate (and name the new plot object \"p3\"):"
      ],
      "metadata": {
        "id": "nJEV0RQPSg1H"
      }
    },
    {
      "cell_type": "code",
      "source": [
        "# Add your code here."
      ],
      "metadata": {
        "id": "hwoBIqfAShmU"
      },
      "execution_count": null,
      "outputs": []
    },
    {
      "cell_type": "markdown",
      "source": [
        "Notice how easy it was to add layers to an existing plot!"
      ],
      "metadata": {
        "id": "Nhf7w-BIS5N_"
      }
    },
    {
      "cell_type": "markdown",
      "source": [
        "Which breeds fit the trend, and which don't?\n",
        "--------------------------------------------\n",
        "\n",
        "It would be helpful if we could tell which breeds are being\n",
        "plotted. Adding text labels to a ggplot is also done by adding a\n",
        "layer.\n",
        "\n",
        "There's one catch here—there simply isn't enough real estate on the\n",
        "plot to accommodate all the breed names. This is a great opportunity\n",
        "to play around with a clever package, **ggrepel**, that adds the\n",
        "labels in a way that makes them more readable, and only adds them to\n",
        "the plot when possible. Let's appreciate how simply this sophisticated\n",
        "plot is created."
      ],
      "metadata": {
        "id": "JftwVAazS77M"
      }
    },
    {
      "cell_type": "code",
      "source": [
        "# Add your code here."
      ],
      "metadata": {
        "id": "zz2CQEynTCWH"
      },
      "execution_count": null,
      "outputs": []
    },
    {
      "cell_type": "markdown",
      "source": [
        "Notice that the labels are automatically redrawn as the plot is\n",
        "resized. Give it a try!"
      ],
      "metadata": {
        "id": "-DnUWCmXTHaj"
      }
    },
    {
      "cell_type": "markdown",
      "source": [
        "A QTL for weight\n",
        "----------------\n",
        "\n",
        "In the *Genetics* paper, the strongest *quantitative trait locus*\n",
        "(QTL) for weight was a QTL on chromosome 7. Using your ggplot coding\n",
        "skills, create a scatterplot to visualize the relationship between\n",
        "weight and the allele frequency at this QTL. *Is your code\n",
        "reproducible? i.e., could I run your code to get the same plot?*\n"
      ],
      "metadata": {
        "id": "C_j3f0QpTYG0"
      }
    },
    {
      "cell_type": "code",
      "source": [
        "# Add your code here."
      ],
      "metadata": {
        "id": "MD4K0GTcThdg"
      },
      "execution_count": null,
      "outputs": []
    },
    {
      "cell_type": "markdown",
      "source": [
        "Exploration: a surprising subtlety with color\n",
        "=============================================\n",
        "\n",
        "So far, we have focussed on using the co-ordinate plane to visualize\n",
        "relationships. But other \"aesthetics\"—color, size, shape, *etc.*—can\n",
        "also be used to tell an evocative story. In the last chapter of this\n",
        "tutorial, we will explore the use of color to visualize relationships.\n",
        "In so doing, we will discover a complication.\n",
        "\n",
        "We learned that the \"shortcoat\" column had values of 0 or 1 (with a\n",
        "few NAs).\n",
        "\n",
        "Let's try varying the color of the points using the shortcoat column:"
      ],
      "metadata": {
        "id": "UhZZKlpjT3tT"
      }
    },
    {
      "cell_type": "code",
      "source": [
        "options(repr.plot.width = 5,repr.plot.height = 4,repr.plot.res = 180)\n",
        "p <- ggplot(dogs,aes(x = weight,y = aod,color = shortcoat)) +\n",
        "  geom_point() +\n",
        "  theme_cowplot()\n",
        "p"
      ],
      "metadata": {
        "id": "Ju0c35PFT6Pk"
      },
      "execution_count": null,
      "outputs": []
    },
    {
      "cell_type": "markdown",
      "source": [
        "Are we happy with this plot? How could it be improved?* Write your\n",
        " code for an improved plot here:"
      ],
      "metadata": {
        "id": "U7zmOlcvUPKn"
      }
    },
    {
      "cell_type": "code",
      "source": [
        "# Add your code here."
      ],
      "metadata": {
        "id": "KOXrn5NIUSDP"
      },
      "execution_count": null,
      "outputs": []
    },
    {
      "cell_type": "markdown",
      "source": [
        "*Optional:* Try varying the shape of the points instead of color. If\n",
        "you have have written your ggplot code well, this should only involve\n",
        "a slight change to your code. You can use `scale_shape_manual` to\n",
        "select the shapes. Running `plot(0:23,pch = 0:23)` will give you the\n",
        "full list of shapes to choose from."
      ],
      "metadata": {
        "id": "08PyoWY2UWSw"
      }
    },
    {
      "cell_type": "code",
      "source": [
        "# Add your code here."
      ],
      "metadata": {
        "id": "ScxnbGncUW7I"
      },
      "execution_count": null,
      "outputs": []
    },
    {
      "cell_type": "markdown",
      "source": [
        "More on color\n",
        "-------------\n",
        "\n",
        "Carefully chosen colors can often be the difference between an\n",
        "effective visualization and an ineffective one. One the few complaints\n",
        "I have with ggplot2 is that the default colors choices are quite\n",
        "poor. So when you use ggplot2, you will often need to make adjustments\n",
        "to the colors. One rule-of-thumb is that \"warmer\" colors such as red\n",
        "and orange tend to draw the reader's attention.\n",
        "\n",
        "There are several good resources on use of color in data\n",
        "visualization, and I will mention a couple here: Color Brewer\n",
        "(https://colorbrewer2.org); and a short article, \"Color blindness\",\n",
        "written by Bang Wong (*Nature Methods*, 2011). For more discussion,\n",
        "see the \"Fundamentals of data visualization\" book by Claus Wilke.\n",
        "\n",
        "In our scatterplot, the best color choice is less clear, so I will let\n",
        "you experiment with different choices. To override the color\n",
        "defaults, add a `scale_color_manual` layer:"
      ],
      "metadata": {
        "id": "HoGGL_V-UzrL"
      }
    },
    {
      "cell_type": "code",
      "source": [
        "# Add your code here."
      ],
      "metadata": {
        "id": "vIwEDogDVR8t"
      },
      "execution_count": null,
      "outputs": []
    },
    {
      "cell_type": "markdown",
      "source": [
        "There are several different ways to specify colors. I prefer\n",
        "specifying colors by name; to get the full list of color names, run\n",
        "`colors()`.\n",
        "\n",
        "The function that controls the color of a discrete variable has an odd\n",
        "name: `scale_color_manual`. This is because, in ggplot2, all methods\n",
        "that control the mapping of variables to colors, shapes, sizes, axes,\n",
        "*etc.*, start with `scale_`.\n",
        "\n",
        "Obviously, there is much more to ggplot2. But once you are comfortable\n",
        "with these basic elements, you will find that almost everything else\n",
        "in ggplot2 is a variation of what we covered in this lesson."
      ],
      "metadata": {
        "id": "aT46dlYIVmC5"
      }
    }
  ]
}