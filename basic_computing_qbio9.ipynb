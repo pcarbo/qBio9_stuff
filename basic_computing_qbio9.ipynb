{
  "nbformat": 4,
  "nbformat_minor": 0,
  "metadata": {
    "colab": {
      "provenance": [],
      "toc_visible": true,
      "authorship_tag": "ABX9TyPSjjjDyTpoA3pmiTEBNUZB",
      "include_colab_link": true
    },
    "kernelspec": {
      "name": "ir",
      "display_name": "R"
    },
    "language_info": {
      "name": "R"
    }
  },
  "cells": [
    {
      "cell_type": "markdown",
      "metadata": {
        "id": "view-in-github",
        "colab_type": "text"
      },
      "source": [
        "<a href=\"https://colab.research.google.com/github/pcarbo/qBio9_stuff/blob/main/basic_computing_qbio9.ipynb\" target=\"_parent\"><img src=\"https://colab.research.google.com/assets/colab-badge.svg\" alt=\"Open In Colab\"/></a>"
      ]
    },
    {
      "cell_type": "markdown",
      "source": [
        "A call to computing\n",
        "-------------------\n",
        "\n",
        "The first computer I learned to program on was an [Apple IIc](https://en.wikipedia.org/wiki/Apple_IIc). Computing has changed a lot since then.\n",
        "\n",
        "$x = y^2$"
      ],
      "metadata": {
        "id": "JaXA1lDFcH7G"
      }
    },
    {
      "cell_type": "markdown",
      "source": [],
      "metadata": {
        "id": "RJspMaXVcG4o"
      }
    },
    {
      "cell_type": "code",
      "source": [],
      "metadata": {
        "id": "XruWYUy5cT23"
      },
      "execution_count": null,
      "outputs": []
    }
  ]
}