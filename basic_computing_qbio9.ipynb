{
  "nbformat": 4,
  "nbformat_minor": 0,
  "metadata": {
    "colab": {
      "provenance": [],
      "toc_visible": true,
      "authorship_tag": "ABX9TyMNqO+mcQ/dLqsHZPx9QS9r",
      "include_colab_link": true
    },
    "kernelspec": {
      "name": "ir",
      "display_name": "R"
    },
    "language_info": {
      "name": "R"
    }
  },
  "cells": [
    {
      "cell_type": "markdown",
      "metadata": {
        "id": "view-in-github",
        "colab_type": "text"
      },
      "source": [
        "<a href=\"https://colab.research.google.com/github/pcarbo/qBio9_stuff/blob/main/basic_computing_qbio9.ipynb\" target=\"_parent\"><img src=\"https://colab.research.google.com/assets/colab-badge.svg\" alt=\"Open In Colab\"/></a>"
      ]
    },
    {
      "cell_type": "markdown",
      "source": [
        "Some initial notes about computing\n",
        "----------------------------------\n",
        "\n",
        "The first computer I learned to program on was an [Apple IIc](https://en.wikipedia.org/wiki/Apple_IIc). Things have changed a lot since then. Some highlights include:\n",
        "\n",
        "+ Computing has become highly distributed. (Most likely, a lot of the data for your research will be stored in computers that are very far away from you, and yet you can access these data in seconds. And you can even *analyze your data* on computers far away that you cannot see or touch.)\n",
        "\n",
        "+ The world of computing has expanded enormously in scope and variety, and [computing technology continues to change rapidly](https://catalog.lib.uchicago.edu/vufind/Record/10996185).\n",
        "\n",
        "+ [Interactive programming](https://py.mit.edu/spring23/labs/lisp_1) has become a predominant mode for doing computing, in particular for analyzing data.\n",
        "\n",
        "+ Scientific computing tools, data sets and papers are increasingly **open**. (See [the NIH's new policy on sharing data](https://oir.nih.gov/sourcebook/intramural-program-oversight/intramural-data-sharing/2023-nih-data-management-sharing-policy).)\n",
        "\n",
        "How should we navigate this complex computing world for our research?\n",
        "Here are a few ideas:\n",
        "\n",
        "+ *As scientists* navigating this complex computing world, we should strive to understand, and check that our understanding is correct.\n",
        "\n",
        "+ Simple tools that we understand are sometimes more helpful than complex tools that we don't understand.\n",
        "\n",
        "+ The ability to organize your work, and make it *human accessible*, is now more important than ever. (See: git, HTML, [workflowr](https://doi.org/10.12688/f1000research.20843.1)).\n",
        "\n",
        "+ We should learn from each other (no single person is an authority)."
      ],
      "metadata": {
        "id": "JaXA1lDFcH7G"
      }
    },
    {
      "cell_type": "markdown",
      "source": [
        "What is this document?\n",
        "----------------------\n",
        "\n",
        "This is a *jupyter notebook.*\n",
        "\n",
        "*More text here.*"
      ],
      "metadata": {
        "id": "r8oEgIlyqRHD"
      }
    },
    {
      "cell_type": "markdown",
      "source": [
        "How should I use this document?\n",
        "-------------------------------\n",
        "\n",
        "*Add text here.*"
      ],
      "metadata": {
        "id": "M8Thuy9ttXw3"
      }
    },
    {
      "cell_type": "markdown",
      "source": [],
      "metadata": {
        "id": "RJspMaXVcG4o"
      }
    },
    {
      "cell_type": "code",
      "source": [
        "hist(rnorm(1000),n = 32)"
      ],
      "metadata": {
        "colab": {
          "base_uri": "https://localhost:8080/",
          "height": 437
        },
        "id": "XruWYUy5cT23",
        "outputId": "17c723bc-3391-4655-eeac-53cd20a43dfe"
      },
      "execution_count": 1,
      "outputs": [
        {
          "output_type": "display_data",
          "data": {
            "text/plain": [
              "Plot with title “Histogram of rnorm(1000)”"
            ],
            "image/png": "[encoded data removed]"
          },
          "metadata": {
            "image/png": {
              "width": 420,
              "height": 420
            }
          }
        }
      ]
    },
    {
      "cell_type": "code",
      "source": [
        "sd(rnorm(1000))"
      ],
      "metadata": {
        "colab": {
          "base_uri": "https://localhost:8080/",
          "height": 34
        },
        "id": "a5WJmKPyfquY",
        "outputId": "c4a67be9-ac3c-461f-dac5-cbf47510a6ff"
      },
      "execution_count": 2,
      "outputs": [
        {
          "output_type": "display_data",
          "data": {
            "text/html": [
              "1.02407425104037"
            ],
            "text/markdown": "1.02407425104037",
            "text/latex": "1.02407425104037",
            "text/plain": [
              "[1] 1.024074"
            ]
          },
          "metadata": {}
        }
      ]
    }
  ]
}