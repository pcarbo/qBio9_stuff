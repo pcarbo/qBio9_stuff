{
  "nbformat": 4,
  "nbformat_minor": 0,
  "metadata": {
    "colab": {
      "provenance": [],
      "toc_visible": true,
      "authorship_tag": "ABX9TyO+m/eqkaxmEeQoyqaztzxs",
      "include_colab_link": true
    },
    "kernelspec": {
      "name": "ir",
      "display_name": "R"
    },
    "language_info": {
      "name": "R"
    }
  },
  "cells": [
    {
      "cell_type": "markdown",
      "metadata": {
        "id": "view-in-github",
        "colab_type": "text"
      },
      "source": [
        "<a href=\"https://colab.research.google.com/github/pcarbo/qBio9_stuff/blob/main/basic_computing_qbio9.ipynb\" target=\"_parent\"><img src=\"https://colab.research.google.com/assets/colab-badge.svg\" alt=\"Open In Colab\"/></a>"
      ]
    },
    {
      "cell_type": "markdown",
      "source": [
        "Peter Carbonetto<br>\n",
        "University of Chicago<br>\n",
        "Chicago, IL<br>\n",
        "*Last modified on August 4, 2023*"
      ],
      "metadata": {
        "id": "4ZeIUdIfkX_A"
      }
    },
    {
      "cell_type": "markdown",
      "source": [
        "How this tutorial is organized\n",
        "==============================\n",
        "\n",
        "This tutorial is divided into three parts:\n",
        "\n",
        "+ In the first part, you will get comfortable with analyzing a (small) data set in R in two different computing spaces: (a) in a Jupyter notebook interface \"in the cloud\" (to be more precise, using a virtual machine provided by the Google Colab service), and (b) in RStudio on your laptop. This focus of this first part is understanding an important data structure in R, *the data frame*: what it is, how to use it, and understanding why it is so integral to performing data analyzes in R.\n",
        "\n",
        "+ In the second part, you will apply the skills developed in Part 1 to a (much) larger data set. One of the takeaways of this second part is that analyzing a very large data set in R is not much different than analyzing a small data set (both are data frames).\n",
        "\n",
        "+ In third part, you will improve your plotting skills in R, first for analyzing a small data set (but nonetheless very real data set from a *Genetics* paper), and later on a larger more complex data set (these data were from a *Nature Genetics* paper). For this, you will learn how to use a very powerful and widely used R package called ggplot2. (Data frames are again a central to ggplot2.)"
      ],
      "metadata": {
        "id": "Y7QQCIMMdn37"
      }
    },
    {
      "cell_type": "markdown",
      "source": [
        "Some initial notes about computing\n",
        "==================================\n",
        "\n",
        "The first computer I learned to program on was an [Apple IIc](https://en.wikipedia.org/wiki/Apple_IIc). Things have changed a lot since then:\n",
        "\n",
        "+ Computing has become *highly distributed and interconnected.* (Most likely, a lot of the data for your research will be stored in computers that are very far away from you, and yet you can access these data in seconds. And you can even *analyze your data* on computers far away that you cannot see or touch.)\n",
        "\n",
        "+ The world of computing has expanded enormously in scope and variety, and [computing technology continues to change rapidly](https://catalog.lib.uchicago.edu/vufind/Record/10996185).\n",
        "\n",
        "+ [Interactive programming](https://py.mit.edu/spring23/labs/lisp_1) (MATLAB, R, Python, Spark, *etc*) has become a predominant mode for doing computing, in particular for analyzing data.\n",
        "\n",
        "+ Scientific computing tools, data sets and publications are increasingly **open**. (See [the NIH's new policy on sharing data](https://oir.nih.gov/sourcebook/intramural-program-oversight/intramural-data-sharing/2023-nih-data-management-sharing-policy).)"
      ],
      "metadata": {
        "id": "JaXA1lDFcH7G"
      }
    },
    {
      "cell_type": "markdown",
      "source": [
        "How should we navigate this complex computing world for our research?\n",
        "\n",
        "+ **As scientists** navigating this complex computing world, we should strive to understand, and check that our understanding is correct.\n",
        "\n",
        "+ Learn the fundamentals, not just the specifics of the transitory technologies.\n",
        "\n",
        "+ Simple tools and workflows are *more robust* than complex tools and workflows.\n",
        "\n",
        "+ Be intentional in using tools: which will actually help me do good research and help me contribute to science?\n",
        "\n",
        "+ Make your work *human accessible*. This is now more important than ever. (See: HTML, git, [workflowr](https://doi.org/10.12688/f1000research.20843.1)).\n",
        "\n",
        "+ Learn from your colleages and peers (no single person is an authority)."
      ],
      "metadata": {
        "id": "mZFK0n6vxvQ6"
      }
    },
    {
      "cell_type": "markdown",
      "source": [
        "What in the **bleep** *is* this document?\n",
        "=========================================\n",
        "\n",
        "This is a *jupyter notebook.*\n",
        "\n",
        "A \"jupyter notebook\", confusingly, means two different things!\n",
        "\n",
        "One meaning: it is a document or a file, like a Word document or CSV file. This is a document divided into *cells*; each cell contains some code and results (numerical results, plots, *etc*) generated by running this code. (I call them \"chunks\" instead of \"cells\", but the idea is the same.)\n",
        "\n",
        "This document can encode other types of information:\n",
        "formatted text ([Markdown](https://daringfireball.net/projects/markdown/syntax)), mathematical equations, *etc*---in other words, the many of the types of information that you might want to document for your research!\n",
        "\n",
        "The information notebook is encoded in an open file format called [XML](https://github.com/pcarbo/qBio9_stuff/blob/main/basic_computing_qbio9.ipynb?short_path=481ca6b).\n",
        "\n",
        "But the Jupyter notebook file format is now also widely recognized, so for example [GitHub will show the contents of a Jupyter notebook in a more accessible and evocative way](https://github.com/pcarbo/qBio9_stuff/blob/main/basic_computing_qbio9.ipynb).\n",
        "\n",
        "The other meaning of Jupyter notebook: it is an **IDE** (short for \"integrated development environment\"). In short, it is a particular interface for doing your data analysis. You can access this IDE in Google Colab, or you can download this IDE on your computer [here](https://jupyter.org).\n",
        "\n",
        "Jupyter notebook IDE is different from the RStudio IDE; Each IDE has its benefits and limitations. *No single IDE is \"best\".*"
      ],
      "metadata": {
        "id": "r8oEgIlyqRHD"
      }
    },
    {
      "cell_type": "markdown",
      "source": [
        "How should I use this document?\n",
        "===============================\n",
        "\n",
        "Perhaps the simplest thing you can do is copy and paste chunks code, one cell at a time, into R, or into the Console in RStudio, and examine the outputs.\n",
        "(Please try this!)\n",
        "\n",
        "And of course you can open up this document in Jupyter notebook IDE and run the code it there. This would be more elegant than the copy-and-paste approach, but not necessarily \"better\".\n",
        "\n",
        "Quite remarkably, to start up a *virtual machine that runs on a server operated by Google.* Even more remarkably, this is done simply by open this link in your favourite browser:\n",
        "\n",
        "https://colab.research.google.com/github/pcarbo/qBio9_stuff/blob/main/basic_computing_qbio9.ipynb\n",
        "\n",
        "Once you have done this, run these two lines of code to check that you have a working virtual machine. (Yes, please do this!)"
      ],
      "metadata": {
        "id": "M8Thuy9ttXw3"
      }
    },
    {
      "cell_type": "code",
      "source": [
        "x <- rnorm(200)\n",
        "hist(x,n = 32)"
      ],
      "metadata": {
        "id": "XruWYUy5cT23",
        "colab": {
          "base_uri": "https://localhost:8080/",
          "height": 437
        },
        "outputId": "b5543809-faff-4f0e-dbbf-b88caa4beac4"
      },
      "execution_count": null,
      "outputs": [
        {
          "output_type": "display_data",
          "data": {
            "text/plain": [
              "Plot with title “Histogram of x”"
            ],
            "image/png": "[encoded data removed]"
          },
          "metadata": {
            "image/png": {
              "width": 420,
              "height": 420
            }
          }
        }
      ]
    },
    {
      "cell_type": "markdown",
      "source": [
        "You may notice that your histogram is not the same as mine. Why not? How can we ensure that they are the same?"
      ],
      "metadata": {
        "id": "87EJ9_qrBhXg"
      }
    },
    {
      "cell_type": "markdown",
      "source": [
        "**Note:** I run this every time in Jupyter notebook or Google Colab to make the code outputs look like they do in RStudio."
      ],
      "metadata": {
        "id": "HpU8htieezCS"
      }
    },
    {
      "cell_type": "code",
      "source": [
        "options(jupyter.rich_display = FALSE)"
      ],
      "metadata": {
        "id": "fMKN74J1ezJD"
      },
      "execution_count": null,
      "outputs": []
    },
    {
      "cell_type": "markdown",
      "source": [
        "An invitation\n",
        "=============\n",
        "\n",
        "My Jupyter notebook is *an invitation* to enter my computing environment and run the computations *exactly as I did*. So I am not only sharing the code, the data, and the results produced by the code and data, but also the *computing context* in which the data analysis was developed."
      ],
      "metadata": {
        "id": "xq9VkZdp7C5f"
      }
    },
    {
      "cell_type": "markdown",
      "source": [
        "My data analysis, briefly\n",
        "=========================\n",
        "\n",
        "Here is my data analysis. It is an analysis of data from a [2008 *Genetics* article](https://doi.org/10.1534/genetics.108.087866) on the genetics of dog breeds. We will use this analysis as a jumping point to learn about R. But before we try to understand what the code is doing, let's start by *trying to run the code and reproduce the analysis.*"
      ],
      "metadata": {
        "id": "kpvafZU0WB0J"
      }
    },
    {
      "cell_type": "markdown",
      "source": [
        "The code is split into two chunks.\n",
        "\n",
        "The first code chunk retrieves  what we need (the data and the R packages) to run the analysis:"
      ],
      "metadata": {
        "id": "cEALKzOK6L-3"
      }
    },
    {
      "cell_type": "code",
      "source": [
        "system(\"wget https://raw.githubusercontent.com/pcarbo/qBio9_stuff/main/dogs.csv\")\n",
        "list.files()\n",
        "install.packages(\"ggplot2\")\n",
        "install.packages(\"ggrepel\")\n",
        "install.packages(\"cowplot\")\n",
        "install.packages(\"repr\")"
      ],
      "metadata": {
        "id": "YwRvSgZAWZ81",
        "colab": {
          "base_uri": "https://localhost:8080/",
          "height": 255
        },
        "outputId": "5a40ebe8-abdb-4239-808c-2b1f3ba8d9e0"
      },
      "execution_count": 2,
      "outputs": [
        {
          "output_type": "display_data",
          "data": {
            "text/html": [
              "<style>\n",
              ".list-inline {list-style: none; margin:0; padding: 0}\n",
              ".list-inline>li {display: inline-block}\n",
              ".list-inline>li:not(:last-child)::after {content: \"\\00b7\"; padding: 0 .5ex}\n",
              "</style>\n",
              "<ol class=list-inline><li>'dogs.csv'</li><li>'dogs.csv.1'</li><li>'sample_data'</li></ol>\n"
            ],
            "text/markdown": "1. 'dogs.csv'\n2. 'dogs.csv.1'\n3. 'sample_data'\n\n\n",
            "text/latex": "\\begin{enumerate*}\n\\item 'dogs.csv'\n\\item 'dogs.csv.1'\n\\item 'sample\\_data'\n\\end{enumerate*}\n",
            "text/plain": [
              "[1] \"dogs.csv\"    \"dogs.csv.1\"  \"sample_data\""
            ]
          },
          "metadata": {}
        },
        {
          "output_type": "stream",
          "name": "stderr",
          "text": [
            "Installing package into ‘/usr/local/lib/R/site-library’\n",
            "(as ‘lib’ is unspecified)\n",
            "\n",
            "Installing package into ‘/usr/local/lib/R/site-library’\n",
            "(as ‘lib’ is unspecified)\n",
            "\n",
            "Installing package into ‘/usr/local/lib/R/site-library’\n",
            "(as ‘lib’ is unspecified)\n",
            "\n",
            "Installing package into ‘/usr/local/lib/R/site-library’\n",
            "(as ‘lib’ is unspecified)\n",
            "\n"
          ]
        }
      ]
    },
    {
      "cell_type": "markdown",
      "source": [
        "The second chunk runs the analysis:"
      ],
      "metadata": {
        "id": "_ehmx4CB6mXT"
      }
    },
    {
      "cell_type": "code",
      "source": [
        "library(\"ggplot2\")\n",
        "library(\"ggrepel\")\n",
        "library(\"cowplot\")\n",
        "library(\"repr\")\n",
        "dogs <- read.csv(\"dogs.csv\",stringsAsFactors = FALSE)\n",
        "fit <- lm(aod ~ weight,dogs)\n",
        "summary(fit)\n",
        "a <- coef(fit)[\"weight\"]\n",
        "b <- coef(fit)[\"(Intercept)\"]\n",
        "options(repr.plot.width = 4,repr.plot.height = 4,repr.plot.res = 150)\n",
        "p <- ggplot(dogs,aes(x = weight,y = aod,label = breed)) +\n",
        "  geom_point(size = 2) +\n",
        "  geom_text_repel() +\n",
        "  geom_abline(slope = a,intercept = b,col = \"magenta\",\n",
        "              linewidth = 1,linetype = \"dashed\") +\n",
        "  labs(x = \"body weight (lbs)\",y = \"longevity (years)\") +\n",
        "  theme_cowplot()\n",
        "p"
      ],
      "metadata": {
        "id": "BVRrp6SeYCWI",
        "colab": {
          "base_uri": "https://localhost:8080/",
          "height": 684
        },
        "outputId": "b9b3c666-0c9f-4374-e609-a0f7f9b36b98"
      },
      "execution_count": 5,
      "outputs": [
        {
          "output_type": "display_data",
          "data": {
            "text/plain": [
              "\n",
              "Call:\n",
              "lm(formula = aod ~ weight, data = dogs)\n",
              "\n",
              "Residuals:\n",
              "    Min      1Q  Median      3Q     Max \n",
              "-4.0786 -0.7385  0.1788  1.0208  3.3865 \n",
              "\n",
              "Coefficients:\n",
              "             Estimate Std. Error t value Pr(>|t|)    \n",
              "(Intercept) 14.113398   0.216519   65.18   <2e-16 ***\n",
              "weight      -0.035704   0.003557  -10.04   <2e-16 ***\n",
              "---\n",
              "Signif. codes:  0 ‘***’ 0.001 ‘**’ 0.01 ‘*’ 0.05 ‘.’ 0.1 ‘ ’ 1\n",
              "\n",
              "Residual standard error: 1.395 on 118 degrees of freedom\n",
              "Multiple R-squared:  0.4605,\tAdjusted R-squared:  0.456 \n",
              "F-statistic: 100.7 on 1 and 118 DF,  p-value: < 2.2e-16\n"
            ]
          },
          "metadata": {}
        },
        {
          "output_type": "stream",
          "name": "stderr",
          "text": [
            "Warning message:\n",
            "“ggrepel: 75 unlabeled data points (too many overlaps). Consider increasing max.overlaps”\n"
          ]
        },
        {
          "output_type": "display_data",
          "data": {
            "text/plain": [
              "plot without title"
            ],
            "image/png": "[encoded data removed]"
          },
          "metadata": {
            "image/png": {
              "width": 300,
              "height": 300
            }
          }
        }
      ]
    },
    {
      "cell_type": "markdown",
      "source": [
        "I hope you were able to run the analysis successfully! Try running it in Google Colab and in RStudio.\n",
        "\n",
        "Now we will run the *same analysis again*. But this time we will do so more carefully and try to understand what each line of code does.\n",
        "\n",
        "First, let's clear the variables from our R environment to start the analysis with a fresh environment."
      ],
      "metadata": {
        "id": "wrgQt96J6xvY"
      }
    },
    {
      "cell_type": "code",
      "source": [
        "rm(list = ls())"
      ],
      "metadata": {
        "id": "qcm7hyEz70Zn"
      },
      "execution_count": 3,
      "outputs": []
    },
    {
      "cell_type": "markdown",
      "source": [
        "A data analysis, in detail\n",
        "==========================\n",
        "\n",
        "Let's now carefully walk through the analysis of the dogs data."
      ],
      "metadata": {
        "id": "7I-25Oqu7oL1"
      }
    },
    {
      "cell_type": "markdown",
      "source": [
        "Retrieve the data\n",
        "-----------------\n",
        "\n",
        "A key ingredient of course is the data set. I put the data set in the same GitHub repository where this Jupyter notebook is stored. We need to copy it to the virtual machine to use it here. There are a number of ways to do this. I chose to use the shell command \"wget\" to be transparent about what is going on: (1) wget downloads the file to R's working directory; (2) the working directory is currently `/content`."
      ],
      "metadata": {
        "id": "6UxG4AWnV8NG"
      }
    },
    {
      "cell_type": "code",
      "source": [
        "getwd()\n",
        "system(\"wget https://raw.githubusercontent.com/pcarbo/qBio9_stuff/main/dogs.csv\")\n",
        "list.files()"
      ],
      "metadata": {
        "id": "X0OtrKLDGmKH",
        "colab": {
          "base_uri": "https://localhost:8080/",
          "height": 52
        },
        "outputId": "95aa7646-1008-453e-98c5-4c99b832aa1c"
      },
      "execution_count": 7,
      "outputs": [
        {
          "output_type": "display_data",
          "data": {
            "text/html": [
              "'/content'"
            ],
            "text/markdown": "'/content'",
            "text/latex": "'/content'",
            "text/plain": [
              "[1] \"/content\""
            ]
          },
          "metadata": {}
        },
        {
          "output_type": "display_data",
          "data": {
            "text/html": [
              "<style>\n",
              ".list-inline {list-style: none; margin:0; padding: 0}\n",
              ".list-inline>li {display: inline-block}\n",
              ".list-inline>li:not(:last-child)::after {content: \"\\00b7\"; padding: 0 .5ex}\n",
              "</style>\n",
              "<ol class=list-inline><li>'dogs.csv'</li><li>'dogs.csv.1'</li><li>'dogs.csv.2'</li><li>'dogs.csv.3'</li><li>'sample_data'</li></ol>\n"
            ],
            "text/markdown": "1. 'dogs.csv'\n2. 'dogs.csv.1'\n3. 'dogs.csv.2'\n4. 'dogs.csv.3'\n5. 'sample_data'\n\n\n",
            "text/latex": "\\begin{enumerate*}\n\\item 'dogs.csv'\n\\item 'dogs.csv.1'\n\\item 'dogs.csv.2'\n\\item 'dogs.csv.3'\n\\item 'sample\\_data'\n\\end{enumerate*}\n",
            "text/plain": [
              "[1] \"dogs.csv\"    \"dogs.csv.1\"  \"dogs.csv.2\"  \"dogs.csv.3\"  \"sample_data\""
            ]
          },
          "metadata": {}
        }
      ]
    },
    {
      "cell_type": "markdown",
      "source": [
        "Install packages\n",
        "----------------\n",
        "\n",
        "Next, we download and install some R packages from CRAN. This only needs to be done once (so we don't really need to do again since we already did it above)."
      ],
      "metadata": {
        "id": "0gpvFE9FJX9G"
      }
    },
    {
      "cell_type": "code",
      "source": [
        "install.packages(\"ggplot2\")\n",
        "install.packages(\"ggrepel\")\n",
        "install.packages(\"cowplot\")\n",
        "install.packages(\"repr\")"
      ],
      "metadata": {
        "id": "PPoEivQUJYZS",
        "colab": {
          "base_uri": "https://localhost:8080/"
        },
        "outputId": "ec3c2da3-1d69-4480-b302-3837f60c92d7"
      },
      "execution_count": 8,
      "outputs": [
        {
          "output_type": "stream",
          "name": "stderr",
          "text": [
            "Installing package into ‘/usr/local/lib/R/site-library’\n",
            "(as ‘lib’ is unspecified)\n",
            "\n",
            "Installing package into ‘/usr/local/lib/R/site-library’\n",
            "(as ‘lib’ is unspecified)\n",
            "\n",
            "Installing package into ‘/usr/local/lib/R/site-library’\n",
            "(as ‘lib’ is unspecified)\n",
            "\n",
            "Installing package into ‘/usr/local/lib/R/site-library’\n",
            "(as ‘lib’ is unspecified)\n",
            "\n"
          ]
        }
      ]
    },
    {
      "cell_type": "markdown",
      "source": [
        "Load packages\n",
        "-------------\n",
        "\n",
        "The functions and other resources in an R package are not available to us in our current session until we tell R that we want to use the package:"
      ],
      "metadata": {
        "id": "drluujR9KKed"
      }
    },
    {
      "cell_type": "code",
      "source": [
        "library(\"ggplot2\")\n",
        "library(\"ggrepel\")\n",
        "library(\"cowplot\")\n",
        "library(\"repr\")"
      ],
      "metadata": {
        "id": "ICXYiaUnKFCk"
      },
      "execution_count": 10,
      "outputs": []
    },
    {
      "cell_type": "markdown",
      "source": [
        "Although we don't make use of these packages immediately, it is good practice to load the packages at the beginning so that we are upfront about what we need to run the analysis. This is part of a larger theme about *documenting the minimum requirements for an analysis.* The `sessionInfo()` function gives us more info about our computing environment, and which R packages were used in the analysis:"
      ],
      "metadata": {
        "id": "EqgXIm_XPCkV"
      }
    },
    {
      "cell_type": "code",
      "source": [
        "sessionInfo()"
      ],
      "metadata": {
        "colab": {
          "base_uri": "https://localhost:8080/",
          "height": 678
        },
        "id": "wzeL2muLPRt5",
        "outputId": "9922f852-96d8-4d1c-d292-70aa9e04436a"
      },
      "execution_count": 11,
      "outputs": [
        {
          "output_type": "display_data",
          "data": {
            "text/plain": [
              "R version 4.3.1 (2023-06-16)\n",
              "Platform: x86_64-pc-linux-gnu (64-bit)\n",
              "Running under: Ubuntu 22.04.2 LTS\n",
              "\n",
              "Matrix products: default\n",
              "BLAS:   /usr/lib/x86_64-linux-gnu/openblas-pthread/libblas.so.3 \n",
              "LAPACK: /usr/lib/x86_64-linux-gnu/openblas-pthread/libopenblasp-r0.3.20.so;  LAPACK version 3.10.0\n",
              "\n",
              "locale:\n",
              " [1] LC_CTYPE=en_US.UTF-8       LC_NUMERIC=C              \n",
              " [3] LC_TIME=en_US.UTF-8        LC_COLLATE=en_US.UTF-8    \n",
              " [5] LC_MONETARY=en_US.UTF-8    LC_MESSAGES=en_US.UTF-8   \n",
              " [7] LC_PAPER=en_US.UTF-8       LC_NAME=C                 \n",
              " [9] LC_ADDRESS=C               LC_TELEPHONE=C            \n",
              "[11] LC_MEASUREMENT=en_US.UTF-8 LC_IDENTIFICATION=C       \n",
              "\n",
              "time zone: Etc/UTC\n",
              "tzcode source: system (glibc)\n",
              "\n",
              "attached base packages:\n",
              "[1] stats     graphics  grDevices utils     datasets  methods   base     \n",
              "\n",
              "other attached packages:\n",
              "[1] repr_1.1.6    cowplot_1.1.1 ggrepel_0.9.3 ggplot2_3.4.2\n",
              "\n",
              "loaded via a namespace (and not attached):\n",
              " [1] crayon_1.5.2     vctrs_0.6.3      cli_3.6.1        rlang_1.1.1     \n",
              " [5] generics_0.1.3   jsonlite_1.8.7   labeling_0.4.2   glue_1.6.2      \n",
              " [9] colorspace_2.1-0 htmltools_0.5.5  IRdisplay_1.1    IRkernel_1.3.2  \n",
              "[13] scales_1.2.1     fansi_1.0.4      grid_4.3.1       evaluate_0.21   \n",
              "[17] munsell_0.5.0    tibble_3.2.1     fastmap_1.1.1    base64enc_0.1-3 \n",
              "[21] lifecycle_1.0.3  compiler_4.3.1   dplyr_1.1.2      Rcpp_1.0.11     \n",
              "[25] pkgconfig_2.0.3  farver_2.1.1     pbdZMQ_0.3-9     digest_0.6.33   \n",
              "[29] R6_2.5.1         tidyselect_1.2.0 utf8_1.2.3       pillar_1.9.0    \n",
              "[33] magrittr_2.0.3   withr_2.5.0      uuid_1.1-0       tools_4.3.1     \n",
              "[37] gtable_0.3.3    "
            ]
          },
          "metadata": {}
        }
      ]
    },
    {
      "cell_type": "markdown",
      "source": [
        "You may have figured this out already, nonetheless it is important to note that the *order in which you run the code chunks matters.* The convention in a Jupyter notebook is that code chunks are executed from top to bottom, and you should follow this convention when designing your notebook. But surprisingly Jupyter does not stop you from trying to execute the code chunks in a different order, and this, unfortunately, is a very frequent source of confusion.  "
      ],
      "metadata": {
        "id": "VbgqUOVJUkP4"
      }
    },
    {
      "cell_type": "markdown",
      "source": [
        "Import the data into R as a data frame\n",
        "--------------------------------------\n",
        "\n",
        "The dogs data are stored in a [CSV file](https://github.com/pcarbo/qBio9_stuff/blob/main/dogs.csv). We use the `read.csv` function to *import the data into a data structure that is convenient for analysis in R.* (Note this command will only work if your R working directory is the same as the directory containing `dogs.csv`.) Although this is a single line of code, there is a lot going on under the surface."
      ],
      "metadata": {
        "id": "hyxBg12xK4fZ"
      }
    },
    {
      "cell_type": "code",
      "source": [
        "dogs <- read.csv(\"dogs.csv\",stringsAsFactors = FALSE)"
      ],
      "metadata": {
        "id": "Cj8NQoFyK5db"
      },
      "execution_count": null,
      "outputs": []
    },
    {
      "cell_type": "markdown",
      "source": [
        "Let's deconstruct what we did:\n",
        "\n",
        "1. We called function `read.csv`. This is a flexible function that can do many, many things, and has many options. To learn more, run `help(read.csv)`. For now, it suffices to know that we set the \"file\" argument to `\"dogs.csv\"`, and we set the `stringsAsFactors` argument to FALSE. (In time we will understand why, but to understand why we first need to understand what *factors* are.)"
      ],
      "metadata": {
        "id": "pMrGqhZiMlft"
      }
    },
    {
      "cell_type": "markdown",
      "source": [
        "2. The output of `read.csv` is assigned to an object in our R environment which we have called \"dogs\". If the object does not exist already, it is created. If it does exist, it is overwritten. A common mistake is to forget to assign the output. What happens if we forget to do that?"
      ],
      "metadata": {
        "id": "mLVgwZ5ZN29x"
      }
    },
    {
      "cell_type": "code",
      "source": [
        "read.csv(\"dogs.csv\",stringsAsFactors = FALSE)"
      ],
      "metadata": {
        "id": "ztMpqGvHNyFw"
      },
      "execution_count": null,
      "outputs": []
    },
    {
      "cell_type": "markdown",
      "source": [
        "What if we had not used the double quotes for `\"dogs.csv\"`?"
      ],
      "metadata": {
        "id": "3U1WQ1k-OiIg"
      }
    },
    {
      "cell_type": "code",
      "source": [
        "dogs <- read.csv(dogs.csv,stringsAsFactors = FALSE)"
      ],
      "metadata": {
        "id": "8e18oESeOhN6"
      },
      "execution_count": null,
      "outputs": []
    },
    {
      "cell_type": "markdown",
      "source": [
        "What is this object? To find out, we can print out its contents:"
      ],
      "metadata": {
        "id": "kNRauLYqPNBj"
      }
    },
    {
      "cell_type": "code",
      "source": [
        "dogs"
      ],
      "metadata": {
        "id": "PxcxiBYPPK38"
      },
      "execution_count": null,
      "outputs": []
    },
    {
      "cell_type": "markdown",
      "source": [
        "Or we can summarize its contents:"
      ],
      "metadata": {
        "id": "KmLv8x2xPqoj"
      }
    },
    {
      "cell_type": "code",
      "source": [
        "summary(dogs)"
      ],
      "metadata": {
        "id": "HUE9afSbPsWl",
        "colab": {
          "base_uri": "https://localhost:8080/",
          "height": 311
        },
        "outputId": "b522879e-bbb5-4ca1-f791-b6d40d017a08"
      },
      "execution_count": null,
      "outputs": [
        {
          "output_type": "display_data",
          "data": {
            "text/plain": [
              "    breed                aod            height          weight      \n",
              " Length:120         Min.   : 6.20   Min.   : 6.00   Min.   :  5.00  \n",
              " Class :character   1st Qu.:11.15   1st Qu.:13.00   1st Qu.: 17.38  \n",
              " Mode  :character   Median :12.55   Median :19.00   Median : 46.38  \n",
              "                    Mean   :12.36   Mean   :18.73   Mean   : 49.23  \n",
              "                    3rd Qu.:13.50   3rd Qu.:24.62   3rd Qu.: 67.50  \n",
              "                    Max.   :17.00   Max.   :32.00   Max.   :160.00  \n",
              "                                                                    \n",
              "   shortcoat      cfa7_46696633bp \n",
              " Min.   :0.0000   Min.   :0.0000  \n",
              " 1st Qu.:0.0000   1st Qu.:0.3455  \n",
              " Median :0.0000   Median :0.6880  \n",
              " Mean   :0.3043   Mean   :0.6054  \n",
              " 3rd Qu.:1.0000   3rd Qu.:0.8800  \n",
              " Max.   :1.0000   Max.   :1.0000  \n",
              " NA's   :5        NA's   :1       "
            ]
          },
          "metadata": {}
        }
      ]
    },
    {
      "cell_type": "markdown",
      "source": [
        "`read.csv` in fact outputs a very special object called a *data frame:*"
      ],
      "metadata": {
        "id": "uXDCE8kxP498"
      }
    },
    {
      "cell_type": "code",
      "source": [
        "class(dogs)"
      ],
      "metadata": {
        "id": "8ebsmXPWP5Yg",
        "colab": {
          "base_uri": "https://localhost:8080/",
          "height": 34
        },
        "outputId": "9ee6a6e9-7ea4-4007-d794-9b21d36d641f"
      },
      "execution_count": null,
      "outputs": [
        {
          "output_type": "display_data",
          "data": {
            "text/html": [
              "'data.frame'"
            ],
            "text/markdown": "'data.frame'",
            "text/latex": "'data.frame'",
            "text/plain": [
              "[1] \"data.frame\""
            ]
          },
          "metadata": {}
        }
      ]
    },
    {
      "cell_type": "markdown",
      "source": [
        "A data frame is R's main data structure for storing *tabular data.* The data frame is one of the most important data structures in R, and is important enough that we will spend much of this tutorial seeking to understand how to work with and analyze the data in data frames. (Not all data of course is tabular data, but because so many things in R work well with data frames, it can be helpful to find ways to rework your data so that it fits into a data frame.)\n",
        "\n",
        "If you are used to the \"point-and-click\" way of doing things (e.g., in Excel), it may seem burdensome to have arrived at this point where we have written a bunch of code, and all we have done is printed the contents of the CSV to the screen. The advantages of R are less obvious when working with a small\n",
        "data set. Later, we will work with a larger data set."
      ],
      "metadata": {
        "id": "jcilcdePTxnt"
      }
    },
    {
      "cell_type": "markdown",
      "source": [
        "Perform a linear regression\n",
        "---------------------------\n",
        "\n",
        "The data frame contains a lot of interesting data, but I was particularly interested in studying the relationship between a breed's size (using the \"weight\" column) and the expected longevity (using the \"aod\" column, short for \"age of death\"). I used the `lm` function in R, which can be thought of as R's \"Swiss army knife\" for performing linear regression. (\"lm\" is short for \"linear model\", so `lm` is the main function in R for *fitting linear models.*)"
      ],
      "metadata": {
        "id": "E0viIJlgWX19"
      }
    },
    {
      "cell_type": "code",
      "source": [
        "fit <- lm(aod ~ weight,dogs)"
      ],
      "metadata": {
        "id": "bJczfg8-WQCl"
      },
      "execution_count": null,
      "outputs": []
    },
    {
      "cell_type": "markdown",
      "source": [
        "The output from `lm` is a particularly complex \"lm\" object:"
      ],
      "metadata": {
        "id": "vljnQ4ORag_c"
      }
    },
    {
      "cell_type": "code",
      "source": [
        "class(fit)"
      ],
      "metadata": {
        "colab": {
          "base_uri": "https://localhost:8080/",
          "height": 34
        },
        "id": "LIjjF7IrakJ3",
        "outputId": "2169468c-f1db-466e-fc63-aaa44baa7668"
      },
      "execution_count": null,
      "outputs": [
        {
          "output_type": "display_data",
          "data": {
            "text/html": [
              "'lm'"
            ],
            "text/markdown": "'lm'",
            "text/latex": "'lm'",
            "text/plain": [
              "[1] \"lm\""
            ]
          },
          "metadata": {}
        }
      ]
    },
    {
      "cell_type": "markdown",
      "source": [
        "Nonetheless, the `summary` function works on the output to give us lots of useful information about how the regression was conducted, and summarizes the key results:"
      ],
      "metadata": {
        "id": "9F2Glsuba6t-"
      }
    },
    {
      "cell_type": "code",
      "source": [
        "summary(fit)"
      ],
      "metadata": {
        "colab": {
          "base_uri": "https://localhost:8080/",
          "height": 348
        },
        "id": "xA--fPo0a77E",
        "outputId": "b7bb7404-eb8a-455c-b9ac-c13d1c236550"
      },
      "execution_count": null,
      "outputs": [
        {
          "output_type": "display_data",
          "data": {
            "text/plain": [
              "\n",
              "Call:\n",
              "lm(formula = aod ~ weight, data = dogs)\n",
              "\n",
              "Residuals:\n",
              "    Min      1Q  Median      3Q     Max \n",
              "-4.0786 -0.7385  0.1788  1.0208  3.3865 \n",
              "\n",
              "Coefficients:\n",
              "             Estimate Std. Error t value Pr(>|t|)    \n",
              "(Intercept) 14.113398   0.216519   65.18   <2e-16 ***\n",
              "weight      -0.035704   0.003557  -10.04   <2e-16 ***\n",
              "---\n",
              "Signif. codes:  0 ‘***’ 0.001 ‘**’ 0.01 ‘*’ 0.05 ‘.’ 0.1 ‘ ’ 1\n",
              "\n",
              "Residual standard error: 1.395 on 118 degrees of freedom\n",
              "Multiple R-squared:  0.4605,\tAdjusted R-squared:  0.456 \n",
              "F-statistic: 100.7 on 1 and 118 DF,  p-value: < 2.2e-16\n"
            ]
          },
          "metadata": {}
        }
      ]
    },
    {
      "cell_type": "markdown",
      "source": [
        "There are other more specialized functions designed to work with `lm` (and other statistical analyses), for example `coef` which extracts a vector containing the least-squares estimates of the coefficients (which in this case is the slope and intercept since we have fit a line)."
      ],
      "metadata": {
        "id": "kG8diOBNbOpn"
      }
    },
    {
      "cell_type": "code",
      "source": [
        "coef(fit)"
      ],
      "metadata": {
        "colab": {
          "base_uri": "https://localhost:8080/",
          "height": 34
        },
        "id": "jg3CRYgAbOyk",
        "outputId": "de03d163-1b8a-495b-9a28-7f9ccd8a412f"
      },
      "execution_count": null,
      "outputs": [
        {
          "output_type": "display_data",
          "data": {
            "text/html": [
              "<style>\n",
              ".dl-inline {width: auto; margin:0; padding: 0}\n",
              ".dl-inline>dt, .dl-inline>dd {float: none; width: auto; display: inline-block}\n",
              ".dl-inline>dt::after {content: \":\\0020\"; padding-right: .5ex}\n",
              ".dl-inline>dt:not(:first-of-type) {padding-left: .5ex}\n",
              "</style><dl class=dl-inline><dt>(Intercept)</dt><dd>14.1133978871712</dd><dt>weight</dt><dd>-0.0357037485545949</dd></dl>\n"
            ],
            "text/markdown": "(Intercept)\n:   14.1133978871712weight\n:   -0.0357037485545949\n\n",
            "text/latex": "\\begin{description*}\n\\item[(Intercept)] 14.1133978871712\n\\item[weight] -0.0357037485545949\n\\end{description*}\n",
            "text/plain": [
              "(Intercept)      weight \n",
              "14.11339789 -0.03570375 "
            ]
          },
          "metadata": {}
        }
      ]
    },
    {
      "cell_type": "markdown",
      "source": [
        "Learning to use `lm` is a mini-expertise in itself—many of you may have done a lot of coding R without ever using `lm`. Not only is the syntax unusual, but `lm`. You can of course learn about `lm` by running `help(lm)`, which opens up the official documentation, but if you are using it for the first time, it is more helpful to learn from some tutorials. For example, I first learned by reading Chapter 6 from Peter Dalgaard's book,\n",
        "[Introductory Statistics with R](https://catalog.lib.uchicago.edu/vufind/Record/11957555). `lm` has many, many options (i.e., Swiss army knife), with many \"helper functions\" and you don't need to know everything, but you need to know \"enough\" to be able to use it correctly. And course beyond knowing how to use the function `lm`, to use it to analyze your data you also need to have some intuition for the statistical ideas, such as what it means to \"fit\" a linear regression to data, and what the confidence intervals and *p*-values represent\n",
        "\n",
        "Our call `lm` call is illustrative of many things in R that involve a mini-expertise. There will be some R functions that will be particularly important to your work, and you will become a mini-expert in those functions. For example, if you work with single-cell data, you might gain an expertise in the `umap` function from [the package uwot](https://github.com/jlmelville/uwot) to visualize your data.\n",
        "\n",
        "The World of R is now so vast that none of us can possibly be experts in all functions in R. But you do not need to be an expert in all areas to benefit from these specialized functions. For example, even if you didn't understand the syntax in the call to `lm`—and I did not expect you to!—the basic rules of R still apply; for example, we see that `lm` generated an output, and `summary` worked well to produce a more accessible summary of the result."
      ],
      "metadata": {
        "id": "Juts6_yfX0l1"
      }
    },
    {
      "cell_type": "markdown",
      "source": [
        "Visualize the linear regression result\n",
        "--------------------------------------\n",
        "\n",
        "Almost any data analysis includes some sort of visualization. One particularly powerful way to visualize your data analysis is to combine the data with the results of your analysis (the fit of the linear model), as we do here."
      ],
      "metadata": {
        "id": "aGC9OTQ4fYcL"
      }
    },
    {
      "cell_type": "code",
      "source": [
        "a <- coef(fit)[\"weight\"]\n",
        "b <- coef(fit)[\"(Intercept)\"]\n",
        "options(repr.plot.width = 4,repr.plot.height = 4,repr.plot.res = 150)\n",
        "p <- ggplot(dogs,aes(x = weight,y = aod,label = breed)) +\n",
        "  geom_point(size = 2) +\n",
        "  geom_text_repel() +\n",
        "  geom_abline(slope = a,intercept = b,col = \"magenta\",\n",
        "              linewidth = 1,linetype = \"dashed\") +\n",
        "  labs(x = \"body weight (lbs)\",y = \"longevity (years)\") +\n",
        "  theme_cowplot()\n",
        "p"
      ],
      "metadata": {
        "colab": {
          "base_uri": "https://localhost:8080/",
          "height": 354
        },
        "id": "9LwX7jQHfYnf",
        "outputId": "f3f79733-90ba-4824-fc6f-deb8505ca13f"
      },
      "execution_count": null,
      "outputs": [
        {
          "output_type": "stream",
          "name": "stderr",
          "text": [
            "Warning message:\n",
            "“ggrepel: 75 unlabeled data points (too many overlaps). Consider increasing max.overlaps”\n"
          ]
        },
        {
          "output_type": "display_data",
          "data": {
            "text/plain": [
              "plot without title"
            ],
            "image/png": "[encoded data removed]"
          },
          "metadata": {
            "image/png": {
              "width": 300,
              "height": 300
            }
          }
        }
      ]
    },
    {
      "cell_type": "markdown",
      "source": [
        "This plot shows how well the line fits the data, and highlights *outliers*, that is the breeds that are furthest away from the trend line.\n",
        "\n",
        "Let's talk about this code. Again, this code looks very different from other R code. Indeed, this syntax is particular to the [ggplot2 package](ggplot2.tidyverse.org). We will learn more about ggplot2 later.\n",
        "\n",
        "In fact, this code actually uses three different packages: ggplot2, and two packages *that extend ggplot2*, cowplot and ggrepel.\n",
        "\n",
        "This illustrates that R code, even only a few lines of code, can quickly get quite complex, involving the interplay of multiple R packages, each of which has its own learning curve. The lesson here is that R code exists along a spectrum of complexity, from simple lines of code that involve the basic syntax to complex lines of code that involve specialized packages and many-featured functions. The latter will take more time and patience to get comfortable with."
      ],
      "metadata": {
        "id": "qwf6xFTb0AUx"
      }
    },
    {
      "cell_type": "markdown",
      "source": [
        "Tending to your \"gaRden\"\n",
        "========================\n",
        "\n",
        "A Jupyter notebook proceeds in a linear fashion, building your analysis over time: it starts with loading the packages, importing the data, perhaps some steps to prepare your data for the more complex analyses, executing the analyss, followed by visualization and interpretation.\n",
        "\n",
        "The problem is that this does not give us a full accounting of *what is actually going on.* What is actually going on is that every line of code is acting on your R environment: it is taking objects that are already in your environment, and using them to generate new objects, or modify existing objects. I think of this as \"tending to your gaRden\" (your R environment is the garden, and the objects are the fruits, vegetables and flowers in your garden).\n",
        "\n",
        "This idea of \"tending to your garden\" is not specific to R—this same notion plays in all *interactive programming languages*, which include Python, MATLAB and Julia. In other words, to understand any line of code in an interactive programming laguage, you need to understand not only the code itself, but also *the state of your environment the moment before you run your code:* the objects that are in your environment and what they represent. This aspect is unfortunately hidden from your Jupyter notebook, and therefore an important skill as a coder is to tend to your garden."
      ],
      "metadata": {
        "id": "G7V88WwW4Dtt"
      }
    },
    {
      "cell_type": "markdown",
      "source": [
        "The `objects` function lists the names of the objects in your environment:"
      ],
      "metadata": {
        "id": "MD4e5sul6qYf"
      }
    },
    {
      "cell_type": "code",
      "source": [
        "objects()"
      ],
      "metadata": {
        "colab": {
          "base_uri": "https://localhost:8080/",
          "height": 34
        },
        "id": "sN6ijScy3u6U",
        "outputId": "68d57680-2669-450d-f030-ead35f6b0719"
      },
      "execution_count": null,
      "outputs": [
        {
          "output_type": "display_data",
          "data": {
            "text/html": [
              "<style>\n",
              ".list-inline {list-style: none; margin:0; padding: 0}\n",
              ".list-inline>li {display: inline-block}\n",
              ".list-inline>li:not(:last-child)::after {content: \"\\00b7\"; padding: 0 .5ex}\n",
              "</style>\n",
              "<ol class=list-inline><li>'a'</li><li>'b'</li><li>'dogs'</li><li>'fit'</li><li>'p'</li></ol>\n"
            ],
            "text/markdown": "1. 'a'\n2. 'b'\n3. 'dogs'\n4. 'fit'\n5. 'p'\n\n\n",
            "text/latex": "\\begin{enumerate*}\n\\item 'a'\n\\item 'b'\n\\item 'dogs'\n\\item 'fit'\n\\item 'p'\n\\end{enumerate*}\n",
            "text/plain": [
              "[1] \"a\"    \"b\"    \"dogs\" \"fit\"  \"p\"   "
            ]
          },
          "metadata": {}
        }
      ]
    },
    {
      "cell_type": "markdown",
      "source": [
        "*What are these objects?*\n",
        "\n",
        "*How could we have named these objects to better remind us what these objects are?*\n",
        "\n",
        "*Are some of these objects \"more important\" than others?*"
      ],
      "metadata": {
        "id": "rKTy84PE7bGQ"
      }
    },
    {
      "cell_type": "markdown",
      "source": [
        "Mini-Practice: Create a Jupyter notebook in Google Colab\n",
        "========================================================\n",
        "\n",
        "Let's now try out some basic cloud computing skills. I want you to create, from scratch, your own notebook in Google Colab, add a few text cells and code cells. The aim is to reproduce the analysis of the dogs data above. Then save your notebook in Google Drive.\n",
        "\n",
        "Next, modify your notebook to instead analyze the slightly larger [\"more dogs\" data set](https://github.com/pcarbo/qBio9_stuff/blob/main/dogs_more.csv) that has data about a few more dog breeds. Then save your notebook in Google Drive.\n",
        "\n",
        "*Optional exercise:* Save a copy of your notebook in a git repository on GitHub, and include a link in your notebook so that others (and you) may easily start up their own virtual machine using the notebook that you created."
      ],
      "metadata": {
        "id": "VAp21tLv-1R-"
      }
    },
    {
      "cell_type": "markdown",
      "source": [
        "Mini-Practice: Create an R script in RStudio\n",
        "============================================\n",
        "\n",
        "Now let's try to reproduce our analysis of the dogs data in RStudio on our computers. In this exercise, we will create an *R script* in RStudio to analyze the data from `dogs.csv`. An R script is different from a Jupyter notebook because it only stores the code (it can also store accompanying text in \"comments\").\n",
        "\n",
        "In your script, you do not need to include steps to the install the packages and download the CSV file; you can run those steps separately.\n",
        "\n",
        "You may find that there are some differences between running the code on a Google Colab virtual machine and running the code in RStudio on your computer. What did you have to do differently in RStudio?\n",
        "\n",
        "Once you have created a working script, and have saved it somewhere on your computer, we will discuss different strategies for saving the results of our analysis in R.\n",
        "\n",
        "*Question:* What changes do you need to make to your script to analyze the slight larger data set, [dogs_more.csv](https://github.com/pcarbo/qBio9_stuff/blob/main/dogs_more.csv)?\n",
        "\n",
        "*Optional exercise:* Implement your analysis of the dogs data as an [R Markdown document](https://kbroman.org/knitr_knutshell/)."
      ],
      "metadata": {
        "id": "sg1rFiuYBfwC"
      }
    },
    {
      "cell_type": "markdown",
      "source": [
        "A brief tour of RStudio\n",
        "=======================\n",
        "\n",
        "For this part of the tutorial, I recommend using RStudio since it works better\n",
        "than a Jupyter notebook for freeform exploration.\n",
        "\n",
        "RStudio is an Integrated Development Environment (IDE) for R. The RStudio interface is split up into \"panels\", which include:\n",
        "\n",
        "1. **Console:** This is a panel containing an instance of R. For this\n",
        "tutorial, we will work mainly in this panel.\n",
        "\n",
        "2. **Source:** In this panel, you can write your code and save it to a\n",
        "file. The code and also be run from this panel, but the actual results\n",
        "show up in the console.\n",
        "\n",
        "3. **Environment:** This panel lists all the variables (objects) you\n",
        "created in your R environment.\n",
        "\n",
        "4. **History:** This gives you the history of the commands you typed.\n",
        "\n",
        "5. **Plots:** This panel shows you all the plots you drew.\n",
        "\n",
        "Other tabs allow you to access the list of packages you have loaded,\n",
        "and the help page for commands (e.g., type `help(p.adjust)` in the\n",
        "console)."
      ],
      "metadata": {
        "id": "Ure2iHIRmsOc"
      }
    },
    {
      "cell_type": "markdown",
      "source": [
        "Mini-Lab: Understanding and working with data frames\n",
        "====================================================\n",
        "\n",
        "The data frame is R's way of storing tabular data. It is one of the most important and more powerful data structures in R, and in this part of the tutorial we will take some time to understand data frames, and how to work with them. Although our focus here is on data frames, many of the ideas we will learn about here also apply to other data structures.\n",
        "\n",
        "I've divided this Mini-Lab into three parts:\n",
        "\n",
        "1. **Inspecting the data frame.** First we will learn how to use some basic commands to view different parts of the data frame.\n",
        "\n",
        "2. **Deconstructing the data frame.** We will take a second look at the laptops data frame, with a greater intention toward understanding R.\n",
        "\n",
        "3. **Programming Challenge:** You will put your new skills to work to solve some programming exercises involving the dogs data."
      ],
      "metadata": {
        "id": "PMMlB4HhQi7w"
      }
    },
    {
      "cell_type": "markdown",
      "source": [
        "Let's start this part of the tutorial with a clean environment."
      ],
      "metadata": {
        "id": "LkSaju47npL6"
      }
    },
    {
      "cell_type": "code",
      "source": [
        "rm(list = ls())"
      ],
      "metadata": {
        "id": "LS_VQLbCnnSV"
      },
      "execution_count": null,
      "outputs": []
    },
    {
      "cell_type": "markdown",
      "source": [
        "Now download and import the larger dogs data set:"
      ],
      "metadata": {
        "id": "GYXOrGPjnxzf"
      }
    },
    {
      "cell_type": "code",
      "source": [
        "system(\"wget https://raw.githubusercontent.com/pcarbo/qBio9_stuff/main/dogs_more.csv\")\n",
        "dogs <- read.csv(\"dogs_more.csv\",stringsAsFactors = FALSE)"
      ],
      "metadata": {
        "id": "duoEuntLn8e-"
      },
      "execution_count": null,
      "outputs": []
    },
    {
      "cell_type": "markdown",
      "source": [
        "To remind ourselves, let's print out the first few rows of the table:"
      ],
      "metadata": {
        "id": "8DDhFIByTmuM"
      }
    },
    {
      "cell_type": "code",
      "source": [
        "head(dogs)"
      ],
      "metadata": {
        "colab": {
          "base_uri": "https://localhost:8080/",
          "height": 286
        },
        "id": "JZbbKEZiTrsY",
        "outputId": "ce5b2075-25a2-4395-b71f-236ab053f01e"
      },
      "execution_count": null,
      "outputs": [
        {
          "output_type": "display_data",
          "data": {
            "text/html": [
              "<table class=\"dataframe\">\n",
              "<caption>A data.frame: 6 × 6</caption>\n",
              "<thead>\n",
              "\t<tr><th></th><th scope=col>breed</th><th scope=col>aod</th><th scope=col>height</th><th scope=col>weight</th><th scope=col>shortcoat</th><th scope=col>cfa7_46696633bp</th></tr>\n",
              "\t<tr><th></th><th scope=col>&lt;chr&gt;</th><th scope=col>&lt;dbl&gt;</th><th scope=col>&lt;dbl&gt;</th><th scope=col>&lt;dbl&gt;</th><th scope=col>&lt;int&gt;</th><th scope=col>&lt;dbl&gt;</th></tr>\n",
              "</thead>\n",
              "<tbody>\n",
              "\t<tr><th scope=row>1</th><td>Affenpinscher          </td><td>13.0</td><td>10.25</td><td>  8.0</td><td>0</td><td>0.375</td></tr>\n",
              "\t<tr><th scope=row>2</th><td>Afghan Hound           </td><td>12.0</td><td>27.00</td><td> 60.0</td><td>0</td><td>0.933</td></tr>\n",
              "\t<tr><th scope=row>3</th><td>Airedale Terrier       </td><td>11.2</td><td>23.00</td><td> 55.0</td><td>0</td><td>0.947</td></tr>\n",
              "\t<tr><th scope=row>4</th><td>Akita                  </td><td>11.0</td><td>27.00</td><td>107.5</td><td>0</td><td>0.750</td></tr>\n",
              "\t<tr><th scope=row>5</th><td>Alaskan Malamute       </td><td>12.0</td><td>24.00</td><td> 80.0</td><td>0</td><td>0.914</td></tr>\n",
              "\t<tr><th scope=row>6</th><td>American Cocker Spaniel</td><td>12.5</td><td>15.00</td><td> 27.5</td><td>0</td><td>0.279</td></tr>\n",
              "</tbody>\n",
              "</table>\n"
            ],
            "text/markdown": "\nA data.frame: 6 × 6\n\n| <!--/--> | breed &lt;chr&gt; | aod &lt;dbl&gt; | height &lt;dbl&gt; | weight &lt;dbl&gt; | shortcoat &lt;int&gt; | cfa7_46696633bp &lt;dbl&gt; |\n|---|---|---|---|---|---|---|\n| 1 | Affenpinscher           | 13.0 | 10.25 |   8.0 | 0 | 0.375 |\n| 2 | Afghan Hound            | 12.0 | 27.00 |  60.0 | 0 | 0.933 |\n| 3 | Airedale Terrier        | 11.2 | 23.00 |  55.0 | 0 | 0.947 |\n| 4 | Akita                   | 11.0 | 27.00 | 107.5 | 0 | 0.750 |\n| 5 | Alaskan Malamute        | 12.0 | 24.00 |  80.0 | 0 | 0.914 |\n| 6 | American Cocker Spaniel | 12.5 | 15.00 |  27.5 | 0 | 0.279 |\n\n",
            "text/latex": "A data.frame: 6 × 6\n\\begin{tabular}{r|llllll}\n  & breed & aod & height & weight & shortcoat & cfa7\\_46696633bp\\\\\n  & <chr> & <dbl> & <dbl> & <dbl> & <int> & <dbl>\\\\\n\\hline\n\t1 & Affenpinscher           & 13.0 & 10.25 &   8.0 & 0 & 0.375\\\\\n\t2 & Afghan Hound            & 12.0 & 27.00 &  60.0 & 0 & 0.933\\\\\n\t3 & Airedale Terrier        & 11.2 & 23.00 &  55.0 & 0 & 0.947\\\\\n\t4 & Akita                   & 11.0 & 27.00 & 107.5 & 0 & 0.750\\\\\n\t5 & Alaskan Malamute        & 12.0 & 24.00 &  80.0 & 0 & 0.914\\\\\n\t6 & American Cocker Spaniel & 12.5 & 15.00 &  27.5 & 0 & 0.279\\\\\n\\end{tabular}\n",
            "text/plain": [
              "  breed                   aod  height weight shortcoat cfa7_46696633bp\n",
              "1 Affenpinscher           13.0 10.25    8.0  0         0.375          \n",
              "2 Afghan Hound            12.0 27.00   60.0  0         0.933          \n",
              "3 Airedale Terrier        11.2 23.00   55.0  0         0.947          \n",
              "4 Akita                   11.0 27.00  107.5  0         0.750          \n",
              "5 Alaskan Malamute        12.0 24.00   80.0  0         0.914          \n",
              "6 American Cocker Spaniel 12.5 15.00   27.5  0         0.279          "
            ]
          },
          "metadata": {}
        }
      ]
    },
    {
      "cell_type": "markdown",
      "source": [
        "On the surface, the data frame looks like a spreadsheet you might load into Excel. But it is actually an example of a data structure with a very specific form:\n",
        "\n",
        "*The data frame is a set of columns, and each column is a vector of the same length.*\n",
        "\n",
        "Let's run some code to convince ourselves of these facts.\n",
        "\n",
        "First, for convenience, copy of the first column, and call it \"x\":"
      ],
      "metadata": {
        "id": "5B8IA8FhUelr"
      }
    },
    {
      "cell_type": "code",
      "source": [
        "x <- dogs$breed"
      ],
      "metadata": {
        "colab": {
          "base_uri": "https://localhost:8080/",
          "height": 69
        },
        "id": "jh6sUiRWVuDS",
        "outputId": "703567a3-6902-4677-d6c6-a656c7f5965c"
      },
      "execution_count": null,
      "outputs": [
        {
          "output_type": "display_data",
          "data": {
            "text/html": [
              "<style>\n",
              ".list-inline {list-style: none; margin:0; padding: 0}\n",
              ".list-inline>li {display: inline-block}\n",
              ".list-inline>li:not(:last-child)::after {content: \"\\00b7\"; padding: 0 .5ex}\n",
              "</style>\n",
              "<ol class=list-inline><li>'Affenpinscher'</li><li>'Afghan Hound'</li><li>'Airedale Terrier'</li><li>'Akita'</li><li>'Alaskan Malamute'</li><li>'American Cocker Spaniel'</li></ol>\n"
            ],
            "text/markdown": "1. 'Affenpinscher'\n2. 'Afghan Hound'\n3. 'Airedale Terrier'\n4. 'Akita'\n5. 'Alaskan Malamute'\n6. 'American Cocker Spaniel'\n\n\n",
            "text/latex": "\\begin{enumerate*}\n\\item 'Affenpinscher'\n\\item 'Afghan Hound'\n\\item 'Airedale Terrier'\n\\item 'Akita'\n\\item 'Alaskan Malamute'\n\\item 'American Cocker Spaniel'\n\\end{enumerate*}\n",
            "text/plain": [
              "[1] \"Affenpinscher\"           \"Afghan Hound\"           \n",
              "[3] \"Airedale Terrier\"        \"Akita\"                  \n",
              "[5] \"Alaskan Malamute\"        \"American Cocker Spaniel\""
            ]
          },
          "metadata": {}
        },
        {
          "output_type": "display_data",
          "data": {
            "text/html": [
              "<style>\n",
              ".list-inline {list-style: none; margin:0; padding: 0}\n",
              ".list-inline>li {display: inline-block}\n",
              ".list-inline>li:not(:last-child)::after {content: \"\\00b7\"; padding: 0 .5ex}\n",
              "</style>\n",
              "<ol class=list-inline><li>'Welsh Springer Spaniel'</li><li>'Welsh Terrier'</li><li>'West Highland White Terrier'</li><li>'Whippet'</li><li>'Wirehaired Pointing Griffon'</li><li>'Yorkshire Terrier'</li></ol>\n"
            ],
            "text/markdown": "1. 'Welsh Springer Spaniel'\n2. 'Welsh Terrier'\n3. 'West Highland White Terrier'\n4. 'Whippet'\n5. 'Wirehaired Pointing Griffon'\n6. 'Yorkshire Terrier'\n\n\n",
            "text/latex": "\\begin{enumerate*}\n\\item 'Welsh Springer Spaniel'\n\\item 'Welsh Terrier'\n\\item 'West Highland White Terrier'\n\\item 'Whippet'\n\\item 'Wirehaired Pointing Griffon'\n\\item 'Yorkshire Terrier'\n\\end{enumerate*}\n",
            "text/plain": [
              "[1] \"Welsh Springer Spaniel\"      \"Welsh Terrier\"              \n",
              "[3] \"West Highland White Terrier\" \"Whippet\"                    \n",
              "[5] \"Wirehaired Pointing Griffon\" \"Yorkshire Terrier\"          "
            ]
          },
          "metadata": {}
        },
        {
          "output_type": "display_data",
          "data": {
            "text/html": [
              "148"
            ],
            "text/markdown": "148",
            "text/latex": "148",
            "text/plain": [
              "[1] 148"
            ]
          },
          "metadata": {}
        }
      ]
    },
    {
      "cell_type": "markdown",
      "source": [
        "(Note that this makes a *copy* of the original data, so if you were to modify or delete `x`, this would leave `dogs` unchanged.)\n",
        "\n",
        "This is a \"character\" data type, which is R's way of storing text data:"
      ],
      "metadata": {
        "id": "RvX9HCoNVxA4"
      }
    },
    {
      "cell_type": "code",
      "source": [
        "class(x)\n",
        "length(x)\n",
        "x"
      ],
      "metadata": {
        "colab": {
          "base_uri": "https://localhost:8080/",
          "height": 278
        },
        "id": "bfA3rwmnV2E2",
        "outputId": "103e61c7-7fe0-4366-e92a-da9f9d31594f"
      },
      "execution_count": null,
      "outputs": [
        {
          "output_type": "display_data",
          "data": {
            "text/html": [
              "'character'"
            ],
            "text/markdown": "'character'",
            "text/latex": "'character'",
            "text/plain": [
              "[1] \"character\""
            ]
          },
          "metadata": {}
        },
        {
          "output_type": "display_data",
          "data": {
            "text/html": [
              "148"
            ],
            "text/markdown": "148",
            "text/latex": "148",
            "text/plain": [
              "[1] 148"
            ]
          },
          "metadata": {}
        },
        {
          "output_type": "display_data",
          "data": {
            "text/html": [
              "<style>\n",
              ".list-inline {list-style: none; margin:0; padding: 0}\n",
              ".list-inline>li {display: inline-block}\n",
              ".list-inline>li:not(:last-child)::after {content: \"\\00b7\"; padding: 0 .5ex}\n",
              "</style>\n",
              "<ol class=list-inline><li>'Affenpinscher'</li><li>'Afghan Hound'</li><li>'Airedale Terrier'</li><li>'Akita'</li><li>'Alaskan Malamute'</li><li>'American Cocker Spaniel'</li><li>'American Eskimo Dog'</li><li>'American Pit Bull Terrier'</li><li>'American Staffordshire Terrier'</li><li>'American Water Spaniel'</li><li>'Australian Cattle Dog'</li><li>'Australian Shepherd'</li><li>'Australian Terrier'</li><li>'Basenji'</li><li>'Bassett Hound'</li><li>'Beagle'</li><li>'Bearded Collie'</li><li>'Bedlington Terrier'</li><li>'Belgian Malinois'</li><li>'Belgian Sheepdog'</li><li>'Belgian Tervuren'</li><li>'Bernese Mountain Dog'</li><li>'Bichon Frise'</li><li>'Black Russian Terrier'</li><li>'Bloodhound'</li><li>'Border Collie'</li><li>'Border Terrier'</li><li>'Borzoi'</li><li>'Boston Terrier'</li><li>'Bouvier Des Flanders'</li><li>'Boxer'</li><li>'Briard'</li><li>'Brittany'</li><li>'Brussels Griffon'</li><li>'Bull Terrier'</li><li>'Bulldog'</li><li>'Bullmastiff'</li><li>'Cairn Terrier'</li><li>'Cardigan Welsh Corgi'</li><li>'Cavalier King Charles Spaniel'</li><li>'Cesky Terrier'</li><li>'Chesapeake Bay Retriever'</li><li>'Chihuahua'</li><li>'Chinese Crested'</li><li>'Chinese Shar-Pei'</li><li>'Chow Chow'</li><li>'Clumber Spaniel'</li><li>'Collie'</li><li>'Curly Coated Retriever'</li><li>'Dachshund'</li><li>'Dalmatian'</li><li>'Dandie Dinmont Terrier'</li><li>'Doberman Pinscher'</li><li>'Dogue de Bordeaux'</li><li>'English Bulldog'</li><li>'English Cocker Spaniel'</li><li>'English Setter'</li><li>'English Springer Spaniel'</li><li>'Field Spaniel'</li><li>'Flat Coated Retriever'</li><li>'Fox Terrier'</li><li>'Fox Terrier toy'</li><li>'French Bulldog'</li><li>'German Shepherd'</li><li>'German Shorthaired Pointer'</li><li>'German Wirehaired Pointer'</li><li>'Giant Schnauzer'</li><li>'Glen of Imaal Terrier'</li><li>'Golden Retriever'</li><li>'Gordon Setter'</li><li>'Great Dane'</li><li>'Greater Swiss Mountain Dog'</li><li>'Greyhound'</li><li>'Havanese'</li><li>'Hungarian Vizsla'</li><li>'Ibizan Hound'</li><li>'Irish Red and White Setter'</li><li>'Irish Setter'</li><li>'Irish Terrier'</li><li>'Irish Water Spaniel'</li><li>'Irish Wolfhound'</li><li>'Italian Greyhound'</li><li>'Italian Spinone'</li><li>'Jack Russell Terrier'</li><li>'Japanese Chin'</li><li>'Japanese Shiba Inu'</li><li>'Keeshond'</li><li>'Kerry Blue Terrier'</li><li>'Komondor'</li><li>'Labrador Retriever'</li><li>'Lakeland Terrier'</li><li>'Leonberger'</li><li>'Lhasa Apso'</li><li>'Maltese'</li><li>'Manchester Terrier'</li><li>'Mastiff'</li><li>'Miniature Bull Terrier'</li><li>'Miniature Pinscher'</li><li>'Miniature Poodle'</li><li>'Miniature Schnauzer'</li><li>'Newfoundland'</li><li>'Norfolk Terrier'</li><li>'Norwegian Elkhound'</li><li>'Norwich Terrier'</li><li>'Nova Scotia Duck Tolling Retriever'</li><li>'Old English Sheepdog'</li><li>'Papillon'</li><li>'Pekingese'</li><li>'Pembroke Welsh Corgi'</li><li>'Petit Basset Griffon Vendeen'</li><li>'Pharaoh Hound'</li><li>'Pit Bull Terrier'</li><li>'Pointer'</li><li>'Pomeranian'</li><li>'Poodle'</li><li>'Portuguese Water Dog'</li><li>'Pug'</li><li>'Pyrenean Mountain Dog'</li><li>'Rhodesian Ridgeback'</li><li>'Rottweiler'</li><li>'Saint Bernard'</li><li>'Saluki'</li><li>'Samoyed'</li><li>'Schipperke'</li><li>'Schnauzer'</li><li>'Scottish Deerhound'</li><li>'Scottish Terrier'</li><li>'Sealyham Terrier'</li><li>'Shetland Sheepdog'</li><li>'Shih Tzu'</li><li>'Siberian Husky'</li><li>'Silky Terrier'</li><li>'Soft Coated Wheaten Terrier'</li><li>'Staffordshire Bull Terrier'</li><li>'Standard Poodle'</li><li>'Standard Schnauzer'</li><li>'Sussex Spaniel'</li><li>'Tibetan Spaniel'</li><li>'Tibetan Terrier'</li><li>'Toy Manchester Terrier'</li><li>'Toy Poodle'</li><li>'Weimaraner'</li><li>'Welsh Springer Spaniel'</li><li>'Welsh Terrier'</li><li>'West Highland White Terrier'</li><li>'Whippet'</li><li>'Wirehaired Pointing Griffon'</li><li>'Yorkshire Terrier'</li></ol>\n"
            ],
            "text/markdown": "1. 'Affenpinscher'\n2. 'Afghan Hound'\n3. 'Airedale Terrier'\n4. 'Akita'\n5. 'Alaskan Malamute'\n6. 'American Cocker Spaniel'\n7. 'American Eskimo Dog'\n8. 'American Pit Bull Terrier'\n9. 'American Staffordshire Terrier'\n10. 'American Water Spaniel'\n11. 'Australian Cattle Dog'\n12. 'Australian Shepherd'\n13. 'Australian Terrier'\n14. 'Basenji'\n15. 'Bassett Hound'\n16. 'Beagle'\n17. 'Bearded Collie'\n18. 'Bedlington Terrier'\n19. 'Belgian Malinois'\n20. 'Belgian Sheepdog'\n21. 'Belgian Tervuren'\n22. 'Bernese Mountain Dog'\n23. 'Bichon Frise'\n24. 'Black Russian Terrier'\n25. 'Bloodhound'\n26. 'Border Collie'\n27. 'Border Terrier'\n28. 'Borzoi'\n29. 'Boston Terrier'\n30. 'Bouvier Des Flanders'\n31. 'Boxer'\n32. 'Briard'\n33. 'Brittany'\n34. 'Brussels Griffon'\n35. 'Bull Terrier'\n36. 'Bulldog'\n37. 'Bullmastiff'\n38. 'Cairn Terrier'\n39. 'Cardigan Welsh Corgi'\n40. 'Cavalier King Charles Spaniel'\n41. 'Cesky Terrier'\n42. 'Chesapeake Bay Retriever'\n43. 'Chihuahua'\n44. 'Chinese Crested'\n45. 'Chinese Shar-Pei'\n46. 'Chow Chow'\n47. 'Clumber Spaniel'\n48. 'Collie'\n49. 'Curly Coated Retriever'\n50. 'Dachshund'\n51. 'Dalmatian'\n52. 'Dandie Dinmont Terrier'\n53. 'Doberman Pinscher'\n54. 'Dogue de Bordeaux'\n55. 'English Bulldog'\n56. 'English Cocker Spaniel'\n57. 'English Setter'\n58. 'English Springer Spaniel'\n59. 'Field Spaniel'\n60. 'Flat Coated Retriever'\n61. 'Fox Terrier'\n62. 'Fox Terrier toy'\n63. 'French Bulldog'\n64. 'German Shepherd'\n65. 'German Shorthaired Pointer'\n66. 'German Wirehaired Pointer'\n67. 'Giant Schnauzer'\n68. 'Glen of Imaal Terrier'\n69. 'Golden Retriever'\n70. 'Gordon Setter'\n71. 'Great Dane'\n72. 'Greater Swiss Mountain Dog'\n73. 'Greyhound'\n74. 'Havanese'\n75. 'Hungarian Vizsla'\n76. 'Ibizan Hound'\n77. 'Irish Red and White Setter'\n78. 'Irish Setter'\n79. 'Irish Terrier'\n80. 'Irish Water Spaniel'\n81. 'Irish Wolfhound'\n82. 'Italian Greyhound'\n83. 'Italian Spinone'\n84. 'Jack Russell Terrier'\n85. 'Japanese Chin'\n86. 'Japanese Shiba Inu'\n87. 'Keeshond'\n88. 'Kerry Blue Terrier'\n89. 'Komondor'\n90. 'Labrador Retriever'\n91. 'Lakeland Terrier'\n92. 'Leonberger'\n93. 'Lhasa Apso'\n94. 'Maltese'\n95. 'Manchester Terrier'\n96. 'Mastiff'\n97. 'Miniature Bull Terrier'\n98. 'Miniature Pinscher'\n99. 'Miniature Poodle'\n100. 'Miniature Schnauzer'\n101. 'Newfoundland'\n102. 'Norfolk Terrier'\n103. 'Norwegian Elkhound'\n104. 'Norwich Terrier'\n105. 'Nova Scotia Duck Tolling Retriever'\n106. 'Old English Sheepdog'\n107. 'Papillon'\n108. 'Pekingese'\n109. 'Pembroke Welsh Corgi'\n110. 'Petit Basset Griffon Vendeen'\n111. 'Pharaoh Hound'\n112. 'Pit Bull Terrier'\n113. 'Pointer'\n114. 'Pomeranian'\n115. 'Poodle'\n116. 'Portuguese Water Dog'\n117. 'Pug'\n118. 'Pyrenean Mountain Dog'\n119. 'Rhodesian Ridgeback'\n120. 'Rottweiler'\n121. 'Saint Bernard'\n122. 'Saluki'\n123. 'Samoyed'\n124. 'Schipperke'\n125. 'Schnauzer'\n126. 'Scottish Deerhound'\n127. 'Scottish Terrier'\n128. 'Sealyham Terrier'\n129. 'Shetland Sheepdog'\n130. 'Shih Tzu'\n131. 'Siberian Husky'\n132. 'Silky Terrier'\n133. 'Soft Coated Wheaten Terrier'\n134. 'Staffordshire Bull Terrier'\n135. 'Standard Poodle'\n136. 'Standard Schnauzer'\n137. 'Sussex Spaniel'\n138. 'Tibetan Spaniel'\n139. 'Tibetan Terrier'\n140. 'Toy Manchester Terrier'\n141. 'Toy Poodle'\n142. 'Weimaraner'\n143. 'Welsh Springer Spaniel'\n144. 'Welsh Terrier'\n145. 'West Highland White Terrier'\n146. 'Whippet'\n147. 'Wirehaired Pointing Griffon'\n148. 'Yorkshire Terrier'\n\n\n",
            "text/latex": "\\begin{enumerate*}\n\\item 'Affenpinscher'\n\\item 'Afghan Hound'\n\\item 'Airedale Terrier'\n\\item 'Akita'\n\\item 'Alaskan Malamute'\n\\item 'American Cocker Spaniel'\n\\item 'American Eskimo Dog'\n\\item 'American Pit Bull Terrier'\n\\item 'American Staffordshire Terrier'\n\\item 'American Water Spaniel'\n\\item 'Australian Cattle Dog'\n\\item 'Australian Shepherd'\n\\item 'Australian Terrier'\n\\item 'Basenji'\n\\item 'Bassett Hound'\n\\item 'Beagle'\n\\item 'Bearded Collie'\n\\item 'Bedlington Terrier'\n\\item 'Belgian Malinois'\n\\item 'Belgian Sheepdog'\n\\item 'Belgian Tervuren'\n\\item 'Bernese Mountain Dog'\n\\item 'Bichon Frise'\n\\item 'Black Russian Terrier'\n\\item 'Bloodhound'\n\\item 'Border Collie'\n\\item 'Border Terrier'\n\\item 'Borzoi'\n\\item 'Boston Terrier'\n\\item 'Bouvier Des Flanders'\n\\item 'Boxer'\n\\item 'Briard'\n\\item 'Brittany'\n\\item 'Brussels Griffon'\n\\item 'Bull Terrier'\n\\item 'Bulldog'\n\\item 'Bullmastiff'\n\\item 'Cairn Terrier'\n\\item 'Cardigan Welsh Corgi'\n\\item 'Cavalier King Charles Spaniel'\n\\item 'Cesky Terrier'\n\\item 'Chesapeake Bay Retriever'\n\\item 'Chihuahua'\n\\item 'Chinese Crested'\n\\item 'Chinese Shar-Pei'\n\\item 'Chow Chow'\n\\item 'Clumber Spaniel'\n\\item 'Collie'\n\\item 'Curly Coated Retriever'\n\\item 'Dachshund'\n\\item 'Dalmatian'\n\\item 'Dandie Dinmont Terrier'\n\\item 'Doberman Pinscher'\n\\item 'Dogue de Bordeaux'\n\\item 'English Bulldog'\n\\item 'English Cocker Spaniel'\n\\item 'English Setter'\n\\item 'English Springer Spaniel'\n\\item 'Field Spaniel'\n\\item 'Flat Coated Retriever'\n\\item 'Fox Terrier'\n\\item 'Fox Terrier toy'\n\\item 'French Bulldog'\n\\item 'German Shepherd'\n\\item 'German Shorthaired Pointer'\n\\item 'German Wirehaired Pointer'\n\\item 'Giant Schnauzer'\n\\item 'Glen of Imaal Terrier'\n\\item 'Golden Retriever'\n\\item 'Gordon Setter'\n\\item 'Great Dane'\n\\item 'Greater Swiss Mountain Dog'\n\\item 'Greyhound'\n\\item 'Havanese'\n\\item 'Hungarian Vizsla'\n\\item 'Ibizan Hound'\n\\item 'Irish Red and White Setter'\n\\item 'Irish Setter'\n\\item 'Irish Terrier'\n\\item 'Irish Water Spaniel'\n\\item 'Irish Wolfhound'\n\\item 'Italian Greyhound'\n\\item 'Italian Spinone'\n\\item 'Jack Russell Terrier'\n\\item 'Japanese Chin'\n\\item 'Japanese Shiba Inu'\n\\item 'Keeshond'\n\\item 'Kerry Blue Terrier'\n\\item 'Komondor'\n\\item 'Labrador Retriever'\n\\item 'Lakeland Terrier'\n\\item 'Leonberger'\n\\item 'Lhasa Apso'\n\\item 'Maltese'\n\\item 'Manchester Terrier'\n\\item 'Mastiff'\n\\item 'Miniature Bull Terrier'\n\\item 'Miniature Pinscher'\n\\item 'Miniature Poodle'\n\\item 'Miniature Schnauzer'\n\\item 'Newfoundland'\n\\item 'Norfolk Terrier'\n\\item 'Norwegian Elkhound'\n\\item 'Norwich Terrier'\n\\item 'Nova Scotia Duck Tolling Retriever'\n\\item 'Old English Sheepdog'\n\\item 'Papillon'\n\\item 'Pekingese'\n\\item 'Pembroke Welsh Corgi'\n\\item 'Petit Basset Griffon Vendeen'\n\\item 'Pharaoh Hound'\n\\item 'Pit Bull Terrier'\n\\item 'Pointer'\n\\item 'Pomeranian'\n\\item 'Poodle'\n\\item 'Portuguese Water Dog'\n\\item 'Pug'\n\\item 'Pyrenean Mountain Dog'\n\\item 'Rhodesian Ridgeback'\n\\item 'Rottweiler'\n\\item 'Saint Bernard'\n\\item 'Saluki'\n\\item 'Samoyed'\n\\item 'Schipperke'\n\\item 'Schnauzer'\n\\item 'Scottish Deerhound'\n\\item 'Scottish Terrier'\n\\item 'Sealyham Terrier'\n\\item 'Shetland Sheepdog'\n\\item 'Shih Tzu'\n\\item 'Siberian Husky'\n\\item 'Silky Terrier'\n\\item 'Soft Coated Wheaten Terrier'\n\\item 'Staffordshire Bull Terrier'\n\\item 'Standard Poodle'\n\\item 'Standard Schnauzer'\n\\item 'Sussex Spaniel'\n\\item 'Tibetan Spaniel'\n\\item 'Tibetan Terrier'\n\\item 'Toy Manchester Terrier'\n\\item 'Toy Poodle'\n\\item 'Weimaraner'\n\\item 'Welsh Springer Spaniel'\n\\item 'Welsh Terrier'\n\\item 'West Highland White Terrier'\n\\item 'Whippet'\n\\item 'Wirehaired Pointing Griffon'\n\\item 'Yorkshire Terrier'\n\\end{enumerate*}\n",
            "text/plain": [
              "  [1] \"Affenpinscher\"                      \"Afghan Hound\"                      \n",
              "  [3] \"Airedale Terrier\"                   \"Akita\"                             \n",
              "  [5] \"Alaskan Malamute\"                   \"American Cocker Spaniel\"           \n",
              "  [7] \"American Eskimo Dog\"                \"American Pit Bull Terrier\"         \n",
              "  [9] \"American Staffordshire Terrier\"     \"American Water Spaniel\"            \n",
              " [11] \"Australian Cattle Dog\"              \"Australian Shepherd\"               \n",
              " [13] \"Australian Terrier\"                 \"Basenji\"                           \n",
              " [15] \"Bassett Hound\"                      \"Beagle\"                            \n",
              " [17] \"Bearded Collie\"                     \"Bedlington Terrier\"                \n",
              " [19] \"Belgian Malinois\"                   \"Belgian Sheepdog\"                  \n",
              " [21] \"Belgian Tervuren\"                   \"Bernese Mountain Dog\"              \n",
              " [23] \"Bichon Frise\"                       \"Black Russian Terrier\"             \n",
              " [25] \"Bloodhound\"                         \"Border Collie\"                     \n",
              " [27] \"Border Terrier\"                     \"Borzoi\"                            \n",
              " [29] \"Boston Terrier\"                     \"Bouvier Des Flanders\"              \n",
              " [31] \"Boxer\"                              \"Briard\"                            \n",
              " [33] \"Brittany\"                           \"Brussels Griffon\"                  \n",
              " [35] \"Bull Terrier\"                       \"Bulldog\"                           \n",
              " [37] \"Bullmastiff\"                        \"Cairn Terrier\"                     \n",
              " [39] \"Cardigan Welsh Corgi\"               \"Cavalier King Charles Spaniel\"     \n",
              " [41] \"Cesky Terrier\"                      \"Chesapeake Bay Retriever\"          \n",
              " [43] \"Chihuahua\"                          \"Chinese Crested\"                   \n",
              " [45] \"Chinese Shar-Pei\"                   \"Chow Chow\"                         \n",
              " [47] \"Clumber Spaniel\"                    \"Collie\"                            \n",
              " [49] \"Curly Coated Retriever\"             \"Dachshund\"                         \n",
              " [51] \"Dalmatian\"                          \"Dandie Dinmont Terrier\"            \n",
              " [53] \"Doberman Pinscher\"                  \"Dogue de Bordeaux\"                 \n",
              " [55] \"English Bulldog\"                    \"English Cocker Spaniel\"            \n",
              " [57] \"English Setter\"                     \"English Springer Spaniel\"          \n",
              " [59] \"Field Spaniel\"                      \"Flat Coated Retriever\"             \n",
              " [61] \"Fox Terrier\"                        \"Fox Terrier toy\"                   \n",
              " [63] \"French Bulldog\"                     \"German Shepherd\"                   \n",
              " [65] \"German Shorthaired Pointer\"         \"German Wirehaired Pointer\"         \n",
              " [67] \"Giant Schnauzer\"                    \"Glen of Imaal Terrier\"             \n",
              " [69] \"Golden Retriever\"                   \"Gordon Setter\"                     \n",
              " [71] \"Great Dane\"                         \"Greater Swiss Mountain Dog\"        \n",
              " [73] \"Greyhound\"                          \"Havanese\"                          \n",
              " [75] \"Hungarian Vizsla\"                   \"Ibizan Hound\"                      \n",
              " [77] \"Irish Red and White Setter\"         \"Irish Setter\"                      \n",
              " [79] \"Irish Terrier\"                      \"Irish Water Spaniel\"               \n",
              " [81] \"Irish Wolfhound\"                    \"Italian Greyhound\"                 \n",
              " [83] \"Italian Spinone\"                    \"Jack Russell Terrier\"              \n",
              " [85] \"Japanese Chin\"                      \"Japanese Shiba Inu\"                \n",
              " [87] \"Keeshond\"                           \"Kerry Blue Terrier\"                \n",
              " [89] \"Komondor\"                           \"Labrador Retriever\"                \n",
              " [91] \"Lakeland Terrier\"                   \"Leonberger\"                        \n",
              " [93] \"Lhasa Apso\"                         \"Maltese\"                           \n",
              " [95] \"Manchester Terrier\"                 \"Mastiff\"                           \n",
              " [97] \"Miniature Bull Terrier\"             \"Miniature Pinscher\"                \n",
              " [99] \"Miniature Poodle\"                   \"Miniature Schnauzer\"               \n",
              "[101] \"Newfoundland\"                       \"Norfolk Terrier\"                   \n",
              "[103] \"Norwegian Elkhound\"                 \"Norwich Terrier\"                   \n",
              "[105] \"Nova Scotia Duck Tolling Retriever\" \"Old English Sheepdog\"              \n",
              "[107] \"Papillon\"                           \"Pekingese\"                         \n",
              "[109] \"Pembroke Welsh Corgi\"               \"Petit Basset Griffon Vendeen\"      \n",
              "[111] \"Pharaoh Hound\"                      \"Pit Bull Terrier\"                  \n",
              "[113] \"Pointer\"                            \"Pomeranian\"                        \n",
              "[115] \"Poodle\"                             \"Portuguese Water Dog\"              \n",
              "[117] \"Pug\"                                \"Pyrenean Mountain Dog\"             \n",
              "[119] \"Rhodesian Ridgeback\"                \"Rottweiler\"                        \n",
              "[121] \"Saint Bernard\"                      \"Saluki\"                            \n",
              "[123] \"Samoyed\"                            \"Schipperke\"                        \n",
              "[125] \"Schnauzer\"                          \"Scottish Deerhound\"                \n",
              "[127] \"Scottish Terrier\"                   \"Sealyham Terrier\"                  \n",
              "[129] \"Shetland Sheepdog\"                  \"Shih Tzu\"                          \n",
              "[131] \"Siberian Husky\"                     \"Silky Terrier\"                     \n",
              "[133] \"Soft Coated Wheaten Terrier\"        \"Staffordshire Bull Terrier\"        \n",
              "[135] \"Standard Poodle\"                    \"Standard Schnauzer\"                \n",
              "[137] \"Sussex Spaniel\"                     \"Tibetan Spaniel\"                   \n",
              "[139] \"Tibetan Terrier\"                    \"Toy Manchester Terrier\"            \n",
              "[141] \"Toy Poodle\"                         \"Weimaraner\"                        \n",
              "[143] \"Welsh Springer Spaniel\"             \"Welsh Terrier\"                     \n",
              "[145] \"West Highland White Terrier\"        \"Whippet\"                           \n",
              "[147] \"Wirehaired Pointing Griffon\"        \"Yorkshire Terrier\"                 "
            ]
          },
          "metadata": {}
        }
      ]
    },
    {
      "cell_type": "markdown",
      "source": [
        "Note that we could have also copied the first column this way:"
      ],
      "metadata": {
        "id": "0CQkcFJhanLw"
      }
    },
    {
      "cell_type": "code",
      "source": [
        "x <- dogs[,\"breed\"]"
      ],
      "metadata": {
        "id": "kqWVeyUca18-"
      },
      "execution_count": null,
      "outputs": []
    },
    {
      "cell_type": "markdown",
      "source": [
        "Or this way:"
      ],
      "metadata": {
        "id": "-ArIfMVJav_M"
      }
    },
    {
      "cell_type": "code",
      "source": [
        "x <- dogs[,1]"
      ],
      "metadata": {
        "id": "QXamf6I9axT3"
      },
      "execution_count": null,
      "outputs": []
    },
    {
      "cell_type": "markdown",
      "source": [
        "(You will quickly learn that there are often several ways to accomplish the same thing in R. *Which way do you prefer?*)\n",
        "\n",
        "What makes the data frame a particularly powerful data structure *is that the vectors may contain different types of data.*\n",
        "\n",
        "By storing tabular data in this way, we can divide and conquer: since each column is also an object in its own right, if the data are too complicated to understand all at once, we can make a copy of the columns we want to look at more closely, then run code on the copies, like we just did for the \"breed\" column. This is a useful strategy for dealing with complex data sets. (Later we will encounter one.)\n",
        "\n",
        "To drive home this idea of a data frame as a collection of vectors, the way to *create* a data frame is in fact to join together a bunch of vectors of the same length. For example,"
      ],
      "metadata": {
        "id": "eU74Ky6qWGam"
      }
    },
    {
      "cell_type": "code",
      "source": [
        "dogs_new <- data.frame(\n",
        "  breed = dogs$breed,\n",
        "  lbs = dogs$weight,\n",
        "  years = dogs$aod)\n",
        "head(dogs_new)"
      ],
      "metadata": {
        "colab": {
          "base_uri": "https://localhost:8080/",
          "height": 286
        },
        "id": "tL0krjuGW_lX",
        "outputId": "d53c39dc-dd2a-4db9-b456-9dd731737ab2"
      },
      "execution_count": null,
      "outputs": [
        {
          "output_type": "display_data",
          "data": {
            "text/html": [
              "<table class=\"dataframe\">\n",
              "<caption>A data.frame: 6 × 3</caption>\n",
              "<thead>\n",
              "\t<tr><th></th><th scope=col>breed</th><th scope=col>lbs</th><th scope=col>years</th></tr>\n",
              "\t<tr><th></th><th scope=col>&lt;chr&gt;</th><th scope=col>&lt;dbl&gt;</th><th scope=col>&lt;dbl&gt;</th></tr>\n",
              "</thead>\n",
              "<tbody>\n",
              "\t<tr><th scope=row>1</th><td>Affenpinscher          </td><td>  8.0</td><td>13.0</td></tr>\n",
              "\t<tr><th scope=row>2</th><td>Afghan Hound           </td><td> 60.0</td><td>12.0</td></tr>\n",
              "\t<tr><th scope=row>3</th><td>Airedale Terrier       </td><td> 55.0</td><td>11.2</td></tr>\n",
              "\t<tr><th scope=row>4</th><td>Akita                  </td><td>107.5</td><td>11.0</td></tr>\n",
              "\t<tr><th scope=row>5</th><td>Alaskan Malamute       </td><td> 80.0</td><td>12.0</td></tr>\n",
              "\t<tr><th scope=row>6</th><td>American Cocker Spaniel</td><td> 27.5</td><td>12.5</td></tr>\n",
              "</tbody>\n",
              "</table>\n"
            ],
            "text/markdown": "\nA data.frame: 6 × 3\n\n| <!--/--> | breed &lt;chr&gt; | lbs &lt;dbl&gt; | years &lt;dbl&gt; |\n|---|---|---|---|\n| 1 | Affenpinscher           |   8.0 | 13.0 |\n| 2 | Afghan Hound            |  60.0 | 12.0 |\n| 3 | Airedale Terrier        |  55.0 | 11.2 |\n| 4 | Akita                   | 107.5 | 11.0 |\n| 5 | Alaskan Malamute        |  80.0 | 12.0 |\n| 6 | American Cocker Spaniel |  27.5 | 12.5 |\n\n",
            "text/latex": "A data.frame: 6 × 3\n\\begin{tabular}{r|lll}\n  & breed & lbs & years\\\\\n  & <chr> & <dbl> & <dbl>\\\\\n\\hline\n\t1 & Affenpinscher           &   8.0 & 13.0\\\\\n\t2 & Afghan Hound            &  60.0 & 12.0\\\\\n\t3 & Airedale Terrier        &  55.0 & 11.2\\\\\n\t4 & Akita                   & 107.5 & 11.0\\\\\n\t5 & Alaskan Malamute        &  80.0 & 12.0\\\\\n\t6 & American Cocker Spaniel &  27.5 & 12.5\\\\\n\\end{tabular}\n",
            "text/plain": [
              "  breed                   lbs   years\n",
              "1 Affenpinscher             8.0 13.0 \n",
              "2 Afghan Hound             60.0 12.0 \n",
              "3 Airedale Terrier         55.0 11.2 \n",
              "4 Akita                   107.5 11.0 \n",
              "5 Alaskan Malamute         80.0 12.0 \n",
              "6 American Cocker Spaniel  27.5 12.5 "
            ]
          },
          "metadata": {}
        }
      ]
    },
    {
      "cell_type": "markdown",
      "source": [
        "Each data structure in R has its own features and has its own techniques for working with them, and and in time you will learn to work with other types of data structures, some that are used widely (e.g., an \"lm\" object), and some that are specific to a small (or not-so-small) community of researchers (e.g., a [GRanges](https://www.bioconductor.org/packages/release/bioc/vignettes/GenomicRanges/inst/doc/GenomicRangesIntroduction.html) object)."
      ],
      "metadata": {
        "id": "HJx1uy9RcfSS"
      }
    },
    {
      "cell_type": "markdown",
      "source": [
        "Now that we have some basic understanding of what is a data frame, let's jump into our first Programming Challenge: the goal is to write code to answer some  basic questions about dog breeds from the data. The challenges will get progressively harder, and build on each other, so try not to rush through them. Sometimes the code will be given to you, other times you will be given hints for writing the code to answer the questions. Now, this data set is small enough that you can answer many of these questions by eye, but please don't do that. (That being said, you are welcome to look at the data to verify your answers.)\n",
        "\n",
        "Programming Challenge: Facts about dog breeds\n",
        "============================================="
      ],
      "metadata": {
        "id": "12pYVAzNekx-"
      }
    },
    {
      "cell_type": "markdown",
      "source": [
        "\n",
        "Team strategy\n",
        "-------------\n",
        "\n",
        "Before diving deeply into the Programming Challenges, first discuss a collaboration strategy with your teammates. Firm decisions do not need to be made now because you may want to adapt how you collaborate as you work through the problems. Nonetheless, start by sharing some ideas on these aspects:\n",
        "\n",
        "1. What coding platforms will you use (e.g., RStudio, Google Colab, a combination of several platforms?)\n",
        "\n",
        "2. How will your team collaborate on code and share solutions?\n",
        "\n",
        "3. How will you make sure everyone is included in the problem solving?\n",
        "\n",
        "4. How will you sort out disagreements in approaches?"
      ],
      "metadata": {
        "id": "-Pd731-Tgq7e"
      }
    },
    {
      "cell_type": "markdown",
      "source": [
        "Warmup: Smallest and largest dog breeds\n",
        "---------------------------------------\n",
        "\n",
        "This will give you the average height (in inches) of the largest dog breed:"
      ],
      "metadata": {
        "id": "YK2cu-Wm0eJS"
      }
    },
    {
      "cell_type": "code",
      "source": [
        "x <- dogs$height\n",
        "max(x)"
      ],
      "metadata": {
        "colab": {
          "base_uri": "https://localhost:8080/",
          "height": 34
        },
        "id": "JdgPn3wCCipt",
        "outputId": "23672e99-4ac7-42d2-c5d8-e8956cc9278d"
      },
      "execution_count": null,
      "outputs": [
        {
          "output_type": "display_data",
          "data": {
            "text/html": [
              "32"
            ],
            "text/markdown": "32",
            "text/latex": "32",
            "text/plain": [
              "[1] 32"
            ]
          },
          "metadata": {}
        }
      ]
    },
    {
      "cell_type": "markdown",
      "source": [
        "Now write code to calculate the (average) height of the smallest dog breed:"
      ],
      "metadata": {
        "id": "YtVV87cECv0J"
      }
    },
    {
      "cell_type": "code",
      "source": [
        "min(x)"
      ],
      "metadata": {
        "colab": {
          "base_uri": "https://localhost:8080/",
          "height": 34
        },
        "id": "owlnKdbkDQbf",
        "outputId": "7e25b070-c4f5-4310-e7bf-2ce7cbc23488"
      },
      "execution_count": null,
      "outputs": [
        {
          "output_type": "display_data",
          "data": {
            "text/html": [
              "6"
            ],
            "text/markdown": "6",
            "text/latex": "6",
            "text/plain": [
              "[1] 6"
            ]
          },
          "metadata": {}
        }
      ]
    },
    {
      "cell_type": "markdown",
      "source": [
        "This didn't tell us *which* breeds were the smallest and largest. For example, to find the largest breed, we can do this:"
      ],
      "metadata": {
        "id": "9aoHVfrBDc3w"
      }
    },
    {
      "cell_type": "code",
      "source": [
        "y <- dogs$breed\n",
        "i <- which.max(x)\n",
        "y[i]"
      ],
      "metadata": {
        "colab": {
          "base_uri": "https://localhost:8080/",
          "height": 34
        },
        "id": "AdWieNEqECKa",
        "outputId": "b3a6fd46-7586-4089-81bb-8d677572d093"
      },
      "execution_count": null,
      "outputs": [
        {
          "output_type": "display_data",
          "data": {
            "text/html": [
              "'Great Dane'"
            ],
            "text/markdown": "'Great Dane'",
            "text/latex": "'Great Dane'",
            "text/plain": [
              "[1] \"Great Dane\""
            ]
          },
          "metadata": {}
        }
      ]
    },
    {
      "cell_type": "markdown",
      "source": [
        "The output of `which.max` was stored in object \"i\". How would you describe this object?\n",
        "\n",
        "What is the smallest breed?"
      ],
      "metadata": {
        "id": "ZpXHoRHBEJbv"
      }
    },
    {
      "cell_type": "code",
      "source": [
        "i <- which.min(x)\n",
        "y[i]"
      ],
      "metadata": {
        "colab": {
          "base_uri": "https://localhost:8080/",
          "height": 34
        },
        "id": "SGfD6aKpET-h",
        "outputId": "b47ccb7d-20ec-43d1-f732-0944cbf11c62"
      },
      "execution_count": null,
      "outputs": [
        {
          "output_type": "display_data",
          "data": {
            "text/html": [
              "'Chihuahua'"
            ],
            "text/markdown": "'Chihuahua'",
            "text/latex": "'Chihuahua'",
            "text/plain": [
              "[1] \"Chihuahua\""
            ]
          },
          "metadata": {}
        }
      ]
    },
    {
      "cell_type": "markdown",
      "source": [
        "Facts about dogs' BMI\n",
        "---------------------\n",
        "\n",
        "The body-mass index (BMI) is a standard quantity used to measure \"thickness\". (Unsurprisingly, BMI is sometimes misused.) In R, the BMI is easily calculated:"
      ],
      "metadata": {
        "id": "OzoOrPA4GAtz"
      }
    },
    {
      "cell_type": "code",
      "source": [
        "w <- dogs$weight\n",
        "h <- dogs$height\n",
        "bmi <- 703*w/h^2"
      ],
      "metadata": {
        "id": "xTcnHq6JHCbT"
      },
      "execution_count": null,
      "outputs": []
    },
    {
      "cell_type": "markdown",
      "source": [
        "Based on this code, write down the mathematical formula for BMI.\n",
        "\n",
        "What is interesting or surprising about this code? *Discuss.*\n",
        "\n",
        "Next, write some code to find the largest, smallest, mean and median BMI. What are the dog breeds with the largest and smallest BMI?"
      ],
      "metadata": {
        "id": "K2TKnQQWHW3S"
      }
    },
    {
      "cell_type": "code",
      "source": [
        "max(bmi)\n",
        "min(bmi)\n",
        "mean(bmi)\n",
        "median(bmi)\n",
        "i <- which.max(bmi)\n",
        "dogs$breed[i]\n",
        "i <- which.min(bmi)\n",
        "dogs$breed[i]"
      ],
      "metadata": {
        "colab": {
          "base_uri": "https://localhost:8080/",
          "height": 121
        },
        "id": "wRv4GO7iHyfj",
        "outputId": "55ee795c-ada1-4f89-d8ff-4ac3e7ec3ef2"
      },
      "execution_count": null,
      "outputs": [
        {
          "output_type": "display_data",
          "data": {
            "text/html": [
              "215.204081632653"
            ],
            "text/markdown": "215.204081632653",
            "text/latex": "215.204081632653",
            "text/plain": [
              "[1] 215.2041"
            ]
          },
          "metadata": {}
        },
        {
          "output_type": "display_data",
          "data": {
            "text/html": [
              "42.18"
            ],
            "text/markdown": "42.18",
            "text/latex": "42.18",
            "text/plain": [
              "[1] 42.18"
            ]
          },
          "metadata": {}
        },
        {
          "output_type": "display_data",
          "data": {
            "text/html": [
              "88.0943808113661"
            ],
            "text/markdown": "88.0943808113661",
            "text/latex": "88.0943808113661",
            "text/plain": [
              "[1] 88.09438"
            ]
          },
          "metadata": {}
        },
        {
          "output_type": "display_data",
          "data": {
            "text/html": [
              "82.1916046233386"
            ],
            "text/markdown": "82.1916046233386",
            "text/latex": "82.1916046233386",
            "text/plain": [
              "[1] 82.1916"
            ]
          },
          "metadata": {}
        },
        {
          "output_type": "display_data",
          "data": {
            "text/html": [
              "'Dachshund'"
            ],
            "text/markdown": "'Dachshund'",
            "text/latex": "'Dachshund'",
            "text/plain": [
              "[1] \"Dachshund\""
            ]
          },
          "metadata": {}
        },
        {
          "output_type": "display_data",
          "data": {
            "text/html": [
              "'Fox Terrier toy'"
            ],
            "text/markdown": "'Fox Terrier toy'",
            "text/latex": "'Fox Terrier toy'",
            "text/plain": [
              "[1] \"Fox Terrier toy\""
            ]
          },
          "metadata": {}
        }
      ]
    },
    {
      "cell_type": "markdown",
      "source": [
        "When performing a statistical analysis, it is common to *transform* the numeric data. For example, this would be a square-root transformation of the BMI values:"
      ],
      "metadata": {
        "id": "Gk0uZ5TvIDgL"
      }
    },
    {
      "cell_type": "code",
      "source": [
        "x <- sqrt(bmi)"
      ],
      "metadata": {
        "id": "37tiRxIvITyn"
      },
      "execution_count": null,
      "outputs": []
    },
    {
      "cell_type": "markdown",
      "source": [
        "There are many reasons to do a transformation. One reason is to produce data that better fits the normal distribution. For example, here is a quick check that the BMI data are normally distributed by comparing the quantiles:"
      ],
      "metadata": {
        "id": "D6wTsIYcIhKy"
      }
    },
    {
      "cell_type": "code",
      "source": [
        "a <- quantile(rnorm(1e4))\n",
        "b <- quantile(bmi)\n",
        "cor(a,b)"
      ],
      "metadata": {
        "colab": {
          "base_uri": "https://localhost:8080/",
          "height": 34
        },
        "id": "p_-pNLKGIZ88",
        "outputId": "05cc4b65-06a2-4ea4-91a4-d2b58fb599b5"
      },
      "execution_count": null,
      "outputs": [
        {
          "output_type": "display_data",
          "data": {
            "text/html": [
              "0.950529096700771"
            ],
            "text/markdown": "0.950529096700771",
            "text/latex": "0.950529096700771",
            "text/plain": [
              "[1] 0.9505291"
            ]
          },
          "metadata": {}
        }
      ]
    },
    {
      "cell_type": "markdown",
      "source": [
        "(Make sure you understand these three lines of code and what they are doing. This is important!)\n",
        "\n",
        "Now write similar to check whether a *square-root* and *logarithmic* (`log`) transformation of the BMI data are a better fit to the normal distribution."
      ],
      "metadata": {
        "id": "yEMpkareIvkk"
      }
    },
    {
      "cell_type": "code",
      "source": [
        "x <- sqrt(bmi)\n",
        "b <- quantile(x)\n",
        "cor(a,b)\n",
        "x <- log(bmi)\n",
        "b <- quantile(x)\n",
        "cor(a,b)"
      ],
      "metadata": {
        "colab": {
          "base_uri": "https://localhost:8080/",
          "height": 52
        },
        "id": "OTK19putF_yS",
        "outputId": "a3a59969-33dc-4ded-e6d6-1d920c216cd3"
      },
      "execution_count": null,
      "outputs": [
        {
          "output_type": "display_data",
          "data": {
            "text/html": [
              "0.978665489950376"
            ],
            "text/markdown": "0.978665489950376",
            "text/latex": "0.978665489950376",
            "text/plain": [
              "[1] 0.9786655"
            ]
          },
          "metadata": {}
        },
        {
          "output_type": "display_data",
          "data": {
            "text/html": [
              "0.996021186380737"
            ],
            "text/markdown": "0.996021186380737",
            "text/latex": "0.996021186380737",
            "text/plain": [
              "[1] 0.9960212"
            ]
          },
          "metadata": {}
        }
      ]
    },
    {
      "cell_type": "markdown",
      "source": [
        "Based on your results, which transformation provides the best fit to the normal: square-root, logarithm, or \"identity\" (no transformation)?"
      ],
      "metadata": {
        "id": "KRpwWMwDJ-XO"
      }
    },
    {
      "cell_type": "markdown",
      "source": [
        "Having generated these new BMI data, you can easily add them to the data frame:"
      ],
      "metadata": {
        "id": "eU14xatYLcgp"
      }
    },
    {
      "cell_type": "code",
      "source": [
        "dogs$bmi <- bmi"
      ],
      "metadata": {
        "id": "nQNaiFZGLl1f"
      },
      "execution_count": null,
      "outputs": []
    },
    {
      "cell_type": "markdown",
      "source": [
        "The longest-living dog breeds\n",
        "-----------------------------\n",
        "\n",
        "In the dogs data frame we encountered two types of data: numeric data and text data. Another type of data that is very important is *logical data.* Although the data frame does not contain logical data, we can easily create logical data using logical operators. For example:"
      ],
      "metadata": {
        "id": "jV7B4l8UMKYT"
      }
    },
    {
      "cell_type": "code",
      "source": [
        "x <- dogs$aod >= 16\n",
        "class(x)\n",
        "summary(x)"
      ],
      "metadata": {
        "colab": {
          "base_uri": "https://localhost:8080/",
          "height": 71
        },
        "id": "rm5VyVsaMz1V",
        "outputId": "48da77c1-0f56-4af9-c160-ce113e7f03c9"
      },
      "execution_count": null,
      "outputs": [
        {
          "output_type": "display_data",
          "data": {
            "text/html": [
              "'logical'"
            ],
            "text/markdown": "'logical'",
            "text/latex": "'logical'",
            "text/plain": [
              "[1] \"logical\""
            ]
          },
          "metadata": {}
        },
        {
          "output_type": "display_data",
          "data": {
            "text/plain": [
              "   Mode   FALSE    TRUE \n",
              "logical     144       4 "
            ]
          },
          "metadata": {}
        }
      ]
    },
    {
      "cell_type": "markdown",
      "source": [
        "*What did this code do?*\n",
        "\n",
        "To get the indices that are \"TRUE\", use `which`:"
      ],
      "metadata": {
        "id": "XGFadHTbNBSI"
      }
    },
    {
      "cell_type": "code",
      "source": [
        "i <- which(x)\n",
        "length(i)\n",
        "y <- dogs$breed\n",
        "y[i]"
      ],
      "metadata": {
        "colab": {
          "base_uri": "https://localhost:8080/",
          "height": 52
        },
        "id": "XCh3PhivNjDh",
        "outputId": "d6f20bfe-7aa0-4884-e882-8d07a375b281"
      },
      "execution_count": null,
      "outputs": [
        {
          "output_type": "display_data",
          "data": {
            "text/html": [
              "4"
            ],
            "text/markdown": "4",
            "text/latex": "4",
            "text/plain": [
              "[1] 4"
            ]
          },
          "metadata": {}
        },
        {
          "output_type": "display_data",
          "data": {
            "text/html": [
              "<style>\n",
              ".list-inline {list-style: none; margin:0; padding: 0}\n",
              ".list-inline>li {display: inline-block}\n",
              ".list-inline>li:not(:last-child)::after {content: \"\\00b7\"; padding: 0 .5ex}\n",
              "</style>\n",
              "<ol class=list-inline><li>'Lhasa Apso'</li><li>'Miniature Poodle'</li><li>'Schipperke'</li><li>'Toy Poodle'</li></ol>\n"
            ],
            "text/markdown": "1. 'Lhasa Apso'\n2. 'Miniature Poodle'\n3. 'Schipperke'\n4. 'Toy Poodle'\n\n\n",
            "text/latex": "\\begin{enumerate*}\n\\item 'Lhasa Apso'\n\\item 'Miniature Poodle'\n\\item 'Schipperke'\n\\item 'Toy Poodle'\n\\end{enumerate*}\n",
            "text/plain": [
              "[1] \"Lhasa Apso\"       \"Miniature Poodle\" \"Schipperke\"       \"Toy Poodle\"      "
            ]
          },
          "metadata": {}
        }
      ]
    },
    {
      "cell_type": "markdown",
      "source": [
        "\n",
        "Other logical operators include equals (`==`), and (`&`), or (`|`) and not (`!`). Running `help(Logic)` will give you a longer list.\n",
        "\n",
        "Now write similar code to find the breeds with the following characteristics:\n",
        "\n",
        "1. Expected age of death (AOD) at least 15 and average weight greater than 20 lbs.\n",
        "\n",
        "2. AOD greater than 15 and \"shortcoat\" value of 1. (Later we will learn what the \"shortcoat\" column represents.)"
      ],
      "metadata": {
        "id": "c93TWhlkNiZg"
      }
    },
    {
      "cell_type": "code",
      "source": [
        "x <- dogs$aod >= 15 & dogs$weight >= 20\n",
        "i <- which(x)\n",
        "length(i)\n",
        "y[i]\n",
        "x <- dogs$shortcoat == 1 & dogs$aod > 15\n",
        "i <- which(x)\n",
        "length(i)\n",
        "y[i]"
      ],
      "metadata": {
        "colab": {
          "base_uri": "https://localhost:8080/",
          "height": 86
        },
        "id": "xO41Ru2iMOhJ",
        "outputId": "fc4d692f-a5f1-465b-bbe8-b363152b6c74"
      },
      "execution_count": null,
      "outputs": [
        {
          "output_type": "display_data",
          "data": {
            "text/html": [
              "2"
            ],
            "text/markdown": "2",
            "text/latex": "2",
            "text/plain": [
              "[1] 2"
            ]
          },
          "metadata": {}
        },
        {
          "output_type": "display_data",
          "data": {
            "text/html": [
              "<style>\n",
              ".list-inline {list-style: none; margin:0; padding: 0}\n",
              ".list-inline>li {display: inline-block}\n",
              ".list-inline>li:not(:last-child)::after {content: \"\\00b7\"; padding: 0 .5ex}\n",
              "</style>\n",
              "<ol class=list-inline><li>'Boston Terrier'</li><li>'Italian Greyhound'</li></ol>\n"
            ],
            "text/markdown": "1. 'Boston Terrier'\n2. 'Italian Greyhound'\n\n\n",
            "text/latex": "\\begin{enumerate*}\n\\item 'Boston Terrier'\n\\item 'Italian Greyhound'\n\\end{enumerate*}\n",
            "text/plain": [
              "[1] \"Boston Terrier\"    \"Italian Greyhound\""
            ]
          },
          "metadata": {}
        },
        {
          "output_type": "display_data",
          "data": {
            "text/html": [
              "1"
            ],
            "text/markdown": "1",
            "text/latex": "1",
            "text/plain": [
              "[1] 1"
            ]
          },
          "metadata": {}
        },
        {
          "output_type": "display_data",
          "data": {
            "text/html": [
              "'Toy Manchester Terrier'"
            ],
            "text/markdown": "'Toy Manchester Terrier'",
            "text/latex": "'Toy Manchester Terrier'",
            "text/plain": [
              "[1] \"Toy Manchester Terrier\""
            ]
          },
          "metadata": {}
        }
      ]
    },
    {
      "cell_type": "markdown",
      "source": [
        "A QTL for weight (and dealing with missing data)\n",
        "------------------------------------------------\n",
        "\n",
        "In the *Genetics* paper, the strongest QTL (\"quantitative trait locus\" fror weight  was a QTL on chromosome 7. The \"cfa7_46696633bp\" column stores the breeds' allele frequencies for these QTL. What happens when you try to calculate the correlation between the allele frequencies and and weights?\n",
        "\n",
        "*Working with missing values.* How many breeds are missing the allele frequency estimates for the chromosome 7 QTL? Which dog breeds are they? What is the mean allele frequency for the QTL on chromosome 7? What is the correlation between this QTL and weight?"
      ],
      "metadata": {
        "id": "Gjlg-OnARJfl"
      }
    },
    {
      "cell_type": "code",
      "source": [
        "x <- dogs$cfa7_46696633bp\n",
        "y <- dogs$weight\n",
        "cor(x,y)"
      ],
      "metadata": {
        "colab": {
          "base_uri": "https://localhost:8080/",
          "height": 34
        },
        "id": "XXg7pvyXbKT6",
        "outputId": "597bd241-bc4b-4562-fd01-c48af5b30a37"
      },
      "execution_count": null,
      "outputs": [
        {
          "output_type": "display_data",
          "data": {
            "text/html": [
              "&lt;NA&gt;"
            ],
            "text/markdown": "&lt;NA&gt;",
            "text/latex": "<NA>",
            "text/plain": [
              "[1] NA"
            ]
          },
          "metadata": {}
        }
      ]
    },
    {
      "cell_type": "markdown",
      "source": [
        "In turns out that the allele frequencies were not available for some of the breeds, so a special value \"NA\" was entered for those breeds. (Why \"NA\"?)\n",
        "\n",
        "Use the `is.na` function to find the missing entries, and find out (a) how many allele frequencies are missing, and (b) which breeds do not have the allele frequencies."
      ],
      "metadata": {
        "id": "A2GGDLRYbXg9"
      }
    },
    {
      "cell_type": "code",
      "source": [
        "i <- which(is.na(x))\n",
        "length(i)\n",
        "dogs$breed[i]"
      ],
      "metadata": {
        "colab": {
          "base_uri": "https://localhost:8080/",
          "height": 52
        },
        "id": "VlpRZXnCbj1v",
        "outputId": "5df75d1d-9c52-4648-adac-cd673f8c60e2"
      },
      "execution_count": null,
      "outputs": [
        {
          "output_type": "display_data",
          "data": {
            "text/html": [
              "1"
            ],
            "text/markdown": "1",
            "text/latex": "1",
            "text/plain": [
              "[1] 1"
            ]
          },
          "metadata": {}
        },
        {
          "output_type": "display_data",
          "data": {
            "text/html": [
              "'English Setter'"
            ],
            "text/markdown": "'English Setter'",
            "text/latex": "'English Setter'",
            "text/plain": [
              "[1] \"English Setter\""
            ]
          },
          "metadata": {}
        }
      ]
    },
    {
      "cell_type": "markdown",
      "source": [
        "The designers of R, appreciating that missing data is pervasive in statistics, made sure that missing values was an integral part of the R programming language.\n",
        "\n",
        "Most statistical functions, including basic statistical calculations such as `mean` and `cor`, have special ways to deal with missing data. Read the documentation for `mean` and `cor`, then use the guidance provided in the documentation to compute the average allele frequency at the QTL  (across all dog breeds), and the correlation between body weight and allele frequency."
      ],
      "metadata": {
        "id": "iLJ2bbN-cbDp"
      }
    },
    {
      "cell_type": "code",
      "source": [
        "mean(x,na.rm = TRUE)\n",
        "cor(x,y,use = \"complete.obs\")"
      ],
      "metadata": {
        "colab": {
          "base_uri": "https://localhost:8080/",
          "height": 52
        },
        "id": "cW4fCA8zRKLm",
        "outputId": "f76bfc63-4062-4098-cd4c-fe2617998319"
      },
      "execution_count": null,
      "outputs": [
        {
          "output_type": "display_data",
          "data": {
            "text/html": [
              "0.619537414965986"
            ],
            "text/markdown": "0.619537414965986",
            "text/latex": "0.619537414965986",
            "text/plain": [
              "[1] 0.6195374"
            ]
          },
          "metadata": {}
        },
        {
          "output_type": "display_data",
          "data": {
            "text/html": [
              "0.590569726262456"
            ],
            "text/markdown": "0.590569726262456",
            "text/latex": "0.590569726262456",
            "text/plain": [
              "[1] 0.5905697"
            ]
          },
          "metadata": {}
        }
      ]
    },
    {
      "cell_type": "markdown",
      "source": [
        "What is a \"factor\"?\n",
        "-------------------\n",
        "\n",
        "So far, we have seen three basic data types: character, numeric and logical. There is a fourth important atomic data type in R: *factor.* What is unusual about factors is that, last I checked, there is no equivalent in other popular programming languages, at least not as a basic data type. And yet you will find that they are extremely useful.\n",
        "\n",
        "None of the columns in the laptops data frame are a factor. But, like\n",
        "logical data, *we can create a factor from other data.*\n",
        "\n",
        "The \"shortcoat\" column contains numeric data. As it turns out, *it may be more useful to store the data as a factor.*\n",
        "\n",
        "In this part of the Programming Challenge, you will be given the code, and your task will be to run the code and interpret the outputs, with the aim of gaining some intuition for factors, how to use them, and when they may be useful.\n",
        "\n",
        "Let's first run a few lines of code to inspect the shortcoat data:"
      ],
      "metadata": {
        "id": "czhPKZZPnf15"
      }
    },
    {
      "cell_type": "code",
      "source": [
        "x <- dogs$shortcoat\n",
        "class(x)\n",
        "x\n",
        "summary(x)\n",
        "unique(x)"
      ],
      "metadata": {
        "colab": {
          "base_uri": "https://localhost:8080/",
          "height": 201
        },
        "id": "zvyzQxLoJ6sM",
        "outputId": "35448467-b4e4-4af9-984b-6d4d3fdedacb"
      },
      "execution_count": null,
      "outputs": [
        {
          "output_type": "display_data",
          "data": {
            "text/plain": [
              "[1] \"integer\""
            ]
          },
          "metadata": {}
        },
        {
          "output_type": "display_data",
          "data": {
            "text/plain": [
              "  [1]  0  0  0  0  0  0  0 NA  1  0  1  0  0  1  1  1  0  0  0  0  0  0  0  0  1\n",
              " [26]  0  0  0  1  0  1  0  0  0  1  1  1  0  1  0  0  0 NA NA  1  0  0  0  0 NA\n",
              " [51]  1  0  1  1  1  0  0  0  0  0  1  1  1  0  1  0  0  0  0  0  1  1  1  0  1\n",
              " [76]  1  0  0  0  0  0  1  0  1  0  0  0  0  0  1  0  0  0  0  1  1  1  1  0  0\n",
              "[101]  0  0  0  0  0  0  0  0  0  0  1  1  1  0 NA  0  1  0  1  1  0  1  0  0 NA\n",
              "[126]  0  0  0  0  0  0  0  0  1  0  0  0  0  0  1  0  1  0  0  0  1  0  0"
            ]
          },
          "metadata": {}
        },
        {
          "output_type": "display_data",
          "data": {
            "text/plain": [
              "   Min. 1st Qu.  Median    Mean 3rd Qu.    Max.    NA's \n",
              " 0.0000  0.0000  0.0000  0.3099  1.0000  1.0000       6 "
            ]
          },
          "metadata": {}
        },
        {
          "output_type": "display_data",
          "data": {
            "text/plain": [
              "[1]  0 NA  1"
            ]
          },
          "metadata": {}
        }
      ]
    },
    {
      "cell_type": "markdown",
      "source": [
        "Now run the following lines of code to create a factor:"
      ],
      "metadata": {
        "id": "89B0CvOXKJxQ"
      }
    },
    {
      "cell_type": "code",
      "source": [
        "x <- factor(x)\n",
        "class(x)\n",
        "x\n",
        "summary(x)"
      ],
      "metadata": {
        "colab": {
          "base_uri": "https://localhost:8080/",
          "height": 274
        },
        "id": "uJLkqSc4JICL",
        "outputId": "dd75e482-a3b4-4a7e-b1f2-d1c79ce899c7"
      },
      "execution_count": null,
      "outputs": [
        {
          "output_type": "display_data",
          "data": {
            "text/plain": [
              "[1] \"factor\""
            ]
          },
          "metadata": {}
        },
        {
          "output_type": "display_data",
          "data": {
            "text/plain": [
              "  [1] 0    0    0    0    0    0    0    <NA> 1    0    1    0    0    1    1   \n",
              " [16] 1    0    0    0    0    0    0    0    0    1    0    0    0    1    0   \n",
              " [31] 1    0    0    0    1    1    1    0    1    0    0    0    <NA> <NA> 1   \n",
              " [46] 0    0    0    0    <NA> 1    0    1    1    1    0    0    0    0    0   \n",
              " [61] 1    1    1    0    1    0    0    0    0    0    1    1    1    0    1   \n",
              " [76] 1    0    0    0    0    0    1    0    1    0    0    0    0    0    1   \n",
              " [91] 0    0    0    0    1    1    1    1    0    0    0    0    0    0    0   \n",
              "[106] 0    0    0    0    0    1    1    1    0    <NA> 0    1    0    1    1   \n",
              "[121] 0    1    0    0    <NA> 0    0    0    0    0    0    0    0    1    0   \n",
              "[136] 0    0    0    0    1    0    1    0    0    0    1    0    0   \n",
              "Levels: 0 1"
            ]
          },
          "metadata": {}
        },
        {
          "output_type": "display_data",
          "data": {
            "text/plain": [
              "   0    1 NA's \n",
              "  98   44    6 "
            ]
          },
          "metadata": {}
        }
      ]
    },
    {
      "cell_type": "markdown",
      "source": [
        "Notice that although the data have stayed the same, the two summaries are different. This is because although the data haven't changed, the *data representation* or *encoding* has; R treats the numeric encoding differently from the factor encoding.\n",
        "\n",
        "What does the second summary tell us?\n",
        "\n",
        "Judging by these outputs, what do you think a factor is?\n",
        "\n",
        "These subtleties suggest that we can improve the data representation further; the data should be as easy to interpret as possible (\"human readable\"). Representing the data as zeros and ones may be convenient for the computer, but it is confusing when representing the data as a factor because it \"looks\" like numeric data, when in fact it is not.\n",
        "\n",
        "Fortunately, now that the data are stored as a factor, this is easily fixed. To fix this, we modify a property (attribute) of the object. Since this is the first time we are using an object's attributes, let's first take a quick look at the object's attributes:"
      ],
      "metadata": {
        "id": "fPaIW-mmMPxV"
      }
    },
    {
      "cell_type": "code",
      "source": [
        "attributes(x)"
      ],
      "metadata": {
        "colab": {
          "base_uri": "https://localhost:8080/",
          "height": 109
        },
        "id": "LCt4sun4dnA3",
        "outputId": "46fd4d1d-a088-46f9-9801-9ebfd4e5129c"
      },
      "execution_count": null,
      "outputs": [
        {
          "output_type": "display_data",
          "data": {
            "text/plain": [
              "$levels\n",
              "[1] \"no\"  \"yes\"\n",
              "\n",
              "$class\n",
              "[1] \"factor\"\n"
            ]
          },
          "metadata": {}
        }
      ]
    },
    {
      "cell_type": "markdown",
      "source": [
        "What does the \"levels\" attribute keep track of?\n",
        "\n",
        "We can actually modify the levels attribute. For example, this replaces the zeros with \"no\" and ones with \"yes\":"
      ],
      "metadata": {
        "id": "hJAHwwQxxScD"
      }
    },
    {
      "cell_type": "code",
      "source": [
        "levels(x) <- c(\"no\",\"yes\")\n",
        "summary(x)"
      ],
      "metadata": {
        "colab": {
          "base_uri": "https://localhost:8080/",
          "height": 54
        },
        "id": "MAKgdnPJxS39",
        "outputId": "a46b64dc-c01c-4fe8-c3ad-cd53c4c60d09"
      },
      "execution_count": null,
      "outputs": [
        {
          "output_type": "display_data",
          "data": {
            "text/plain": [
              "  no  yes NA's \n",
              "  98   44    6 "
            ]
          },
          "metadata": {}
        }
      ]
    },
    {
      "cell_type": "markdown",
      "source": [
        "Having made these improvements to the shortcoat data, let's store the improved data in the data frame:"
      ],
      "metadata": {
        "id": "Ar4vmItNxtq0"
      }
    },
    {
      "cell_type": "code",
      "source": [
        "dogs$shortcoat <- x\n",
        "summary(dogs)"
      ],
      "metadata": {
        "colab": {
          "base_uri": "https://localhost:8080/",
          "height": 311
        },
        "id": "G3T0-M_NNaTI",
        "outputId": "c65456f1-e1ea-470a-c690-b7d4fd21137e"
      },
      "execution_count": null,
      "outputs": [
        {
          "output_type": "display_data",
          "data": {
            "text/plain": [
              "    breed                aod            height          weight       shortcoat\n",
              " Length:148         Min.   : 6.20   Min.   : 6.00   Min.   :  4.00   no  :98  \n",
              " Class :character   1st Qu.:11.00   1st Qu.:13.00   1st Qu.: 17.88   yes :44  \n",
              " Mode  :character   Median :12.50   Median :19.00   Median : 48.88   NA's: 6  \n",
              "                    Mean   :12.24   Mean   :18.77   Mean   : 49.23            \n",
              "                    3rd Qu.:13.30   3rd Qu.:24.62   3rd Qu.: 67.50            \n",
              "                    Max.   :17.00   Max.   :32.00   Max.   :160.00            \n",
              "                                                                              \n",
              " cfa7_46696633bp \n",
              " Min.   :0.0000  \n",
              " 1st Qu.:0.3420  \n",
              " Median :0.7050  \n",
              " Mean   :0.6195  \n",
              " 3rd Qu.:0.9000  \n",
              " Max.   :1.0000  \n",
              " NA's   :1       "
            ]
          },
          "metadata": {}
        }
      ]
    },
    {
      "cell_type": "markdown",
      "source": [
        "To illustrate the power of factors, let's see how it can be easily incorporated into a linear regression analysis.\n",
        "\n",
        "Earlier I found that dogs with short coats tended not to live quite as long as dogs with longer coats:"
      ],
      "metadata": {
        "id": "Swr5hFcFjNPP"
      }
    },
    {
      "cell_type": "code",
      "source": [
        "sx <- dogs$shortcoat\n",
        "y <- dogs$aod\n",
        "i <- which(x == \"no\")\n",
        "j <- which(x == \"yes\")\n",
        "mean(y[i])\n",
        "mean(y[j])"
      ],
      "metadata": {
        "colab": {
          "base_uri": "https://localhost:8080/",
          "height": 54
        },
        "id": "-R8ttK-UjS6n",
        "outputId": "97e77723-1275-49d5-f201-fa98ee140d77"
      },
      "execution_count": null,
      "outputs": [
        {
          "output_type": "display_data",
          "data": {
            "text/plain": [
              "[1] 12.42245"
            ]
          },
          "metadata": {}
        },
        {
          "output_type": "display_data",
          "data": {
            "text/plain": [
              "[1] 11.78341"
            ]
          },
          "metadata": {}
        }
      ]
    },
    {
      "cell_type": "markdown",
      "source": [
        "Is this difference significant? We can check this with `lm`:"
      ],
      "metadata": {
        "id": "FVmgnqFmyR19"
      }
    },
    {
      "cell_type": "code",
      "source": [
        "fit <- lm(aod ~ shortcoat,dogs)\n",
        "coef(fit)\n",
        "summary(fit)"
      ],
      "metadata": {
        "colab": {
          "base_uri": "https://localhost:8080/",
          "height": 403
        },
        "id": "5uLsJizlyR8e",
        "outputId": "5dae18f5-344d-45a0-91be-11302f225305"
      },
      "execution_count": null,
      "outputs": [
        {
          "output_type": "display_data",
          "data": {
            "text/plain": [
              " (Intercept) shortcoatyes \n",
              "  12.4224490   -0.6390399 "
            ]
          },
          "metadata": {}
        },
        {
          "output_type": "display_data",
          "data": {
            "text/plain": [
              "\n",
              "Call:\n",
              "lm(formula = aod ~ shortcoat, data = dogs)\n",
              "\n",
              "Residuals:\n",
              "    Min      1Q  Median      3Q     Max \n",
              "-6.2224 -1.2224  0.1471  1.0776  4.5776 \n",
              "\n",
              "Coefficients:\n",
              "             Estimate Std. Error t value Pr(>|t|)    \n",
              "(Intercept)   12.4224     0.1897  65.476   <2e-16 ***\n",
              "shortcoatyes  -0.6390     0.3408  -1.875   0.0629 .  \n",
              "---\n",
              "Signif. codes:  0 ‘***’ 0.001 ‘**’ 0.01 ‘*’ 0.05 ‘.’ 0.1 ‘ ’ 1\n",
              "\n",
              "Residual standard error: 1.878 on 140 degrees of freedom\n",
              "  (6 observations deleted due to missingness)\n",
              "Multiple R-squared:  0.02449,\tAdjusted R-squared:  0.01753 \n",
              "F-statistic: 3.515 on 1 and 140 DF,  p-value: 0.06289\n"
            ]
          },
          "metadata": {}
        }
      ]
    },
    {
      "cell_type": "markdown",
      "source": [
        "What does \"shortcoatyes\" output from `coef(fit)` represent? Is the difference significant?\n",
        "\n",
        "The difference in expected lifespan might be explained better by differences in body weight between dogs with short and long coats. Is the AOD difference explained by \"shortcoat\" still significant after including weight as an explanatory variable for AOD?"
      ],
      "metadata": {
        "id": "YLG_5_YsywWn"
      }
    },
    {
      "cell_type": "code",
      "source": [
        "fit <- lm(aod ~ weight + shortcoat,dogs)\n",
        "summary(fit)"
      ],
      "metadata": {
        "colab": {
          "base_uri": "https://localhost:8080/",
          "height": 384
        },
        "id": "wwStFDhdywga",
        "outputId": "ff1b0c09-97ea-4c00-e762-a91435514e0a"
      },
      "execution_count": null,
      "outputs": [
        {
          "output_type": "display_data",
          "data": {
            "text/plain": [
              "\n",
              "Call:\n",
              "lm(formula = aod ~ weight + shortcoat, data = dogs)\n",
              "\n",
              "Residuals:\n",
              "    Min      1Q  Median      3Q     Max \n",
              "-5.3443 -0.7418  0.0920  0.9232  3.4218 \n",
              "\n",
              "Coefficients:\n",
              "              Estimate Std. Error t value Pr(>|t|)    \n",
              "(Intercept)  14.067473   0.215975  65.135   <2e-16 ***\n",
              "weight       -0.034947   0.003421 -10.215   <2e-16 ***\n",
              "shortcoatyes -0.275780   0.260960  -1.057    0.292    \n",
              "---\n",
              "Signif. codes:  0 ‘***’ 0.001 ‘**’ 0.01 ‘*’ 0.05 ‘.’ 0.1 ‘ ’ 1\n",
              "\n",
              "Residual standard error: 1.425 on 139 degrees of freedom\n",
              "  (6 observations deleted due to missingness)\n",
              "Multiple R-squared:  0.4428,\tAdjusted R-squared:  0.4348 \n",
              "F-statistic: 55.22 on 2 and 139 DF,  p-value: < 2.2e-16\n"
            ]
          },
          "metadata": {}
        }
      ]
    },
    {
      "cell_type": "markdown",
      "source": [
        "An index of dog breeds\n",
        "----------------------\n",
        "\n",
        "In this last question, we will organize the dog breeds by the first letter of the breed name. This will involve converting text data to a factor.\n",
        "\n",
        "The first step is to extract. This can be done using `substr`:"
      ],
      "metadata": {
        "id": "q4zRINQoz1F9"
      }
    },
    {
      "cell_type": "code",
      "source": [
        "x <- dogs$breed\n",
        "d <- substr(x,start = 1,stop = 1)\n",
        "d"
      ],
      "metadata": {
        "colab": {
          "base_uri": "https://localhost:8080/",
          "height": 182
        },
        "id": "V0QZnTCT0Z8M",
        "outputId": "e9bdc966-2b6a-42ef-ab1d-dada35df5ee3"
      },
      "execution_count": null,
      "outputs": [
        {
          "output_type": "display_data",
          "data": {
            "text/plain": [
              "  [1] \"A\" \"A\" \"A\" \"A\" \"A\" \"A\" \"A\" \"A\" \"A\" \"A\" \"A\" \"A\" \"A\" \"B\" \"B\" \"B\" \"B\" \"B\"\n",
              " [19] \"B\" \"B\" \"B\" \"B\" \"B\" \"B\" \"B\" \"B\" \"B\" \"B\" \"B\" \"B\" \"B\" \"B\" \"B\" \"B\" \"B\" \"B\"\n",
              " [37] \"B\" \"C\" \"C\" \"C\" \"C\" \"C\" \"C\" \"C\" \"C\" \"C\" \"C\" \"C\" \"C\" \"D\" \"D\" \"D\" \"D\" \"D\"\n",
              " [55] \"E\" \"E\" \"E\" \"E\" \"F\" \"F\" \"F\" \"F\" \"F\" \"G\" \"G\" \"G\" \"G\" \"G\" \"G\" \"G\" \"G\" \"G\"\n",
              " [73] \"G\" \"H\" \"H\" \"I\" \"I\" \"I\" \"I\" \"I\" \"I\" \"I\" \"I\" \"J\" \"J\" \"J\" \"K\" \"K\" \"K\" \"L\"\n",
              " [91] \"L\" \"L\" \"L\" \"M\" \"M\" \"M\" \"M\" \"M\" \"M\" \"M\" \"N\" \"N\" \"N\" \"N\" \"N\" \"O\" \"P\" \"P\"\n",
              "[109] \"P\" \"P\" \"P\" \"P\" \"P\" \"P\" \"P\" \"P\" \"P\" \"P\" \"R\" \"R\" \"S\" \"S\" \"S\" \"S\" \"S\" \"S\"\n",
              "[127] \"S\" \"S\" \"S\" \"S\" \"S\" \"S\" \"S\" \"S\" \"S\" \"S\" \"S\" \"T\" \"T\" \"T\" \"T\" \"W\" \"W\" \"W\"\n",
              "[145] \"W\" \"W\" \"W\" \"Y\""
            ]
          },
          "metadata": {}
        }
      ]
    },
    {
      "cell_type": "markdown",
      "source": [
        "Which is the most common first letter for a dog breed? And how many breeds start with this letter?"
      ],
      "metadata": {
        "id": "oEKTKGTU1376"
      }
    },
    {
      "cell_type": "code",
      "source": [
        "d <- factor(d)\n",
        "s <- summary(d)\n",
        "which.max(s)\n",
        "max(s)"
      ],
      "metadata": {
        "colab": {
          "base_uri": "https://localhost:8080/",
          "height": 72
        },
        "id": "ys3cgLrb1zUB",
        "outputId": "27995511-fa59-4340-d72e-3896b5237585"
      },
      "execution_count": null,
      "outputs": [
        {
          "output_type": "display_data",
          "data": {
            "text/plain": [
              "B \n",
              "2 "
            ]
          },
          "metadata": {}
        },
        {
          "output_type": "display_data",
          "data": {
            "text/plain": [
              "[1] 24"
            ]
          },
          "metadata": {}
        }
      ]
    },
    {
      "cell_type": "markdown",
      "source": [
        "Notice that the `factor` function automatically determined which letters were needed. Here, it would be useful to include all the letters in the alphabet, not just the ones that are needed. Modify your `factor` call above to include the unused letters as well. See `help(factor)` and `help(LETTERS)` for guidance."
      ],
      "metadata": {
        "id": "nXTUhXGqxi1i"
      }
    },
    {
      "cell_type": "code",
      "source": [
        "d <- factor(d,LETTERS)"
      ],
      "metadata": {
        "colab": {
          "base_uri": "https://localhost:8080/",
          "height": 54
        },
        "id": "CpszGc8cxgEK",
        "outputId": "fe3abd84-1eba-4510-dc5e-172c726fdf8a"
      },
      "execution_count": null,
      "outputs": [
        {
          "output_type": "display_data",
          "data": {
            "text/plain": [
              " Q  U  V  X  Z \n",
              "17 21 22 24 26 "
            ]
          },
          "metadata": {}
        }
      ]
    },
    {
      "cell_type": "markdown",
      "source": [
        "Once you have the new factor using all the letters, write code to determine which letters are not used for the first letter of any dog breed:"
      ],
      "metadata": {
        "id": "ngLTJNF13ASG"
      }
    },
    {
      "cell_type": "code",
      "source": [
        "s <- summary(d)\n",
        "which(s == 0)"
      ],
      "metadata": {
        "colab": {
          "base_uri": "https://localhost:8080/",
          "height": 54
        },
        "id": "HZpXcAb63AYI",
        "outputId": "bf1024e8-2433-4673-bad0-409b20a79fb6"
      },
      "execution_count": null,
      "outputs": [
        {
          "output_type": "display_data",
          "data": {
            "text/plain": [
              " Q  U  V  X  Z \n",
              "17 21 22 24 26 "
            ]
          },
          "metadata": {}
        }
      ]
    },
    {
      "cell_type": "markdown",
      "source": [
        "Outline of remaining content:\n",
        "\n",
        "+ Putting your skills together: analyze the Storm Event data.\n",
        "\n",
        "+ ggplot2 tutorial using dogs data.\n",
        "\n",
        "+ ggplot2 Programming Challenge on the mouse data."
      ],
      "metadata": {
        "id": "sOZ3sQfLW4dc"
      }
    }
  ]
}