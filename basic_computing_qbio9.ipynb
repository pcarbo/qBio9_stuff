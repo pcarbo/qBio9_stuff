{
  "nbformat": 4,
  "nbformat_minor": 0,
  "metadata": {
    "colab": {
      "provenance": [],
      "toc_visible": true,
      "authorship_tag": "ABX9TyM/Bf4XEfjY6OH6fUj1Jmrq",
      "include_colab_link": true
    },
    "kernelspec": {
      "name": "ir",
      "display_name": "R"
    },
    "language_info": {
      "name": "R"
    }
  },
  "cells": [
    {
      "cell_type": "markdown",
      "metadata": {
        "id": "view-in-github",
        "colab_type": "text"
      },
      "source": [
        "<a href=\"https://colab.research.google.com/github/pcarbo/qBio9_stuff/blob/main/basic_computing_qbio9.ipynb\" target=\"_parent\"><img src=\"https://colab.research.google.com/assets/colab-badge.svg\" alt=\"Open In Colab\"/></a>"
      ]
    },
    {
      "cell_type": "markdown",
      "source": [
        "Peter Carbonetto<br>\n",
        "University of Chicago<br>\n",
        "Chicago, IL<br>\n",
        "*Last modified on August 15, 2023*"
      ],
      "metadata": {
        "id": "4ZeIUdIfkX_A"
      }
    },
    {
      "cell_type": "markdown",
      "source": [
        "How this tutorial is organized\n",
        "==============================\n",
        "\n",
        "This tutorial is divided into three parts:\n",
        "\n",
        "+ In the first part, you will get comfortable with analyzing a (small) data set in R in two different computing spaces: (a) in a Jupyter notebook interface \"in the cloud\" (to be more precise, using a virtual machine provided by the Google Colab service), and (b) in RStudio on your laptop. This focus of this first part is understanding an important data structure in R, *the data frame*: what it is, how to use it, and understanding why it is so integral to performing data analyzes in R.\n",
        "\n",
        "+ In the second part, you will apply the skills developed in Part 1 to a (much) larger data set. One of the takeaways of this second part is that analyzing a very large data set in R is not much different than analyzing a small data set (both are data frames).\n",
        "\n",
        "+ In third part, you will improve your plotting skills in R, first for analyzing a small data set (but nonetheless very real data set from a *Genetics* paper), and later on a larger more complex data set (these data were from a *Nature Genetics* paper). For this, you will learn how to use a very powerful and widely used R package called ggplot2. (Data frames are again a central to ggplot2.)"
      ],
      "metadata": {
        "id": "Y7QQCIMMdn37"
      }
    },
    {
      "cell_type": "markdown",
      "source": [
        "Some initial notes about computing\n",
        "==================================\n",
        "\n",
        "The first computer I learned to program on was an [Apple IIc](https://en.wikipedia.org/wiki/Apple_IIc). Things have changed a lot since then:\n",
        "\n",
        "+ Computing has become *highly distributed and interconnected.* (Most likely, a lot of the data for your research will be stored in computers that are very far away from you, and yet you can access these data in seconds. And you can even *analyze your data* on computers far away that you cannot see or touch.)\n",
        "\n",
        "+ The world of computing has expanded enormously in scope and variety, and [computing technology continues to change rapidly](https://catalog.lib.uchicago.edu/vufind/Record/10996185).\n",
        "\n",
        "+ [Interactive programming](https://py.mit.edu/spring23/labs/lisp_1) (MATLAB, R, Python, Spark, *etc*) has become a predominant mode for doing computing, in particular for analyzing data.\n",
        "\n",
        "+ Scientific computing tools, data sets and publications are increasingly **open**. (See [the NIH's new policy on sharing data](https://oir.nih.gov/sourcebook/intramural-program-oversight/intramural-data-sharing/2023-nih-data-management-sharing-policy).)"
      ],
      "metadata": {
        "id": "JaXA1lDFcH7G"
      }
    },
    {
      "cell_type": "markdown",
      "source": [
        "How should we navigate this complex computing world for our research?\n",
        "\n",
        "+ **As scientists** navigating this complex computing world, we should strive to understand, and check that our understanding is correct.\n",
        "\n",
        "+ Learn the fundamentals, not just the specifics of the transitory technologies.\n",
        "\n",
        "+ Simple tools and workflows are *more robust* than complex tools and workflows.\n",
        "\n",
        "+ Be intentional in using tools: which will actually help me do good research and help me contribute to science?\n",
        "\n",
        "+ Make your work *human accessible*. This is now more important than ever. (See: HTML, git, [workflowr](https://doi.org/10.12688/f1000research.20843.1)).\n",
        "\n",
        "+ Learn from your colleages and peers (no single person is an authority)."
      ],
      "metadata": {
        "id": "mZFK0n6vxvQ6"
      }
    },
    {
      "cell_type": "markdown",
      "source": [
        "What in the **bleep** *is* this document?\n",
        "=========================================\n",
        "\n",
        "This is a *jupyter notebook.*\n",
        "\n",
        "A \"jupyter notebook\", confusingly, means two different things!\n",
        "\n",
        "One meaning: it is a document or a file, like a Word document or CSV file. This is a document divided into *cells*; each cell contains some code and results (numerical results, plots, *etc*) generated by running this code. (I call them \"chunks\" instead of \"cells\", but the idea is the same.)\n",
        "\n",
        "This document can encode other types of information:\n",
        "formatted text ([Markdown](https://daringfireball.net/projects/markdown/syntax)), mathematical equations, *etc*---in other words, the many of the types of information that you might want to document for your research!\n",
        "\n",
        "The information notebook is encoded in an open file format called [XML](https://github.com/pcarbo/qBio9_stuff/blob/main/basic_computing_qbio9.ipynb?short_path=481ca6b).\n",
        "\n",
        "But the Jupyter notebook file format is now also widely recognized, so for example [GitHub will show the contents of a Jupyter notebook in a more accessible and evocative way](https://github.com/pcarbo/qBio9_stuff/blob/main/basic_computing_qbio9.ipynb).\n",
        "\n",
        "The other meaning of Jupyter notebook: it is an **IDE** (short for \"integrated development environment\"). In short, it is a particular interface for doing your data analysis. You can access this IDE in Google Colab, or you can download this IDE on your computer [here](https://jupyter.org).\n",
        "\n",
        "Jupyter notebook IDE is different from the RStudio IDE; Each IDE has its benefits and limitations. *No single IDE is \"best\".*"
      ],
      "metadata": {
        "id": "r8oEgIlyqRHD"
      }
    },
    {
      "cell_type": "markdown",
      "source": [
        "How should I use this document?\n",
        "===============================\n",
        "\n",
        "Perhaps the simplest thing you can do is copy and paste chunks code, one cell at a time, into R, or into the Console in RStudio, and examine the outputs.\n",
        "(Please try this!)\n",
        "\n",
        "And of course you can open up this document in Jupyter notebook IDE and run the code it there. This would be more elegant than the copy-and-paste approach, but not necessarily \"better\".\n",
        "\n",
        "Quite remarkably, to start up a *virtual machine that runs on a server operated by Google.* Even more remarkably, this is done simply by open this link in your favourite browser:\n",
        "\n",
        "https://colab.research.google.com/github/pcarbo/qBio9_stuff/blob/main/basic_computing_qbio9.ipynb\n",
        "\n",
        "Once you have done this, run these two lines of code to check that you have a working virtual machine. (Yes, please do this!)"
      ],
      "metadata": {
        "id": "M8Thuy9ttXw3"
      }
    },
    {
      "cell_type": "code",
      "source": [
        "x <- rnorm(200)\n",
        "hist(x,n = 32)"
      ],
      "metadata": {
        "id": "XruWYUy5cT23",
        "colab": {
          "base_uri": "https://localhost:8080/",
          "height": 437
        },
        "outputId": "b5543809-faff-4f0e-dbbf-b88caa4beac4"
      },
      "execution_count": null,
      "outputs": [
        {
          "output_type": "display_data",
          "data": {
            "text/plain": [
              "Plot with title “Histogram of x”"
            ],
            "image/png": "[encoded data removed]"
          },
          "metadata": {
            "image/png": {
              "width": 420,
              "height": 420
            }
          }
        }
      ]
    },
    {
      "cell_type": "markdown",
      "source": [
        "You may notice that your histogram is not the same as mine. Why not? How can we ensure that they are the same?"
      ],
      "metadata": {
        "id": "87EJ9_qrBhXg"
      }
    },
    {
      "cell_type": "markdown",
      "source": [
        "**Note:** I run this every time in Jupyter notebook or Google Colab to make the code outputs look like they do in RStudio."
      ],
      "metadata": {
        "id": "HpU8htieezCS"
      }
    },
    {
      "cell_type": "code",
      "source": [
        "options(jupyter.rich_display = FALSE)"
      ],
      "metadata": {
        "id": "fMKN74J1ezJD"
      },
      "execution_count": null,
      "outputs": []
    },
    {
      "cell_type": "markdown",
      "source": [
        "An invitation\n",
        "=============\n",
        "\n",
        "My Jupyter notebook is *an invitation* to enter my computing environment and run the computations *exactly as I did*. So I am not only sharing the code, the data, and the results produced by the code and data, but also the *computing context* in which the data analysis was developed."
      ],
      "metadata": {
        "id": "xq9VkZdp7C5f"
      }
    },
    {
      "cell_type": "markdown",
      "source": [
        "My data analysis, briefly\n",
        "=========================\n",
        "\n",
        "Here is my data analysis. It is an analysis of data from a [2008 *Genetics* article](https://doi.org/10.1534/genetics.108.087866) on the genetics of dog breeds. We will use this analysis as a jumping point to learn about R. But before we try to understand what the code is doing, let's start by *trying to run the code and reproduce the analysis.*"
      ],
      "metadata": {
        "id": "kpvafZU0WB0J"
      }
    },
    {
      "cell_type": "markdown",
      "source": [
        "The code is split into two chunks.\n",
        "\n",
        "The first code chunk retrieves  what we need (the data and the R packages) to run the analysis:"
      ],
      "metadata": {
        "id": "cEALKzOK6L-3"
      }
    },
    {
      "cell_type": "code",
      "source": [
        "system(\"wget https://raw.githubusercontent.com/pcarbo/qBio9_stuff/main/dogs.csv\")\n",
        "list.files()\n",
        "install.packages(\"ggplot2\")\n",
        "install.packages(\"ggrepel\")\n",
        "install.packages(\"cowplot\")\n",
        "install.packages(\"repr\")"
      ],
      "metadata": {
        "id": "YwRvSgZAWZ81",
        "colab": {
          "base_uri": "https://localhost:8080/",
          "height": 255
        },
        "outputId": "5a40ebe8-abdb-4239-808c-2b1f3ba8d9e0"
      },
      "execution_count": null,
      "outputs": [
        {
          "output_type": "display_data",
          "data": {
            "text/html": [
              "<style>\n",
              ".list-inline {list-style: none; margin:0; padding: 0}\n",
              ".list-inline>li {display: inline-block}\n",
              ".list-inline>li:not(:last-child)::after {content: \"\\00b7\"; padding: 0 .5ex}\n",
              "</style>\n",
              "<ol class=list-inline><li>'dogs.csv'</li><li>'dogs.csv.1'</li><li>'sample_data'</li></ol>\n"
            ],
            "text/markdown": "1. 'dogs.csv'\n2. 'dogs.csv.1'\n3. 'sample_data'\n\n\n",
            "text/latex": "\\begin{enumerate*}\n\\item 'dogs.csv'\n\\item 'dogs.csv.1'\n\\item 'sample\\_data'\n\\end{enumerate*}\n",
            "text/plain": [
              "[1] \"dogs.csv\"    \"dogs.csv.1\"  \"sample_data\""
            ]
          },
          "metadata": {}
        },
        {
          "output_type": "stream",
          "name": "stderr",
          "text": [
            "Installing package into ‘/usr/local/lib/R/site-library’\n",
            "(as ‘lib’ is unspecified)\n",
            "\n",
            "Installing package into ‘/usr/local/lib/R/site-library’\n",
            "(as ‘lib’ is unspecified)\n",
            "\n",
            "Installing package into ‘/usr/local/lib/R/site-library’\n",
            "(as ‘lib’ is unspecified)\n",
            "\n",
            "Installing package into ‘/usr/local/lib/R/site-library’\n",
            "(as ‘lib’ is unspecified)\n",
            "\n"
          ]
        }
      ]
    },
    {
      "cell_type": "markdown",
      "source": [
        "The second chunk runs the analysis:"
      ],
      "metadata": {
        "id": "_ehmx4CB6mXT"
      }
    },
    {
      "cell_type": "code",
      "source": [
        "library(\"ggplot2\")\n",
        "library(\"ggrepel\")\n",
        "library(\"cowplot\")\n",
        "library(\"repr\")\n",
        "dogs <- read.csv(\"dogs.csv\",stringsAsFactors = FALSE)\n",
        "fit <- lm(aod ~ weight,dogs)\n",
        "summary(fit)\n",
        "a <- coef(fit)[\"weight\"]\n",
        "b <- coef(fit)[\"(Intercept)\"]\n",
        "options(repr.plot.width = 4,repr.plot.height = 4,repr.plot.res = 150)\n",
        "p <- ggplot(dogs,aes(x = weight,y = aod,label = breed)) +\n",
        "  geom_point(size = 2) +\n",
        "  geom_text_repel() +\n",
        "  geom_abline(slope = a,intercept = b,col = \"magenta\",\n",
        "              linewidth = 1,linetype = \"dashed\") +\n",
        "  labs(x = \"body weight (lbs)\",y = \"longevity (years)\") +\n",
        "  theme_cowplot()\n",
        "p"
      ],
      "metadata": {
        "id": "BVRrp6SeYCWI",
        "colab": {
          "base_uri": "https://localhost:8080/",
          "height": 684
        },
        "outputId": "b9b3c666-0c9f-4374-e609-a0f7f9b36b98"
      },
      "execution_count": null,
      "outputs": [
        {
          "output_type": "display_data",
          "data": {
            "text/plain": [
              "\n",
              "Call:\n",
              "lm(formula = aod ~ weight, data = dogs)\n",
              "\n",
              "Residuals:\n",
              "    Min      1Q  Median      3Q     Max \n",
              "-4.0786 -0.7385  0.1788  1.0208  3.3865 \n",
              "\n",
              "Coefficients:\n",
              "             Estimate Std. Error t value Pr(>|t|)    \n",
              "(Intercept) 14.113398   0.216519   65.18   <2e-16 ***\n",
              "weight      -0.035704   0.003557  -10.04   <2e-16 ***\n",
              "---\n",
              "Signif. codes:  0 ‘***’ 0.001 ‘**’ 0.01 ‘*’ 0.05 ‘.’ 0.1 ‘ ’ 1\n",
              "\n",
              "Residual standard error: 1.395 on 118 degrees of freedom\n",
              "Multiple R-squared:  0.4605,\tAdjusted R-squared:  0.456 \n",
              "F-statistic: 100.7 on 1 and 118 DF,  p-value: < 2.2e-16\n"
            ]
          },
          "metadata": {}
        },
        {
          "output_type": "stream",
          "name": "stderr",
          "text": [
            "Warning message:\n",
            "“ggrepel: 75 unlabeled data points (too many overlaps). Consider increasing max.overlaps”\n"
          ]
        },
        {
          "output_type": "display_data",
          "data": {
            "text/plain": [
              "plot without title"
            ],
            "image/png": "[encoded data removed]"
          },
          "metadata": {
            "image/png": {
              "width": 300,
              "height": 300
            }
          }
        }
      ]
    },
    {
      "cell_type": "markdown",
      "source": [
        "I hope you were able to run the analysis successfully! Try running it in Google Colab and in RStudio.\n",
        "\n",
        "Now we will run the *same analysis again*. But this time we will do so more carefully and try to understand what each line of code does.\n",
        "\n",
        "First, let's clear the variables from our R environment to start the analysis with a fresh environment."
      ],
      "metadata": {
        "id": "wrgQt96J6xvY"
      }
    },
    {
      "cell_type": "code",
      "source": [
        "rm(list = ls())"
      ],
      "metadata": {
        "id": "qcm7hyEz70Zn"
      },
      "execution_count": null,
      "outputs": []
    },
    {
      "cell_type": "markdown",
      "source": [
        "A data analysis, in detail\n",
        "==========================\n",
        "\n",
        "Let's now carefully walk through the analysis of the dogs data."
      ],
      "metadata": {
        "id": "7I-25Oqu7oL1"
      }
    },
    {
      "cell_type": "markdown",
      "source": [
        "Retrieve the data\n",
        "-----------------\n",
        "\n",
        "A key ingredient of course is the data set. I put the data set in the same GitHub repository where this Jupyter notebook is stored. We need to copy it to the virtual machine to use it here. There are a number of ways to do this. I chose to use the shell command \"wget\" to be transparent about what is going on: (1) wget downloads the file to R's working directory; (2) the working directory is currently `/content`."
      ],
      "metadata": {
        "id": "6UxG4AWnV8NG"
      }
    },
    {
      "cell_type": "code",
      "source": [
        "getwd()\n",
        "system(\"wget https://raw.githubusercontent.com/pcarbo/qBio9_stuff/main/dogs.csv\")\n",
        "list.files()"
      ],
      "metadata": {
        "id": "X0OtrKLDGmKH",
        "colab": {
          "base_uri": "https://localhost:8080/",
          "height": 52
        },
        "outputId": "fc5de622-08ee-4e64-87df-823b95b9bea9"
      },
      "execution_count": null,
      "outputs": [
        {
          "output_type": "display_data",
          "data": {
            "text/html": [
              "'/content'"
            ],
            "text/markdown": "'/content'",
            "text/latex": "'/content'",
            "text/plain": [
              "[1] \"/content\""
            ]
          },
          "metadata": {}
        },
        {
          "output_type": "display_data",
          "data": {
            "text/html": [
              "<style>\n",
              ".list-inline {list-style: none; margin:0; padding: 0}\n",
              ".list-inline>li {display: inline-block}\n",
              ".list-inline>li:not(:last-child)::after {content: \"\\00b7\"; padding: 0 .5ex}\n",
              "</style>\n",
              "<ol class=list-inline><li>'dogs.csv'</li><li>'sample_data'</li></ol>\n"
            ],
            "text/markdown": "1. 'dogs.csv'\n2. 'sample_data'\n\n\n",
            "text/latex": "\\begin{enumerate*}\n\\item 'dogs.csv'\n\\item 'sample\\_data'\n\\end{enumerate*}\n",
            "text/plain": [
              "[1] \"dogs.csv\"    \"sample_data\""
            ]
          },
          "metadata": {}
        }
      ]
    },
    {
      "cell_type": "markdown",
      "source": [
        "Install packages\n",
        "----------------\n",
        "\n",
        "Next, we download and install some R packages from CRAN. This only needs to be done once (so we don't really need to do again since we already did it above)."
      ],
      "metadata": {
        "id": "0gpvFE9FJX9G"
      }
    },
    {
      "cell_type": "code",
      "source": [
        "install.packages(\"ggplot2\")\n",
        "install.packages(\"ggrepel\")\n",
        "install.packages(\"cowplot\")\n",
        "install.packages(\"repr\")"
      ],
      "metadata": {
        "id": "PPoEivQUJYZS",
        "colab": {
          "base_uri": "https://localhost:8080/"
        },
        "outputId": "ebad6bd5-2816-4a84-c53e-511d3dcedb9a"
      },
      "execution_count": null,
      "outputs": [
        {
          "output_type": "stream",
          "name": "stderr",
          "text": [
            "Installing package into ‘/usr/local/lib/R/site-library’\n",
            "(as ‘lib’ is unspecified)\n",
            "\n",
            "Installing package into ‘/usr/local/lib/R/site-library’\n",
            "(as ‘lib’ is unspecified)\n",
            "\n",
            "also installing the dependency ‘Rcpp’\n",
            "\n",
            "\n",
            "Installing package into ‘/usr/local/lib/R/site-library’\n",
            "(as ‘lib’ is unspecified)\n",
            "\n",
            "Installing package into ‘/usr/local/lib/R/site-library’\n",
            "(as ‘lib’ is unspecified)\n",
            "\n"
          ]
        }
      ]
    },
    {
      "cell_type": "markdown",
      "source": [
        "Load packages\n",
        "-------------\n",
        "\n",
        "The functions and other resources in an R package are not available to us in our current session until we tell R that we want to use the package:"
      ],
      "metadata": {
        "id": "drluujR9KKed"
      }
    },
    {
      "cell_type": "code",
      "source": [
        "library(\"ggplot2\")\n",
        "library(\"ggrepel\")\n",
        "library(\"cowplot\")\n",
        "library(\"repr\")"
      ],
      "metadata": {
        "id": "ICXYiaUnKFCk"
      },
      "execution_count": null,
      "outputs": []
    },
    {
      "cell_type": "markdown",
      "source": [
        "Although we don't make use of these packages immediately, it is good practice to load the packages at the beginning so that we are upfront about what we need to run the analysis. This is part of a larger theme about *documenting the minimum requirements for an analysis.* The `sessionInfo()` function gives us more info about our computing environment, and which R packages were used in the analysis:"
      ],
      "metadata": {
        "id": "EqgXIm_XPCkV"
      }
    },
    {
      "cell_type": "code",
      "source": [
        "sessionInfo()"
      ],
      "metadata": {
        "colab": {
          "base_uri": "https://localhost:8080/",
          "height": 660
        },
        "id": "wzeL2muLPRt5",
        "outputId": "e6595134-72a9-467a-e552-0e4986f28f5e"
      },
      "execution_count": null,
      "outputs": [
        {
          "output_type": "display_data",
          "data": {
            "text/plain": [
              "R version 4.3.1 (2023-06-16)\n",
              "Platform: x86_64-pc-linux-gnu (64-bit)\n",
              "Running under: Ubuntu 22.04.2 LTS\n",
              "\n",
              "Matrix products: default\n",
              "BLAS:   /usr/lib/x86_64-linux-gnu/openblas-pthread/libblas.so.3 \n",
              "LAPACK: /usr/lib/x86_64-linux-gnu/openblas-pthread/libopenblasp-r0.3.20.so;  LAPACK version 3.10.0\n",
              "\n",
              "locale:\n",
              " [1] LC_CTYPE=en_US.UTF-8       LC_NUMERIC=C              \n",
              " [3] LC_TIME=en_US.UTF-8        LC_COLLATE=en_US.UTF-8    \n",
              " [5] LC_MONETARY=en_US.UTF-8    LC_MESSAGES=en_US.UTF-8   \n",
              " [7] LC_PAPER=en_US.UTF-8       LC_NAME=C                 \n",
              " [9] LC_ADDRESS=C               LC_TELEPHONE=C            \n",
              "[11] LC_MEASUREMENT=en_US.UTF-8 LC_IDENTIFICATION=C       \n",
              "\n",
              "time zone: Etc/UTC\n",
              "tzcode source: system (glibc)\n",
              "\n",
              "attached base packages:\n",
              "[1] stats     graphics  grDevices utils     datasets  methods   base     \n",
              "\n",
              "other attached packages:\n",
              "[1] repr_1.1.6    cowplot_1.1.1 ggrepel_0.9.3 ggplot2_3.4.2\n",
              "\n",
              "loaded via a namespace (and not attached):\n",
              " [1] crayon_1.5.2     vctrs_0.6.3      cli_3.6.1        rlang_1.1.1     \n",
              " [5] generics_0.1.3   jsonlite_1.8.7   glue_1.6.2       colorspace_2.1-0\n",
              " [9] htmltools_0.5.5  IRdisplay_1.1    IRkernel_1.3.2   scales_1.2.1    \n",
              "[13] fansi_1.0.4      grid_4.3.1       evaluate_0.21    munsell_0.5.0   \n",
              "[17] tibble_3.2.1     fastmap_1.1.1    base64enc_0.1-3  lifecycle_1.0.3 \n",
              "[21] compiler_4.3.1   dplyr_1.1.2      Rcpp_1.0.11      pkgconfig_2.0.3 \n",
              "[25] pbdZMQ_0.3-9     digest_0.6.33    R6_2.5.1         tidyselect_1.2.0\n",
              "[29] utf8_1.2.3       pillar_1.9.0     magrittr_2.0.3   withr_2.5.0     \n",
              "[33] uuid_1.1-0       tools_4.3.1      gtable_0.3.3    "
            ]
          },
          "metadata": {}
        }
      ]
    },
    {
      "cell_type": "markdown",
      "source": [
        "You may have figured this out already, nonetheless it is important to note that the *order in which you run the code chunks matters.* The convention in a Jupyter notebook is that code chunks are executed from top to bottom, and you should follow this convention when designing your notebook. But (surprisingly!) Jupyter does not stop you from trying to execute the code chunks in a different order, and this becomes a frequent source of confusion.  "
      ],
      "metadata": {
        "id": "VbgqUOVJUkP4"
      }
    },
    {
      "cell_type": "markdown",
      "source": [
        "Import the data into R as a data frame\n",
        "--------------------------------------\n",
        "\n",
        "The dogs data are stored in a [CSV file](https://github.com/pcarbo/qBio9_stuff/blob/main/dogs.csv). We use the `read.csv` function to *import the data into a data structure that is convenient for analysis in R.* (Note this command will only work if your R working directory is the same as the directory containing `dogs.csv`.) Although this is a single line of code, there is a lot going on under the surface."
      ],
      "metadata": {
        "id": "hyxBg12xK4fZ"
      }
    },
    {
      "cell_type": "code",
      "source": [
        "dogs <- read.csv(\"dogs.csv\",stringsAsFactors = FALSE)"
      ],
      "metadata": {
        "id": "Cj8NQoFyK5db"
      },
      "execution_count": null,
      "outputs": []
    },
    {
      "cell_type": "markdown",
      "source": [
        "Let's deconstruct what we did:\n",
        "\n",
        "1. We called function `read.csv`. This is a flexible function that can do many, many things, and has many options. To learn more, run `help(read.csv)`. For now, it suffices to know that we set the \"file\" argument to `\"dogs.csv\"`, and we set the `stringsAsFactors` argument to FALSE. (In time we will understand why, but to understand why we will first need to understand what *factors* are.)"
      ],
      "metadata": {
        "id": "pMrGqhZiMlft"
      }
    },
    {
      "cell_type": "markdown",
      "source": [
        "2. The output of `read.csv` is assigned to an object in our R environment which we have called \"dogs\". If the object does not exist already, it is created. If it does exist, it is overwritten. A common mistake is to forget to assign the output. *What happens if we forget to do that?*"
      ],
      "metadata": {
        "id": "mLVgwZ5ZN29x"
      }
    },
    {
      "cell_type": "code",
      "source": [
        "read.csv(\"dogs.csv\",stringsAsFactors = FALSE)"
      ],
      "metadata": {
        "id": "ztMpqGvHNyFw"
      },
      "execution_count": null,
      "outputs": []
    },
    {
      "cell_type": "markdown",
      "source": [
        "What if we had not used the double quotes for `\"dogs.csv\"`?"
      ],
      "metadata": {
        "id": "3U1WQ1k-OiIg"
      }
    },
    {
      "cell_type": "code",
      "source": [
        "dogs <- read.csv(dogs.csv,stringsAsFactors = FALSE)"
      ],
      "metadata": {
        "id": "8e18oESeOhN6"
      },
      "execution_count": null,
      "outputs": []
    },
    {
      "cell_type": "markdown",
      "source": [
        "What is this object? To find out, we can print out its contents:"
      ],
      "metadata": {
        "id": "kNRauLYqPNBj"
      }
    },
    {
      "cell_type": "code",
      "source": [
        "dogs"
      ],
      "metadata": {
        "id": "PxcxiBYPPK38"
      },
      "execution_count": null,
      "outputs": []
    },
    {
      "cell_type": "markdown",
      "source": [
        "Or we can *summarize* its contents:"
      ],
      "metadata": {
        "id": "KmLv8x2xPqoj"
      }
    },
    {
      "cell_type": "code",
      "source": [
        "summary(dogs)"
      ],
      "metadata": {
        "id": "HUE9afSbPsWl",
        "colab": {
          "base_uri": "https://localhost:8080/",
          "height": 311
        },
        "outputId": "b522879e-bbb5-4ca1-f791-b6d40d017a08"
      },
      "execution_count": null,
      "outputs": [
        {
          "output_type": "display_data",
          "data": {
            "text/plain": [
              "    breed                aod            height          weight      \n",
              " Length:120         Min.   : 6.20   Min.   : 6.00   Min.   :  5.00  \n",
              " Class :character   1st Qu.:11.15   1st Qu.:13.00   1st Qu.: 17.38  \n",
              " Mode  :character   Median :12.55   Median :19.00   Median : 46.38  \n",
              "                    Mean   :12.36   Mean   :18.73   Mean   : 49.23  \n",
              "                    3rd Qu.:13.50   3rd Qu.:24.62   3rd Qu.: 67.50  \n",
              "                    Max.   :17.00   Max.   :32.00   Max.   :160.00  \n",
              "                                                                    \n",
              "   shortcoat      cfa7_46696633bp \n",
              " Min.   :0.0000   Min.   :0.0000  \n",
              " 1st Qu.:0.0000   1st Qu.:0.3455  \n",
              " Median :0.0000   Median :0.6880  \n",
              " Mean   :0.3043   Mean   :0.6054  \n",
              " 3rd Qu.:1.0000   3rd Qu.:0.8800  \n",
              " Max.   :1.0000   Max.   :1.0000  \n",
              " NA's   :5        NA's   :1       "
            ]
          },
          "metadata": {}
        }
      ]
    },
    {
      "cell_type": "markdown",
      "source": [
        "`read.csv` in fact outputs a very special object called a *data frame:*"
      ],
      "metadata": {
        "id": "uXDCE8kxP498"
      }
    },
    {
      "cell_type": "code",
      "source": [
        "class(dogs)"
      ],
      "metadata": {
        "id": "8ebsmXPWP5Yg",
        "colab": {
          "base_uri": "https://localhost:8080/",
          "height": 34
        },
        "outputId": "9ee6a6e9-7ea4-4007-d794-9b21d36d641f"
      },
      "execution_count": null,
      "outputs": [
        {
          "output_type": "display_data",
          "data": {
            "text/html": [
              "'data.frame'"
            ],
            "text/markdown": "'data.frame'",
            "text/latex": "'data.frame'",
            "text/plain": [
              "[1] \"data.frame\""
            ]
          },
          "metadata": {}
        }
      ]
    },
    {
      "cell_type": "markdown",
      "source": [
        "A data frame is R's main data structure for *storing tabular data.* The data frame is one of the most important data structures in R, and is important enough that we will spend much of this tutorial seeking to understand how to work with and analyze data in data frames. (Not all data of course is tabular data, but because so many things in R work well with data frames, it can be helpful to find ways to rework your data so that it fits into a data frame.)\n",
        "\n",
        "If you are used to the \"point-and-click\" way of doing things (e.g., in Excel), it may seem silly to have arrived at this point where we have written a bunch of code, and all we have done is printed the contents of the CSV to the screen. The advantages of R are less obvious when working with a small\n",
        "data set. Later, we will work with a larger data set."
      ],
      "metadata": {
        "id": "jcilcdePTxnt"
      }
    },
    {
      "cell_type": "markdown",
      "source": [
        "Perform a linear regression\n",
        "---------------------------\n",
        "\n",
        "The data frame contains a lot of interesting data. I was particularly interested in studying the relationship between a breed's size (using the \"weight\" column) and the expected longevity (using the \"aod\" column, short for \"age of death\"). I used the `lm` function in R, which can be thought of as R's \"Swiss army knife\" for performing linear regression. (\"lm\" is short for \"linear model\", so `lm` is the main function in R for *fitting linear models.*)"
      ],
      "metadata": {
        "id": "E0viIJlgWX19"
      }
    },
    {
      "cell_type": "code",
      "source": [
        "fit <- lm(aod ~ weight,dogs)"
      ],
      "metadata": {
        "id": "bJczfg8-WQCl"
      },
      "execution_count": null,
      "outputs": []
    },
    {
      "cell_type": "markdown",
      "source": [
        "The output from `lm` is a particularly complex \"lm\" object:"
      ],
      "metadata": {
        "id": "vljnQ4ORag_c"
      }
    },
    {
      "cell_type": "code",
      "source": [
        "class(fit)"
      ],
      "metadata": {
        "colab": {
          "base_uri": "https://localhost:8080/",
          "height": 34
        },
        "id": "LIjjF7IrakJ3",
        "outputId": "4d4c53cc-3d70-4114-a699-90f2a1f78c7c"
      },
      "execution_count": null,
      "outputs": [
        {
          "output_type": "display_data",
          "data": {
            "text/html": [
              "'lm'"
            ],
            "text/markdown": "'lm'",
            "text/latex": "'lm'",
            "text/plain": [
              "[1] \"lm\""
            ]
          },
          "metadata": {}
        }
      ]
    },
    {
      "cell_type": "markdown",
      "source": [
        "Nonetheless, the `summary` function works on the output to give us lots of useful information about how the regression was conducted, and summarizes the key results:"
      ],
      "metadata": {
        "id": "9F2Glsuba6t-"
      }
    },
    {
      "cell_type": "code",
      "source": [
        "summary(fit)"
      ],
      "metadata": {
        "colab": {
          "base_uri": "https://localhost:8080/",
          "height": 348
        },
        "id": "xA--fPo0a77E",
        "outputId": "09e9e1d5-39ea-4efa-f8f1-55c98c558667"
      },
      "execution_count": null,
      "outputs": [
        {
          "output_type": "display_data",
          "data": {
            "text/plain": [
              "\n",
              "Call:\n",
              "lm(formula = aod ~ weight, data = dogs)\n",
              "\n",
              "Residuals:\n",
              "    Min      1Q  Median      3Q     Max \n",
              "-4.0786 -0.7385  0.1788  1.0208  3.3865 \n",
              "\n",
              "Coefficients:\n",
              "             Estimate Std. Error t value Pr(>|t|)    \n",
              "(Intercept) 14.113398   0.216519   65.18   <2e-16 ***\n",
              "weight      -0.035704   0.003557  -10.04   <2e-16 ***\n",
              "---\n",
              "Signif. codes:  0 ‘***’ 0.001 ‘**’ 0.01 ‘*’ 0.05 ‘.’ 0.1 ‘ ’ 1\n",
              "\n",
              "Residual standard error: 1.395 on 118 degrees of freedom\n",
              "Multiple R-squared:  0.4605,\tAdjusted R-squared:  0.456 \n",
              "F-statistic: 100.7 on 1 and 118 DF,  p-value: < 2.2e-16\n"
            ]
          },
          "metadata": {}
        }
      ]
    },
    {
      "cell_type": "markdown",
      "source": [
        "There are other more specialized functions that work with `lm` (and other statistical modeling functions). For example `coef` extracts a vector containing the least-squares estimates of the coefficients:"
      ],
      "metadata": {
        "id": "kG8diOBNbOpn"
      }
    },
    {
      "cell_type": "code",
      "source": [
        "coef(fit)"
      ],
      "metadata": {
        "colab": {
          "base_uri": "https://localhost:8080/",
          "height": 34
        },
        "id": "jg3CRYgAbOyk",
        "outputId": "45562bef-88e4-45ab-eda2-5ca5300a506e"
      },
      "execution_count": null,
      "outputs": [
        {
          "output_type": "display_data",
          "data": {
            "text/html": [
              "<style>\n",
              ".dl-inline {width: auto; margin:0; padding: 0}\n",
              ".dl-inline>dt, .dl-inline>dd {float: none; width: auto; display: inline-block}\n",
              ".dl-inline>dt::after {content: \":\\0020\"; padding-right: .5ex}\n",
              ".dl-inline>dt:not(:first-of-type) {padding-left: .5ex}\n",
              "</style><dl class=dl-inline><dt>(Intercept)</dt><dd>14.1133978871712</dd><dt>weight</dt><dd>-0.0357037485545949</dd></dl>\n"
            ],
            "text/markdown": "(Intercept)\n:   14.1133978871712weight\n:   -0.0357037485545949\n\n",
            "text/latex": "\\begin{description*}\n\\item[(Intercept)] 14.1133978871712\n\\item[weight] -0.0357037485545949\n\\end{description*}\n",
            "text/plain": [
              "(Intercept)      weight \n",
              "14.11339789 -0.03570375 "
            ]
          },
          "metadata": {}
        }
      ]
    },
    {
      "cell_type": "markdown",
      "source": [
        "Learning to use `lm` is a mini-expertise in itself—many of you may have done a lot of coding R without ever using `lm`. You can of course learn about `lm` by running `help(lm)`, which opens up the official documentation, but if you are using it for the first time, it is more helpful to learn from some tutorials. For example, I first learned by reading Chapter 6 from Peter Dalgaard's book,\n",
        "[Introductory Statistics with R](https://catalog.lib.uchicago.edu/vufind/Record/11957555). `lm` has many, many options (i.e., Swiss army knife), with many \"helper functions\" (e.g., `coef`, `fitted`). And course beyond knowing how to use the `lm` function, you also need to have some intuition for the statistical ideas, such as what it means to \"fit\" a linear regression to data, and what the confidence intervals and *p*-values represent.\n",
        "\n",
        "Our call `lm` call is illustrative of many things in R that involve a mini-expertise. There will be some R functions that will be particularly important to your work, and you will become a \"mini-expert\" in those functions. For example, if you work with single-cell data, you might gain an expertise in the `umap` function from [the uwot package](https://github.com/jlmelville/uwot) to visualize your data.\n",
        "\n",
        "The World of R is now so vast that none of us can possibly be experts in all areas of R. Helpfully, much of the knowledge in R is transferrable. Even if you didn't understand the syntax in the call to `lm`—and I did not expect you to!—many of the basic rules of R still apply; for example, `summary` worked on the `lm` output."
      ],
      "metadata": {
        "id": "Juts6_yfX0l1"
      }
    },
    {
      "cell_type": "markdown",
      "source": [
        "Visualize the linear regression result\n",
        "--------------------------------------\n",
        "\n",
        "Almost any data analysis includes some sort of visualization. One particularly powerful way to visualize your data analysis is to combine the data with the results of your analysis (the fit of the linear model), as we do here."
      ],
      "metadata": {
        "id": "aGC9OTQ4fYcL"
      }
    },
    {
      "cell_type": "code",
      "source": [
        "a <- coef(fit)[\"weight\"]\n",
        "b <- coef(fit)[\"(Intercept)\"]\n",
        "options(repr.plot.width = 4,repr.plot.height = 4,repr.plot.res = 150)\n",
        "p <- ggplot(dogs,aes(x = weight,y = aod,label = breed)) +\n",
        "  geom_point(size = 2) +\n",
        "  geom_text_repel() +\n",
        "  geom_abline(slope = a,intercept = b,col = \"magenta\",\n",
        "              linewidth = 1,linetype = \"dashed\") +\n",
        "  labs(x = \"body weight (lbs)\",y = \"longevity (years)\") +\n",
        "  theme_cowplot()\n",
        "p"
      ],
      "metadata": {
        "colab": {
          "base_uri": "https://localhost:8080/",
          "height": 354
        },
        "id": "9LwX7jQHfYnf",
        "outputId": "9bdc77b6-1ed5-4994-e395-7082a1059d85"
      },
      "execution_count": null,
      "outputs": [
        {
          "output_type": "stream",
          "name": "stderr",
          "text": [
            "Warning message:\n",
            "“ggrepel: 75 unlabeled data points (too many overlaps). Consider increasing max.overlaps”\n"
          ]
        },
        {
          "output_type": "display_data",
          "data": {
            "text/plain": [
              "plot without title"
            ],
            "image/png": "[encoded data removed]"
          },
          "metadata": {
            "image/png": {
              "width": 300,
              "height": 300
            }
          }
        }
      ]
    },
    {
      "cell_type": "markdown",
      "source": [
        "This plot shows how well the line fits the data, and highlights *outliers*, that is the breeds that are furthest away from the trend line.\n",
        "\n",
        "Let's talk about this code. Again, this code looks very different from other R code. Indeed, this syntax is particular to the [ggplot2 package](ggplot2.tidyverse.org). We will learn more about ggplot2 later.\n",
        "\n",
        "In fact, this code actually uses three different packages: ggplot2, and two packages *that extend ggplot2*, cowplot and ggrepel.\n",
        "\n",
        "This illustrates that R code, even only a few lines of code, can quickly get quite complex, involving the interplay of multiple R packages, each of which has its own learning curve. The lesson here is that R code exists along a spectrum of complexity, from simple lines of code that involve the basic syntax to complex lines of code that involve specialized packages and many-featured functions. The latter will take more time and patience to get comfortable with."
      ],
      "metadata": {
        "id": "qwf6xFTb0AUx"
      }
    },
    {
      "cell_type": "markdown",
      "source": [
        "Tending to your \"gaRden\"\n",
        "========================\n",
        "\n",
        "A Jupyter notebook proceeds in a linear fashion, building your analysis over time: it starts with loading the packages, importing the data, perhaps some steps to prepare your data for the more complex analyses, executing the analyss, followed by visualization and interpretation.\n",
        "\n",
        "The problem is that it hides a lot of *what is actually going on.* What is actually going on is that every line of code is acting on your R environment: it is taking objects that are already in your environment, and using them to generate new objects, or modify existing objects. I think of this as \"tending to your gaRden\" (your R environment is the garden, and the objects are the fruits, vegetables and flowers in your garden).\n",
        "\n",
        "To understand any line of code, you need to understand not only the code itself, but also what is *the state of your environment (your \"garden\") the moment before you run your code:* the objects that are in your environment and what they represent. This aspect is unfortunately hidden from your Jupyter notebook, and therefore an important skill as a coder is to *tend to your garden.*"
      ],
      "metadata": {
        "id": "G7V88WwW4Dtt"
      }
    },
    {
      "cell_type": "markdown",
      "source": [
        "The `objects` function lists the names of the objects in your environment:"
      ],
      "metadata": {
        "id": "MD4e5sul6qYf"
      }
    },
    {
      "cell_type": "code",
      "source": [
        "objects()"
      ],
      "metadata": {
        "colab": {
          "base_uri": "https://localhost:8080/",
          "height": 34
        },
        "id": "sN6ijScy3u6U",
        "outputId": "38c13602-9cd7-45fd-b131-30ec4e66fd25"
      },
      "execution_count": null,
      "outputs": [
        {
          "output_type": "display_data",
          "data": {
            "text/html": [
              "<style>\n",
              ".list-inline {list-style: none; margin:0; padding: 0}\n",
              ".list-inline>li {display: inline-block}\n",
              ".list-inline>li:not(:last-child)::after {content: \"\\00b7\"; padding: 0 .5ex}\n",
              "</style>\n",
              "<ol class=list-inline><li>'a'</li><li>'b'</li><li>'dogs'</li><li>'fit'</li><li>'p'</li></ol>\n"
            ],
            "text/markdown": "1. 'a'\n2. 'b'\n3. 'dogs'\n4. 'fit'\n5. 'p'\n\n\n",
            "text/latex": "\\begin{enumerate*}\n\\item 'a'\n\\item 'b'\n\\item 'dogs'\n\\item 'fit'\n\\item 'p'\n\\end{enumerate*}\n",
            "text/plain": [
              "[1] \"a\"    \"b\"    \"dogs\" \"fit\"  \"p\"   "
            ]
          },
          "metadata": {}
        }
      ]
    },
    {
      "cell_type": "markdown",
      "source": [
        "*What are these objects?*\n",
        "\n",
        "*How could we have named these objects to better remind us what these objects are?*\n",
        "\n",
        "*Are some of these objects \"more important\" than others? What makes some objects more important and others less important?*"
      ],
      "metadata": {
        "id": "rKTy84PE7bGQ"
      }
    },
    {
      "cell_type": "markdown",
      "source": [
        "Mini-Practice: Create a Jupyter notebook in Google Colab\n",
        "========================================================\n",
        "\n",
        "Let's now try out some basic cloud computing skills. I want you to create, from scratch, your own notebook in Google Colab, add a few text cells and code cells. The aim is to reproduce the analysis of the dogs data above. Then save your notebook in Google Drive.\n",
        "\n",
        "Next, modify your notebook to instead analyze the slightly larger [\"more dogs\" data set](https://github.com/pcarbo/qBio9_stuff/blob/main/dogs_more.csv) that has data about a few more dog breeds. Then save your notebook in Google Drive.\n",
        "\n",
        "**Optional exercise:** Save a copy of your notebook in a git repository on GitHub, and include a link in your notebook so that others (and you) may easily start up their own virtual machine using the notebook that you created."
      ],
      "metadata": {
        "id": "VAp21tLv-1R-"
      }
    },
    {
      "cell_type": "markdown",
      "source": [
        "A brief tour of RStudio\n",
        "=======================\n",
        "\n",
        "RStudio is an Integrated Development Environment (IDE) for R. The RStudio interface is split up into \"panels\", which include:\n",
        "\n",
        "1. **Console:** This is a panel containing an instance of R. For this\n",
        "tutorial, we will work mainly in this panel.\n",
        "\n",
        "2. **Source:** In this panel, you can write your code and save it to a\n",
        "file. The code and also be run from this panel, but the actual results\n",
        "show up in the console.\n",
        "\n",
        "3. **Environment:** This panel lists all the variables (objects) you\n",
        "created in your R environment.\n",
        "\n",
        "4. **History:** This gives you the history of the commands you typed.\n",
        "\n",
        "5. **Plots:** This panel shows you all the plots you drew.\n",
        "\n",
        "Other tabs allow you to access the list of packages you have loaded,\n",
        "and the help page for commands (e.g., type `help(p.adjust)` in the\n",
        "console)."
      ],
      "metadata": {
        "id": "Ure2iHIRmsOc"
      }
    },
    {
      "cell_type": "markdown",
      "source": [
        "Another Mini-Practice: Create an R script in RStudio\n",
        "====================================================\n",
        "\n",
        "Now let's try to reproduce our analysis of the \"dogs\" data in RStudio on our computer. In this exercise, we will create an *R script* in RStudio to analyze the data from `dogs.csv`. An R script is different from a Jupyter notebook because it only *stores the code* (except for \"comments\"—accompanying text can be stored in comments).\n",
        "\n",
        "**Note:** You do not need to include steps to the install the packages and download the CSV file; you can perform those steps separately.\n",
        "\n",
        "You may find that there are some differences between running the code on a Google Colab virtual machine and running the code in RStudio on your computer. What did you have to do differently in RStudio?\n",
        "\n",
        "Once you have created a working script, and have saved it somewhere on your computer, we will discuss different strategies for saving the results of our analysis in R.\n",
        "\n",
        "**Question:** Now consider modifying your script to analyze the \"more dogs\" data set. What changes do you need to make to your script to analyze this slightly larger data set, [dogs_more.csv](https://github.com/pcarbo/qBio9_stuff/blob/main/dogs_more.csv)?\n",
        "\n",
        "**Optional exercise:** Implement your analysis of the dogs data as an [R Markdown document](https://kbroman.org/knitr_knutshell/)."
      ],
      "metadata": {
        "id": "sg1rFiuYBfwC"
      }
    },
    {
      "cell_type": "markdown",
      "source": [
        "Mini-Lab: Understanding and working with data frames\n",
        "====================================================\n",
        "\n",
        "*For this part of the tutorial, I recommend using RStudio. I find it works\n",
        "better than a Jupyter notebook for freeform exploration.*\n",
        "\n",
        "The data frame is R's way of storing tabular data. It is one of the most important and more powerful data structures in R. In this part of the tutorial, we will take some time to understand data frames and how to work with them. Although our focus here is on data frames, many of the ideas translate to other data structures in R.\n",
        "\n",
        "I've divided this Mini-Lab into three parts:\n",
        "\n",
        "1. **Inspecting the data frame.** First we will learn how to use some basic commands to view different parts of the data frame.\n",
        "\n",
        "2. **Deconstructing the data frame.** We will take a closer look at the laptops data frame.\n",
        "\n",
        "3. **Programming Challenge:** We will put our new skills to work to solve some programming exercises involving the dogs data."
      ],
      "metadata": {
        "id": "PMMlB4HhQi7w"
      }
    },
    {
      "cell_type": "markdown",
      "source": [
        "Let's start this part of the tutorial with a clean environment:"
      ],
      "metadata": {
        "id": "LkSaju47npL6"
      }
    },
    {
      "cell_type": "code",
      "source": [
        "rm(list = ls())"
      ],
      "metadata": {
        "id": "LS_VQLbCnnSV"
      },
      "execution_count": null,
      "outputs": []
    },
    {
      "cell_type": "markdown",
      "source": [
        "Now download and import the larger dogs data set:"
      ],
      "metadata": {
        "id": "GYXOrGPjnxzf"
      }
    },
    {
      "cell_type": "code",
      "source": [
        "system(\"wget https://raw.githubusercontent.com/pcarbo/qBio9_stuff/main/dogs_more.csv\")\n",
        "dogs <- read.csv(\"dogs_more.csv\",stringsAsFactors = FALSE)"
      ],
      "metadata": {
        "id": "duoEuntLn8e-"
      },
      "execution_count": null,
      "outputs": []
    },
    {
      "cell_type": "markdown",
      "source": [
        "To remind ourselves, let's print out the first few rows of the table:"
      ],
      "metadata": {
        "id": "8DDhFIByTmuM"
      }
    },
    {
      "cell_type": "code",
      "source": [
        "head(dogs)"
      ],
      "metadata": {
        "colab": {
          "base_uri": "https://localhost:8080/",
          "height": 286
        },
        "id": "JZbbKEZiTrsY",
        "outputId": "3eee181d-eb09-4ce4-bf41-55568247dfe2"
      },
      "execution_count": null,
      "outputs": [
        {
          "output_type": "display_data",
          "data": {
            "text/html": [
              "<table class=\"dataframe\">\n",
              "<caption>A data.frame: 6 × 6</caption>\n",
              "<thead>\n",
              "\t<tr><th></th><th scope=col>breed</th><th scope=col>aod</th><th scope=col>height</th><th scope=col>weight</th><th scope=col>shortcoat</th><th scope=col>cfa7_46696633bp</th></tr>\n",
              "\t<tr><th></th><th scope=col>&lt;chr&gt;</th><th scope=col>&lt;dbl&gt;</th><th scope=col>&lt;dbl&gt;</th><th scope=col>&lt;dbl&gt;</th><th scope=col>&lt;int&gt;</th><th scope=col>&lt;dbl&gt;</th></tr>\n",
              "</thead>\n",
              "<tbody>\n",
              "\t<tr><th scope=row>1</th><td>Affenpinscher            </td><td>13.0</td><td>10.25</td><td>  8.0</td><td> 0</td><td>0.375</td></tr>\n",
              "\t<tr><th scope=row>2</th><td>Afghan Hound             </td><td>12.0</td><td>27.00</td><td> 60.0</td><td> 0</td><td>0.933</td></tr>\n",
              "\t<tr><th scope=row>3</th><td>Akita                    </td><td>11.0</td><td>27.00</td><td>107.5</td><td> 0</td><td>0.750</td></tr>\n",
              "\t<tr><th scope=row>4</th><td>American Pit Bull Terrier</td><td>11.0</td><td>19.50</td><td> 62.5</td><td>NA</td><td>1.000</td></tr>\n",
              "\t<tr><th scope=row>5</th><td>Australian Cattle Dog    </td><td>13.5</td><td>19.00</td><td> 45.0</td><td> 1</td><td>0.917</td></tr>\n",
              "\t<tr><th scope=row>6</th><td>Australian Shepherd      </td><td>13.0</td><td>21.50</td><td> 60.0</td><td> 0</td><td>0.714</td></tr>\n",
              "</tbody>\n",
              "</table>\n"
            ],
            "text/markdown": "\nA data.frame: 6 × 6\n\n| <!--/--> | breed &lt;chr&gt; | aod &lt;dbl&gt; | height &lt;dbl&gt; | weight &lt;dbl&gt; | shortcoat &lt;int&gt; | cfa7_46696633bp &lt;dbl&gt; |\n|---|---|---|---|---|---|---|\n| 1 | Affenpinscher             | 13.0 | 10.25 |   8.0 |  0 | 0.375 |\n| 2 | Afghan Hound              | 12.0 | 27.00 |  60.0 |  0 | 0.933 |\n| 3 | Akita                     | 11.0 | 27.00 | 107.5 |  0 | 0.750 |\n| 4 | American Pit Bull Terrier | 11.0 | 19.50 |  62.5 | NA | 1.000 |\n| 5 | Australian Cattle Dog     | 13.5 | 19.00 |  45.0 |  1 | 0.917 |\n| 6 | Australian Shepherd       | 13.0 | 21.50 |  60.0 |  0 | 0.714 |\n\n",
            "text/latex": "A data.frame: 6 × 6\n\\begin{tabular}{r|llllll}\n  & breed & aod & height & weight & shortcoat & cfa7\\_46696633bp\\\\\n  & <chr> & <dbl> & <dbl> & <dbl> & <int> & <dbl>\\\\\n\\hline\n\t1 & Affenpinscher             & 13.0 & 10.25 &   8.0 &  0 & 0.375\\\\\n\t2 & Afghan Hound              & 12.0 & 27.00 &  60.0 &  0 & 0.933\\\\\n\t3 & Akita                     & 11.0 & 27.00 & 107.5 &  0 & 0.750\\\\\n\t4 & American Pit Bull Terrier & 11.0 & 19.50 &  62.5 & NA & 1.000\\\\\n\t5 & Australian Cattle Dog     & 13.5 & 19.00 &  45.0 &  1 & 0.917\\\\\n\t6 & Australian Shepherd       & 13.0 & 21.50 &  60.0 &  0 & 0.714\\\\\n\\end{tabular}\n",
            "text/plain": [
              "  breed                     aod  height weight shortcoat cfa7_46696633bp\n",
              "1 Affenpinscher             13.0 10.25    8.0   0        0.375          \n",
              "2 Afghan Hound              12.0 27.00   60.0   0        0.933          \n",
              "3 Akita                     11.0 27.00  107.5   0        0.750          \n",
              "4 American Pit Bull Terrier 11.0 19.50   62.5  NA        1.000          \n",
              "5 Australian Cattle Dog     13.5 19.00   45.0   1        0.917          \n",
              "6 Australian Shepherd       13.0 21.50   60.0   0        0.714          "
            ]
          },
          "metadata": {}
        }
      ]
    },
    {
      "cell_type": "markdown",
      "source": [
        "On the surface, the data frame looks like a spreadsheet you might load into Excel. But it is actually an example of a data structure with a very specific form:\n",
        "\n",
        "*The data frame is a set of columns, and each column is a vector of the same length.*\n",
        "\n",
        "Let's run some code to convince ourselves of these facts.\n",
        "\n",
        "First, for convenience, make a copy of the first column, and call it \"x\":"
      ],
      "metadata": {
        "id": "5B8IA8FhUelr"
      }
    },
    {
      "cell_type": "code",
      "source": [
        "x <- dogs$breed"
      ],
      "metadata": {
        "id": "jh6sUiRWVuDS"
      },
      "execution_count": null,
      "outputs": []
    },
    {
      "cell_type": "markdown",
      "source": [
        "(Note that this makes a *copy* of the original data, so if you were to modify or delete `x`, this leaves `dogs` unchanged.)\n",
        "\n",
        "This is a \"character\" data type. It is R's way of storing text data:"
      ],
      "metadata": {
        "id": "RvX9HCoNVxA4"
      }
    },
    {
      "cell_type": "code",
      "source": [
        "class(x)\n",
        "length(x)\n",
        "x"
      ],
      "metadata": {
        "colab": {
          "base_uri": "https://localhost:8080/",
          "height": 225
        },
        "id": "bfA3rwmnV2E2",
        "outputId": "09687130-15c7-4f7c-fbd0-a3372176f89c"
      },
      "execution_count": null,
      "outputs": [
        {
          "output_type": "display_data",
          "data": {
            "text/html": [
              "'character'"
            ],
            "text/markdown": "'character'",
            "text/latex": "'character'",
            "text/plain": [
              "[1] \"character\""
            ]
          },
          "metadata": {}
        },
        {
          "output_type": "display_data",
          "data": {
            "text/html": [
              "120"
            ],
            "text/markdown": "120",
            "text/latex": "120",
            "text/plain": [
              "[1] 120"
            ]
          },
          "metadata": {}
        },
        {
          "output_type": "display_data",
          "data": {
            "text/html": [
              "<style>\n",
              ".list-inline {list-style: none; margin:0; padding: 0}\n",
              ".list-inline>li {display: inline-block}\n",
              ".list-inline>li:not(:last-child)::after {content: \"\\00b7\"; padding: 0 .5ex}\n",
              "</style>\n",
              "<ol class=list-inline><li>'Affenpinscher'</li><li>'Afghan Hound'</li><li>'Akita'</li><li>'American Pit Bull Terrier'</li><li>'Australian Cattle Dog'</li><li>'Australian Shepherd'</li><li>'Australian Terrier'</li><li>'Bassett Hound'</li><li>'Beagle'</li><li>'Bearded Collie'</li><li>'Bedlington Terrier'</li><li>'Belgian Malinois'</li><li>'Belgian Sheepdog'</li><li>'Belgian Tervuren'</li><li>'Bernese Mountain Dog'</li><li>'Bichon Frise'</li><li>'Black Russian Terrier'</li><li>'Bloodhound'</li><li>'Border Terrier'</li><li>'Boston Terrier'</li><li>'Boxer'</li><li>'Briard'</li><li>'Brittany'</li><li>'Brussels Griffon'</li><li>'Bull Terrier'</li><li>'Cavalier King Charles Spaniel'</li><li>'Cesky Terrier'</li><li>'Chesapeake Bay Retriever'</li><li>'Chinese Crested'</li><li>'Chinese Shar-Pei'</li><li>'Chow Chow'</li><li>'Clumber Spaniel'</li><li>'Collie'</li><li>'Dachshund'</li><li>'Dalmatian'</li><li>'Dandie Dinmont Terrier'</li><li>'Dogue de Bordeaux'</li><li>'English Bulldog'</li><li>'English Cocker Spaniel'</li><li>'English Setter'</li><li>'English Springer Spaniel'</li><li>'Field Spaniel'</li><li>'Flat Coated Retriever'</li><li>'Fox Terrier'</li><li>'Fox Terrier toy'</li><li>'French Bulldog'</li><li>'German Wirehaired Pointer'</li><li>'Giant Schnauzer'</li><li>'Glen of Imaal Terrier'</li><li>'Golden Retriever'</li><li>'Gordon Setter'</li><li>'Great Dane'</li><li>'Greater Swiss Mountain Dog'</li><li>'Greyhound'</li><li>'Havanese'</li><li>'Hungarian Vizsla'</li><li>'Ibizan Hound'</li><li>'Irish Red and White Setter'</li><li>'Irish Setter'</li><li>'Irish Terrier'</li><li>'Irish Wolfhound'</li><li>'Italian Greyhound'</li><li>'Italian Spinone'</li><li>'Jack Russell Terrier'</li><li>'Japanese Chin'</li><li>'Japanese Shiba Inu'</li><li>'Keeshond'</li><li>'Kerry Blue Terrier'</li><li>'Komondor'</li><li>'Labrador Retriever'</li><li>'Lakeland Terrier'</li><li>'Leonberger'</li><li>'Lhasa Apso'</li><li>'Maltese'</li><li>'Manchester Terrier'</li><li>'Mastiff'</li><li>'Miniature Bull Terrier'</li><li>'Miniature Pinscher'</li><li>'Miniature Poodle'</li><li>'Miniature Schnauzer'</li><li>'Newfoundland'</li><li>'Norfolk Terrier'</li><li>'Norwegian Elkhound'</li><li>'Norwich Terrier'</li><li>'Nova Scotia Duck Tolling Retriever'</li><li>'Pekingese'</li><li>'Pembroke Welsh Corgi'</li><li>'Petit Basset Griffon Vendeen'</li><li>'Pit Bull Terrier'</li><li>'Pointer'</li><li>'Pomeranian'</li><li>'Poodle'</li><li>'Portuguese Water Dog'</li><li>'Pug'</li><li>'Pyrenean Mountain Dog'</li><li>'Rhodesian Ridgeback'</li><li>'Rottweiler'</li><li>'Saint Bernard'</li><li>'Saluki'</li><li>'Samoyed'</li><li>'Schipperke'</li><li>'Schnauzer'</li><li>'Scottish Deerhound'</li><li>'Sealyham Terrier'</li><li>'Shetland Sheepdog'</li><li>'Shih Tzu'</li><li>'Siberian Husky'</li><li>'Soft Coated Wheaten Terrier'</li><li>'Staffordshire Bull Terrier'</li><li>'Standard Poodle'</li><li>'Standard Schnauzer'</li><li>'Sussex Spaniel'</li><li>'Tibetan Spaniel'</li><li>'Tibetan Terrier'</li><li>'Toy Manchester Terrier'</li><li>'Welsh Terrier'</li><li>'West Highland White Terrier'</li><li>'Whippet'</li><li>'Wirehaired Pointing Griffon'</li><li>'Yorkshire Terrier'</li></ol>\n"
            ],
            "text/markdown": "1. 'Affenpinscher'\n2. 'Afghan Hound'\n3. 'Akita'\n4. 'American Pit Bull Terrier'\n5. 'Australian Cattle Dog'\n6. 'Australian Shepherd'\n7. 'Australian Terrier'\n8. 'Bassett Hound'\n9. 'Beagle'\n10. 'Bearded Collie'\n11. 'Bedlington Terrier'\n12. 'Belgian Malinois'\n13. 'Belgian Sheepdog'\n14. 'Belgian Tervuren'\n15. 'Bernese Mountain Dog'\n16. 'Bichon Frise'\n17. 'Black Russian Terrier'\n18. 'Bloodhound'\n19. 'Border Terrier'\n20. 'Boston Terrier'\n21. 'Boxer'\n22. 'Briard'\n23. 'Brittany'\n24. 'Brussels Griffon'\n25. 'Bull Terrier'\n26. 'Cavalier King Charles Spaniel'\n27. 'Cesky Terrier'\n28. 'Chesapeake Bay Retriever'\n29. 'Chinese Crested'\n30. 'Chinese Shar-Pei'\n31. 'Chow Chow'\n32. 'Clumber Spaniel'\n33. 'Collie'\n34. 'Dachshund'\n35. 'Dalmatian'\n36. 'Dandie Dinmont Terrier'\n37. 'Dogue de Bordeaux'\n38. 'English Bulldog'\n39. 'English Cocker Spaniel'\n40. 'English Setter'\n41. 'English Springer Spaniel'\n42. 'Field Spaniel'\n43. 'Flat Coated Retriever'\n44. 'Fox Terrier'\n45. 'Fox Terrier toy'\n46. 'French Bulldog'\n47. 'German Wirehaired Pointer'\n48. 'Giant Schnauzer'\n49. 'Glen of Imaal Terrier'\n50. 'Golden Retriever'\n51. 'Gordon Setter'\n52. 'Great Dane'\n53. 'Greater Swiss Mountain Dog'\n54. 'Greyhound'\n55. 'Havanese'\n56. 'Hungarian Vizsla'\n57. 'Ibizan Hound'\n58. 'Irish Red and White Setter'\n59. 'Irish Setter'\n60. 'Irish Terrier'\n61. 'Irish Wolfhound'\n62. 'Italian Greyhound'\n63. 'Italian Spinone'\n64. 'Jack Russell Terrier'\n65. 'Japanese Chin'\n66. 'Japanese Shiba Inu'\n67. 'Keeshond'\n68. 'Kerry Blue Terrier'\n69. 'Komondor'\n70. 'Labrador Retriever'\n71. 'Lakeland Terrier'\n72. 'Leonberger'\n73. 'Lhasa Apso'\n74. 'Maltese'\n75. 'Manchester Terrier'\n76. 'Mastiff'\n77. 'Miniature Bull Terrier'\n78. 'Miniature Pinscher'\n79. 'Miniature Poodle'\n80. 'Miniature Schnauzer'\n81. 'Newfoundland'\n82. 'Norfolk Terrier'\n83. 'Norwegian Elkhound'\n84. 'Norwich Terrier'\n85. 'Nova Scotia Duck Tolling Retriever'\n86. 'Pekingese'\n87. 'Pembroke Welsh Corgi'\n88. 'Petit Basset Griffon Vendeen'\n89. 'Pit Bull Terrier'\n90. 'Pointer'\n91. 'Pomeranian'\n92. 'Poodle'\n93. 'Portuguese Water Dog'\n94. 'Pug'\n95. 'Pyrenean Mountain Dog'\n96. 'Rhodesian Ridgeback'\n97. 'Rottweiler'\n98. 'Saint Bernard'\n99. 'Saluki'\n100. 'Samoyed'\n101. 'Schipperke'\n102. 'Schnauzer'\n103. 'Scottish Deerhound'\n104. 'Sealyham Terrier'\n105. 'Shetland Sheepdog'\n106. 'Shih Tzu'\n107. 'Siberian Husky'\n108. 'Soft Coated Wheaten Terrier'\n109. 'Staffordshire Bull Terrier'\n110. 'Standard Poodle'\n111. 'Standard Schnauzer'\n112. 'Sussex Spaniel'\n113. 'Tibetan Spaniel'\n114. 'Tibetan Terrier'\n115. 'Toy Manchester Terrier'\n116. 'Welsh Terrier'\n117. 'West Highland White Terrier'\n118. 'Whippet'\n119. 'Wirehaired Pointing Griffon'\n120. 'Yorkshire Terrier'\n\n\n",
            "text/latex": "\\begin{enumerate*}\n\\item 'Affenpinscher'\n\\item 'Afghan Hound'\n\\item 'Akita'\n\\item 'American Pit Bull Terrier'\n\\item 'Australian Cattle Dog'\n\\item 'Australian Shepherd'\n\\item 'Australian Terrier'\n\\item 'Bassett Hound'\n\\item 'Beagle'\n\\item 'Bearded Collie'\n\\item 'Bedlington Terrier'\n\\item 'Belgian Malinois'\n\\item 'Belgian Sheepdog'\n\\item 'Belgian Tervuren'\n\\item 'Bernese Mountain Dog'\n\\item 'Bichon Frise'\n\\item 'Black Russian Terrier'\n\\item 'Bloodhound'\n\\item 'Border Terrier'\n\\item 'Boston Terrier'\n\\item 'Boxer'\n\\item 'Briard'\n\\item 'Brittany'\n\\item 'Brussels Griffon'\n\\item 'Bull Terrier'\n\\item 'Cavalier King Charles Spaniel'\n\\item 'Cesky Terrier'\n\\item 'Chesapeake Bay Retriever'\n\\item 'Chinese Crested'\n\\item 'Chinese Shar-Pei'\n\\item 'Chow Chow'\n\\item 'Clumber Spaniel'\n\\item 'Collie'\n\\item 'Dachshund'\n\\item 'Dalmatian'\n\\item 'Dandie Dinmont Terrier'\n\\item 'Dogue de Bordeaux'\n\\item 'English Bulldog'\n\\item 'English Cocker Spaniel'\n\\item 'English Setter'\n\\item 'English Springer Spaniel'\n\\item 'Field Spaniel'\n\\item 'Flat Coated Retriever'\n\\item 'Fox Terrier'\n\\item 'Fox Terrier toy'\n\\item 'French Bulldog'\n\\item 'German Wirehaired Pointer'\n\\item 'Giant Schnauzer'\n\\item 'Glen of Imaal Terrier'\n\\item 'Golden Retriever'\n\\item 'Gordon Setter'\n\\item 'Great Dane'\n\\item 'Greater Swiss Mountain Dog'\n\\item 'Greyhound'\n\\item 'Havanese'\n\\item 'Hungarian Vizsla'\n\\item 'Ibizan Hound'\n\\item 'Irish Red and White Setter'\n\\item 'Irish Setter'\n\\item 'Irish Terrier'\n\\item 'Irish Wolfhound'\n\\item 'Italian Greyhound'\n\\item 'Italian Spinone'\n\\item 'Jack Russell Terrier'\n\\item 'Japanese Chin'\n\\item 'Japanese Shiba Inu'\n\\item 'Keeshond'\n\\item 'Kerry Blue Terrier'\n\\item 'Komondor'\n\\item 'Labrador Retriever'\n\\item 'Lakeland Terrier'\n\\item 'Leonberger'\n\\item 'Lhasa Apso'\n\\item 'Maltese'\n\\item 'Manchester Terrier'\n\\item 'Mastiff'\n\\item 'Miniature Bull Terrier'\n\\item 'Miniature Pinscher'\n\\item 'Miniature Poodle'\n\\item 'Miniature Schnauzer'\n\\item 'Newfoundland'\n\\item 'Norfolk Terrier'\n\\item 'Norwegian Elkhound'\n\\item 'Norwich Terrier'\n\\item 'Nova Scotia Duck Tolling Retriever'\n\\item 'Pekingese'\n\\item 'Pembroke Welsh Corgi'\n\\item 'Petit Basset Griffon Vendeen'\n\\item 'Pit Bull Terrier'\n\\item 'Pointer'\n\\item 'Pomeranian'\n\\item 'Poodle'\n\\item 'Portuguese Water Dog'\n\\item 'Pug'\n\\item 'Pyrenean Mountain Dog'\n\\item 'Rhodesian Ridgeback'\n\\item 'Rottweiler'\n\\item 'Saint Bernard'\n\\item 'Saluki'\n\\item 'Samoyed'\n\\item 'Schipperke'\n\\item 'Schnauzer'\n\\item 'Scottish Deerhound'\n\\item 'Sealyham Terrier'\n\\item 'Shetland Sheepdog'\n\\item 'Shih Tzu'\n\\item 'Siberian Husky'\n\\item 'Soft Coated Wheaten Terrier'\n\\item 'Staffordshire Bull Terrier'\n\\item 'Standard Poodle'\n\\item 'Standard Schnauzer'\n\\item 'Sussex Spaniel'\n\\item 'Tibetan Spaniel'\n\\item 'Tibetan Terrier'\n\\item 'Toy Manchester Terrier'\n\\item 'Welsh Terrier'\n\\item 'West Highland White Terrier'\n\\item 'Whippet'\n\\item 'Wirehaired Pointing Griffon'\n\\item 'Yorkshire Terrier'\n\\end{enumerate*}\n",
            "text/plain": [
              "  [1] \"Affenpinscher\"                      \"Afghan Hound\"                      \n",
              "  [3] \"Akita\"                              \"American Pit Bull Terrier\"         \n",
              "  [5] \"Australian Cattle Dog\"              \"Australian Shepherd\"               \n",
              "  [7] \"Australian Terrier\"                 \"Bassett Hound\"                     \n",
              "  [9] \"Beagle\"                             \"Bearded Collie\"                    \n",
              " [11] \"Bedlington Terrier\"                 \"Belgian Malinois\"                  \n",
              " [13] \"Belgian Sheepdog\"                   \"Belgian Tervuren\"                  \n",
              " [15] \"Bernese Mountain Dog\"               \"Bichon Frise\"                      \n",
              " [17] \"Black Russian Terrier\"              \"Bloodhound\"                        \n",
              " [19] \"Border Terrier\"                     \"Boston Terrier\"                    \n",
              " [21] \"Boxer\"                              \"Briard\"                            \n",
              " [23] \"Brittany\"                           \"Brussels Griffon\"                  \n",
              " [25] \"Bull Terrier\"                       \"Cavalier King Charles Spaniel\"     \n",
              " [27] \"Cesky Terrier\"                      \"Chesapeake Bay Retriever\"          \n",
              " [29] \"Chinese Crested\"                    \"Chinese Shar-Pei\"                  \n",
              " [31] \"Chow Chow\"                          \"Clumber Spaniel\"                   \n",
              " [33] \"Collie\"                             \"Dachshund\"                         \n",
              " [35] \"Dalmatian\"                          \"Dandie Dinmont Terrier\"            \n",
              " [37] \"Dogue de Bordeaux\"                  \"English Bulldog\"                   \n",
              " [39] \"English Cocker Spaniel\"             \"English Setter\"                    \n",
              " [41] \"English Springer Spaniel\"           \"Field Spaniel\"                     \n",
              " [43] \"Flat Coated Retriever\"              \"Fox Terrier\"                       \n",
              " [45] \"Fox Terrier toy\"                    \"French Bulldog\"                    \n",
              " [47] \"German Wirehaired Pointer\"          \"Giant Schnauzer\"                   \n",
              " [49] \"Glen of Imaal Terrier\"              \"Golden Retriever\"                  \n",
              " [51] \"Gordon Setter\"                      \"Great Dane\"                        \n",
              " [53] \"Greater Swiss Mountain Dog\"         \"Greyhound\"                         \n",
              " [55] \"Havanese\"                           \"Hungarian Vizsla\"                  \n",
              " [57] \"Ibizan Hound\"                       \"Irish Red and White Setter\"        \n",
              " [59] \"Irish Setter\"                       \"Irish Terrier\"                     \n",
              " [61] \"Irish Wolfhound\"                    \"Italian Greyhound\"                 \n",
              " [63] \"Italian Spinone\"                    \"Jack Russell Terrier\"              \n",
              " [65] \"Japanese Chin\"                      \"Japanese Shiba Inu\"                \n",
              " [67] \"Keeshond\"                           \"Kerry Blue Terrier\"                \n",
              " [69] \"Komondor\"                           \"Labrador Retriever\"                \n",
              " [71] \"Lakeland Terrier\"                   \"Leonberger\"                        \n",
              " [73] \"Lhasa Apso\"                         \"Maltese\"                           \n",
              " [75] \"Manchester Terrier\"                 \"Mastiff\"                           \n",
              " [77] \"Miniature Bull Terrier\"             \"Miniature Pinscher\"                \n",
              " [79] \"Miniature Poodle\"                   \"Miniature Schnauzer\"               \n",
              " [81] \"Newfoundland\"                       \"Norfolk Terrier\"                   \n",
              " [83] \"Norwegian Elkhound\"                 \"Norwich Terrier\"                   \n",
              " [85] \"Nova Scotia Duck Tolling Retriever\" \"Pekingese\"                         \n",
              " [87] \"Pembroke Welsh Corgi\"               \"Petit Basset Griffon Vendeen\"      \n",
              " [89] \"Pit Bull Terrier\"                   \"Pointer\"                           \n",
              " [91] \"Pomeranian\"                         \"Poodle\"                            \n",
              " [93] \"Portuguese Water Dog\"               \"Pug\"                               \n",
              " [95] \"Pyrenean Mountain Dog\"              \"Rhodesian Ridgeback\"               \n",
              " [97] \"Rottweiler\"                         \"Saint Bernard\"                     \n",
              " [99] \"Saluki\"                             \"Samoyed\"                           \n",
              "[101] \"Schipperke\"                         \"Schnauzer\"                         \n",
              "[103] \"Scottish Deerhound\"                 \"Sealyham Terrier\"                  \n",
              "[105] \"Shetland Sheepdog\"                  \"Shih Tzu\"                          \n",
              "[107] \"Siberian Husky\"                     \"Soft Coated Wheaten Terrier\"       \n",
              "[109] \"Staffordshire Bull Terrier\"         \"Standard Poodle\"                   \n",
              "[111] \"Standard Schnauzer\"                 \"Sussex Spaniel\"                    \n",
              "[113] \"Tibetan Spaniel\"                    \"Tibetan Terrier\"                   \n",
              "[115] \"Toy Manchester Terrier\"             \"Welsh Terrier\"                     \n",
              "[117] \"West Highland White Terrier\"        \"Whippet\"                           \n",
              "[119] \"Wirehaired Pointing Griffon\"        \"Yorkshire Terrier\"                 "
            ]
          },
          "metadata": {}
        }
      ]
    },
    {
      "cell_type": "markdown",
      "source": [
        "Note we could have also copied the first column this way:"
      ],
      "metadata": {
        "id": "0CQkcFJhanLw"
      }
    },
    {
      "cell_type": "code",
      "source": [
        "x <- dogs[,\"breed\"]"
      ],
      "metadata": {
        "id": "kqWVeyUca18-"
      },
      "execution_count": null,
      "outputs": []
    },
    {
      "cell_type": "markdown",
      "source": [
        "And here's another way!"
      ],
      "metadata": {
        "id": "-ArIfMVJav_M"
      }
    },
    {
      "cell_type": "code",
      "source": [
        "x <- dogs[,1]"
      ],
      "metadata": {
        "id": "QXamf6I9axT3"
      },
      "execution_count": null,
      "outputs": []
    },
    {
      "cell_type": "markdown",
      "source": [
        "You will quickly learn that there are usually several ways to accomplish the same thing in R. *Which way do you prefer?*\n",
        "\n",
        "What makes the data frame a particularly powerful data structure *is that the vectors may contain different types of data.*\n",
        "\n",
        "By storing tabular data in this way, we can **divide and conquer**: since each column is also an object in its own right, if the data are too complicated to understand all at once, we can make a copy of the columns we want to look at more closely, then run code on the copies, like we just did for the \"breed\" column. Make note: this is a useful strategy for dealing with complex data sets.\n",
        "\n",
        "To drive home this idea of a data frame as a collection of vectors, the way to *create* a data frame is in fact to join together a bunch of vectors of the same length. For example:"
      ],
      "metadata": {
        "id": "eU74Ky6qWGam"
      }
    },
    {
      "cell_type": "code",
      "source": [
        "dogs_new <- data.frame(\n",
        "  breed = dogs$breed,\n",
        "  lbs = dogs$weight,\n",
        "  years = dogs$aod)\n",
        "head(dogs_new)"
      ],
      "metadata": {
        "colab": {
          "base_uri": "https://localhost:8080/",
          "height": 146
        },
        "id": "tL0krjuGW_lX",
        "outputId": "fe045072-0a66-4665-e5ba-0d96ae91a786"
      },
      "execution_count": null,
      "outputs": [
        {
          "output_type": "display_data",
          "data": {
            "text/plain": [
              "  breed                     lbs   years\n",
              "1 Affenpinscher               8.0 13.0 \n",
              "2 Afghan Hound               60.0 12.0 \n",
              "3 Akita                     107.5 11.0 \n",
              "4 American Pit Bull Terrier  62.5 11.0 \n",
              "5 Australian Cattle Dog      45.0 13.5 \n",
              "6 Australian Shepherd        60.0 13.0 "
            ]
          },
          "metadata": {}
        }
      ]
    },
    {
      "cell_type": "markdown",
      "source": [
        "Each data structure in R has its own features and its own techniques for working with them. In time, you will learn to work with other types of data structures, some that are used widely (e.g., an \"lm\" object), and some that are very specialized (e.g., a [GRanges](https://www.bioconductor.org/packages/release/bioc/vignettes/GenomicRanges/inst/doc/GenomicRangesIntroduction.html) object)."
      ],
      "metadata": {
        "id": "HJx1uy9RcfSS"
      }
    },
    {
      "cell_type": "markdown",
      "source": [
        "Now that we have some basic understanding of what is a data frame, let's jump into our first Programming Challenge: the goal is to write code to answer some  basic questions about dog breeds from the data. The challenges will get progressively more difficult, and will build on each other, so try not to rush through them. Sometimes the code will be given to you, other times you will be given hints for writing the code to answer the questions. Now, this data set is small enough that you can answer many of these questions by eye, but please don't do that. (That being said, you are welcome to look at the data to verify your answers.)\n",
        "\n",
        "Programming Challenge: Facts about dog breeds\n",
        "============================================="
      ],
      "metadata": {
        "id": "12pYVAzNekx-"
      }
    },
    {
      "cell_type": "markdown",
      "source": [
        "\n",
        "Team strategy\n",
        "-------------\n",
        "\n",
        "Before diving deeply into the Programming Challenges, first discuss a collaboration strategy with your teammates. Some important issues to resolve among your teammates include:\n",
        "\n",
        "1. How will you work together on problems (you may want to consider forming small groupers of 2 or 3 people---it is difficult to code collaboratively with more than 2 or 3 people).\n",
        "\n",
        "2. What IDE(s) will you use?\n",
        "\n",
        "3. How will you share solutions amongst the team?\n",
        "\n",
        "4. How will you make sure everyone is included in the problem solving?\n",
        "\n",
        "5. What will you do when your team comes up with more than one solution?"
      ],
      "metadata": {
        "id": "-Pd731-Tgq7e"
      }
    },
    {
      "cell_type": "markdown",
      "source": [
        "Warmup: Smallest and largest dog breeds\n",
        "---------------------------------------\n",
        "\n",
        "This should calculate the average height (in inches) of the largest dog breed:"
      ],
      "metadata": {
        "id": "YK2cu-Wm0eJS"
      }
    },
    {
      "cell_type": "code",
      "source": [
        "x <- dogs$height\n",
        "max(x)"
      ],
      "metadata": {
        "colab": {
          "base_uri": "https://localhost:8080/",
          "height": 35
        },
        "id": "JdgPn3wCCipt",
        "outputId": "6bd3e3f6-2bb1-4a9a-f2e1-09c675572cb4"
      },
      "execution_count": null,
      "outputs": [
        {
          "output_type": "display_data",
          "data": {
            "text/plain": [
              "[1] 32"
            ]
          },
          "metadata": {}
        }
      ]
    },
    {
      "cell_type": "markdown",
      "source": [
        "Now write code to calculate the (average) height of the smallest dog breed:"
      ],
      "metadata": {
        "id": "YtVV87cECv0J"
      }
    },
    {
      "cell_type": "code",
      "source": [
        "min(x)"
      ],
      "metadata": {
        "colab": {
          "base_uri": "https://localhost:8080/",
          "height": 35
        },
        "id": "owlnKdbkDQbf",
        "outputId": "a29f5160-fad1-4e61-a996-c5a1f009f90f"
      },
      "execution_count": null,
      "outputs": [
        {
          "output_type": "display_data",
          "data": {
            "text/plain": [
              "[1] 6"
            ]
          },
          "metadata": {}
        }
      ]
    },
    {
      "cell_type": "markdown",
      "source": [
        "This didn't tell us *which* breeds were the smallest and largest. For example, to find the largest breed, we can do this:"
      ],
      "metadata": {
        "id": "9aoHVfrBDc3w"
      }
    },
    {
      "cell_type": "code",
      "source": [
        "y <- dogs$breed\n",
        "i <- which.max(x)\n",
        "y[i]"
      ],
      "metadata": {
        "colab": {
          "base_uri": "https://localhost:8080/",
          "height": 35
        },
        "id": "AdWieNEqECKa",
        "outputId": "3024ae53-9c84-4e55-d5db-92afc94dc7cb"
      },
      "execution_count": null,
      "outputs": [
        {
          "output_type": "display_data",
          "data": {
            "text/plain": [
              "[1] \"Great Dane\""
            ]
          },
          "metadata": {}
        }
      ]
    },
    {
      "cell_type": "markdown",
      "source": [
        "The output of `which.max` was stored in object \"i\". How would you describe this object?\n",
        "\n",
        "What is the smallest breed?"
      ],
      "metadata": {
        "id": "ZpXHoRHBEJbv"
      }
    },
    {
      "cell_type": "code",
      "source": [
        "y <- dogs$breed\n",
        "i <- which.min(x)\n",
        "y[i]"
      ],
      "metadata": {
        "colab": {
          "base_uri": "https://localhost:8080/",
          "height": 35
        },
        "id": "SGfD6aKpET-h",
        "outputId": "fc99f2da-150f-421c-fae7-142c3c41c3a7"
      },
      "execution_count": null,
      "outputs": [
        {
          "output_type": "display_data",
          "data": {
            "text/plain": [
              "[1] \"Yorkshire Terrier\""
            ]
          },
          "metadata": {}
        }
      ]
    },
    {
      "cell_type": "markdown",
      "source": [
        "What objects did you create to answer this question? *Describe the contents of these objects, and what data types they are.*"
      ],
      "metadata": {
        "id": "iILY42hm2c3q"
      }
    },
    {
      "cell_type": "markdown",
      "source": [
        "Facts about dogs' BMI\n",
        "---------------------\n",
        "\n",
        "The body-mass index (BMI) is a standard quantity—and sometimes misused quantity!—in science and medicine. In R, the BMI is easily calculated:"
      ],
      "metadata": {
        "id": "OzoOrPA4GAtz"
      }
    },
    {
      "cell_type": "code",
      "source": [
        "w <- dogs$weight\n",
        "h <- dogs$height\n",
        "bmi <- 703*w/h^2"
      ],
      "metadata": {
        "id": "xTcnHq6JHCbT"
      },
      "execution_count": null,
      "outputs": []
    },
    {
      "cell_type": "markdown",
      "source": [
        "Based on this code, what is the mathematical formula for BMI?\n",
        "\n",
        "Next, write some code to find the largest, smallest, mean and median BMI. What are the dog breeds with the largest and smallest BMI?"
      ],
      "metadata": {
        "id": "K2TKnQQWHW3S"
      }
    },
    {
      "cell_type": "code",
      "source": [
        "max(bmi)\n",
        "min(bmi)\n",
        "mean(bmi)\n",
        "median(bmi)\n",
        "i <- which.max(bmi)\n",
        "dogs$breed[i]\n",
        "i <- which.min(bmi)\n",
        "dogs$breed[i]"
      ],
      "metadata": {
        "colab": {
          "base_uri": "https://localhost:8080/",
          "height": 127
        },
        "id": "wRv4GO7iHyfj",
        "outputId": "7a85b6a9-cecb-4965-c167-3874116f2b9c"
      },
      "execution_count": null,
      "outputs": [
        {
          "output_type": "display_data",
          "data": {
            "text/plain": [
              "[1] 215.2041"
            ]
          },
          "metadata": {}
        },
        {
          "output_type": "display_data",
          "data": {
            "text/plain": [
              "[1] 42.18"
            ]
          },
          "metadata": {}
        },
        {
          "output_type": "display_data",
          "data": {
            "text/plain": [
              "[1] 88.32157"
            ]
          },
          "metadata": {}
        },
        {
          "output_type": "display_data",
          "data": {
            "text/plain": [
              "[1] 82.57299"
            ]
          },
          "metadata": {}
        },
        {
          "output_type": "display_data",
          "data": {
            "text/plain": [
              "[1] \"Dachshund\""
            ]
          },
          "metadata": {}
        },
        {
          "output_type": "display_data",
          "data": {
            "text/plain": [
              "[1] \"Fox Terrier toy\""
            ]
          },
          "metadata": {}
        }
      ]
    },
    {
      "cell_type": "markdown",
      "source": [
        "When performing a statistical analysis, it is common to *transform* the (numeric) data. For example, this would be a square-root transformation of the BMI values:"
      ],
      "metadata": {
        "id": "Gk0uZ5TvIDgL"
      }
    },
    {
      "cell_type": "code",
      "source": [
        "x <- sqrt(bmi)"
      ],
      "metadata": {
        "id": "37tiRxIvITyn"
      },
      "execution_count": null,
      "outputs": []
    },
    {
      "cell_type": "markdown",
      "source": [
        "There are many reasons to do a transformation. One reason is to produce data that better fits the normal distribution. For example, we can check that the BMI data are normally distributed by comparing the quantiles:"
      ],
      "metadata": {
        "id": "D6wTsIYcIhKy"
      }
    },
    {
      "cell_type": "code",
      "source": [
        "a <- quantile(rnorm(1e4))\n",
        "b <- quantile(bmi)\n",
        "cor(a,b)"
      ],
      "metadata": {
        "colab": {
          "base_uri": "https://localhost:8080/",
          "height": 35
        },
        "id": "p_-pNLKGIZ88",
        "outputId": "14e72a3e-b376-4b6a-ff10-27791d5db905"
      },
      "execution_count": null,
      "outputs": [
        {
          "output_type": "display_data",
          "data": {
            "text/plain": [
              "[1] 0.9244747"
            ]
          },
          "metadata": {}
        }
      ]
    },
    {
      "cell_type": "markdown",
      "source": [
        "Now write similar code to check whether a *square-root* and *logarithmic* (`log`) transformation of the BMI data are a better fit to the normal distribution."
      ],
      "metadata": {
        "id": "yEMpkareIvkk"
      }
    },
    {
      "cell_type": "code",
      "source": [
        "x <- sqrt(bmi)\n",
        "b <- quantile(x)\n",
        "cor(a,b)\n",
        "x <- log(bmi)\n",
        "b <- quantile(x)\n",
        "cor(a,b)"
      ],
      "metadata": {
        "colab": {
          "base_uri": "https://localhost:8080/",
          "height": 54
        },
        "id": "OTK19putF_yS",
        "outputId": "b24c002a-49fd-4544-f765-e67d5662c2b7"
      },
      "execution_count": null,
      "outputs": [
        {
          "output_type": "display_data",
          "data": {
            "text/plain": [
              "[1] 0.9612894"
            ]
          },
          "metadata": {}
        },
        {
          "output_type": "display_data",
          "data": {
            "text/plain": [
              "[1] 0.9890064"
            ]
          },
          "metadata": {}
        }
      ]
    },
    {
      "cell_type": "markdown",
      "source": [
        "Based on your results, which transformation provides the best fit to the normal: square-root, logarithm, or \"identity\" (no transformation)?"
      ],
      "metadata": {
        "id": "KRpwWMwDJ-XO"
      }
    },
    {
      "cell_type": "markdown",
      "source": [
        "**Note:** If you would like to use the BMI data later on, you can easily add them to the data frame:"
      ],
      "metadata": {
        "id": "eU14xatYLcgp"
      }
    },
    {
      "cell_type": "code",
      "source": [
        "dogs$bmi <- bmi"
      ],
      "metadata": {
        "id": "nQNaiFZGLl1f"
      },
      "execution_count": null,
      "outputs": []
    },
    {
      "cell_type": "markdown",
      "source": [
        "*What would be the benefit of adding these data to the data frame (as opposed to storing the BMI data in a separate object)?*"
      ],
      "metadata": {
        "id": "S0RJjL883-2S"
      }
    },
    {
      "cell_type": "markdown",
      "source": [
        "The longest-living dog breeds\n",
        "-----------------------------\n",
        "\n",
        "In the dogs data frame we encountered two types of data: numeric data and text data. Another type of data that is very important is *logical data.* Although the data frame does not contain logical data, we can easily create logical data using logical operators. For example:"
      ],
      "metadata": {
        "id": "jV7B4l8UMKYT"
      }
    },
    {
      "cell_type": "code",
      "source": [
        "x <- dogs$aod >= 16\n",
        "class(x)\n",
        "summary(x)"
      ],
      "metadata": {
        "colab": {
          "base_uri": "https://localhost:8080/",
          "height": 72
        },
        "id": "rm5VyVsaMz1V",
        "outputId": "378fec1c-2622-4883-ec3e-873705c741e9"
      },
      "execution_count": null,
      "outputs": [
        {
          "output_type": "display_data",
          "data": {
            "text/plain": [
              "[1] \"logical\""
            ]
          },
          "metadata": {}
        },
        {
          "output_type": "display_data",
          "data": {
            "text/plain": [
              "   Mode   FALSE    TRUE \n",
              "logical     117       3 "
            ]
          },
          "metadata": {}
        }
      ]
    },
    {
      "cell_type": "markdown",
      "source": [
        "*What did this code do? What does x contain?*\n",
        "\n",
        "To get the indices that are \"TRUE\", use `which`:"
      ],
      "metadata": {
        "id": "XGFadHTbNBSI"
      }
    },
    {
      "cell_type": "code",
      "source": [
        "i <- which(x)\n",
        "length(i)\n",
        "i\n",
        "y <- dogs$breed\n",
        "y[i]"
      ],
      "metadata": {
        "colab": {
          "base_uri": "https://localhost:8080/",
          "height": 72
        },
        "id": "XCh3PhivNjDh",
        "outputId": "460ed1c7-4a6b-48a4-8934-d05a2b9fba6d"
      },
      "execution_count": null,
      "outputs": [
        {
          "output_type": "display_data",
          "data": {
            "text/plain": [
              "[1] 3"
            ]
          },
          "metadata": {}
        },
        {
          "output_type": "display_data",
          "data": {
            "text/plain": [
              "[1]  73  79 101"
            ]
          },
          "metadata": {}
        },
        {
          "output_type": "display_data",
          "data": {
            "text/plain": [
              "[1] \"Lhasa Apso\"       \"Miniature Poodle\" \"Schipperke\"      "
            ]
          },
          "metadata": {}
        }
      ]
    },
    {
      "cell_type": "markdown",
      "source": [
        "What to objects i and y contain?\n",
        "\n",
        "Other logical operators include equals (`==`), and (`&`), or (`|`) and not (`!`). Running `help(Logic)` will give you a longer list.\n",
        "\n",
        "Now write similar code to find the breeds with the following characteristics:\n",
        "\n",
        "1. Expected age of death (AOD) at least 15 and average weight greater than 20 lbs.\n",
        "\n",
        "2. AOD greater than 15 and \"shortcoat\" value of 1. (Later we will learn what the \"shortcoat\" column represents.)"
      ],
      "metadata": {
        "id": "c93TWhlkNiZg"
      }
    },
    {
      "cell_type": "code",
      "source": [
        "x <- dogs$aod >= 15 & dogs$weight >= 20\n",
        "i <- which(x)\n",
        "length(i)\n",
        "y[i]\n",
        "x <- dogs$aod > 15 & dogs$shortcoat == 1\n",
        "i <- which(x)\n",
        "length(i)\n",
        "y[i]"
      ],
      "metadata": {
        "colab": {
          "base_uri": "https://localhost:8080/",
          "height": 90
        },
        "id": "xO41Ru2iMOhJ",
        "outputId": "45256d70-31d2-41e6-ab0b-d08e53a23325"
      },
      "execution_count": null,
      "outputs": [
        {
          "output_type": "display_data",
          "data": {
            "text/plain": [
              "[1] 2"
            ]
          },
          "metadata": {}
        },
        {
          "output_type": "display_data",
          "data": {
            "text/plain": [
              "[1] \"Boston Terrier\"    \"Italian Greyhound\""
            ]
          },
          "metadata": {}
        },
        {
          "output_type": "display_data",
          "data": {
            "text/plain": [
              "[1] 1"
            ]
          },
          "metadata": {}
        },
        {
          "output_type": "display_data",
          "data": {
            "text/plain": [
              "[1] \"Toy Manchester Terrier\""
            ]
          },
          "metadata": {}
        }
      ]
    },
    {
      "cell_type": "markdown",
      "source": [
        "A QTL for weight (and dealing with missing data)\n",
        "------------------------------------------------\n",
        "\n",
        "In the *Genetics* paper, the strongest QTL (\"quantitative trait locus\") for weight was a QTL on chromosome 7. The \"cfa7_46696633bp\" column stores the breeds' allele frequencies for these QTL. What happens when you try to calculate the correlation between the allele frequencies and weights?"
      ],
      "metadata": {
        "id": "Gjlg-OnARJfl"
      }
    },
    {
      "cell_type": "code",
      "source": [
        "x <- dogs$cfa7_46696633bp\n",
        "y <- dogs$weight\n",
        "cor(x,y)"
      ],
      "metadata": {
        "colab": {
          "base_uri": "https://localhost:8080/",
          "height": 35
        },
        "id": "XXg7pvyXbKT6",
        "outputId": "187a737f-4d35-4e00-ee7e-75da4a490f84"
      },
      "execution_count": null,
      "outputs": [
        {
          "output_type": "display_data",
          "data": {
            "text/plain": [
              "[1] NA"
            ]
          },
          "metadata": {}
        }
      ]
    },
    {
      "cell_type": "markdown",
      "source": [
        "In turns out that the allele frequencies were not available for some of the breeds, so a special value \"NA\" was entered for those breeds. *Why \"NA\"?*\n",
        "\n",
        "*Working with missing values.* How many breeds are missing the allele frequency estimates for the chromosome 7 QTL? Which dog breeds are they? What is the mean allele frequency for the QTL on chromosome 7? What is the correlation between this QTL and weight? Use the `is.na` function (as well as other functions you have used before) to find the missing entries, and find out (1) how many allele frequencies are missing, and (2) which breeds do not have the allele frequencies."
      ],
      "metadata": {
        "id": "A2GGDLRYbXg9"
      }
    },
    {
      "cell_type": "code",
      "source": [
        "i <- which(is.na(x))\n",
        "length(i)\n",
        "dogs$breed[i]"
      ],
      "metadata": {
        "colab": {
          "base_uri": "https://localhost:8080/",
          "height": 54
        },
        "id": "VlpRZXnCbj1v",
        "outputId": "24a5d886-bc91-475d-8a59-bbcdc03e42b2"
      },
      "execution_count": null,
      "outputs": [
        {
          "output_type": "display_data",
          "data": {
            "text/plain": [
              "[1] 1"
            ]
          },
          "metadata": {}
        },
        {
          "output_type": "display_data",
          "data": {
            "text/plain": [
              "[1] \"English Setter\""
            ]
          },
          "metadata": {}
        }
      ]
    },
    {
      "cell_type": "markdown",
      "source": [
        "The designers of R, appreciating that missing data is pervasive in statistics, made sure that missing values was an integral part of the R programming language. Most statistical functions, including basic statistical calculations such as `mean` and `cor`, have special ways to deal with missing data. Read the documentation for `mean` and `cor`, then use the guidance provided in the documentation to compute the average allele frequency at the QTL  (across all dog breeds), and the correlation between body weight and allele frequency."
      ],
      "metadata": {
        "id": "iLJ2bbN-cbDp"
      }
    },
    {
      "cell_type": "code",
      "source": [
        "mean(x,na.rm = TRUE)\n",
        "cor(x,y,use = \"complete.obs\")"
      ],
      "metadata": {
        "colab": {
          "base_uri": "https://localhost:8080/",
          "height": 54
        },
        "id": "cW4fCA8zRKLm",
        "outputId": "bd28ccf8-8231-4325-fe36-f6c3fffb32a8"
      },
      "execution_count": null,
      "outputs": [
        {
          "output_type": "display_data",
          "data": {
            "text/plain": [
              "[1] 0.6053866"
            ]
          },
          "metadata": {}
        },
        {
          "output_type": "display_data",
          "data": {
            "text/plain": [
              "[1] 0.5684198"
            ]
          },
          "metadata": {}
        }
      ]
    },
    {
      "cell_type": "markdown",
      "source": [
        "What is a \"factor\"?\n",
        "-------------------\n",
        "\n",
        "So far, we have seen three basic data types: character, numeric and logical. There is a fourth important atomic data type in R: *factor.* What is unusual about factors is that (last I checked) there is no equivalent in other popular programming languages, at least not as a primitive data type. And yet you will find that they are extremely useful.\n",
        "\n",
        "None of the columns in the laptops data frame are a factor. But, like\n",
        "logical data, *we can create a factor from other data.*\n",
        "\n",
        "The \"shortcoat\" column contains numeric data. As it turns out, *it may be more useful to analyze the data as a factor.*\n",
        "\n",
        "In this part of the Programming Challenge, you will be given the code, and your task will be to run the code and interpret the outputs, with the aim of gaining some intuition for factors, how to use them, and when they may be useful.\n",
        "\n",
        "Let's first run a few lines of code to inspect the shortcoat data:"
      ],
      "metadata": {
        "id": "czhPKZZPnf15"
      }
    },
    {
      "cell_type": "code",
      "source": [
        "x <- dogs$shortcoat\n",
        "class(x)\n",
        "x\n",
        "summary(x)\n",
        "unique(x)"
      ],
      "metadata": {
        "colab": {
          "base_uri": "https://localhost:8080/",
          "height": 182
        },
        "id": "zvyzQxLoJ6sM",
        "outputId": "5bdf920b-d8fd-4502-e342-9bfe2e0fbdbf"
      },
      "execution_count": null,
      "outputs": [
        {
          "output_type": "display_data",
          "data": {
            "text/plain": [
              "[1] \"integer\""
            ]
          },
          "metadata": {}
        },
        {
          "output_type": "display_data",
          "data": {
            "text/plain": [
              "  [1]  0  0  0 NA  1  0  0  1  1  0  0  0  0  0  0  0  0  1  0  1  1  0  0  0  1\n",
              " [26]  0  0  0 NA  1  0  0  0 NA  1  0  1  1  0  0  0  0  0  1  1  1  0  0  0  0\n",
              " [51]  0  1  1  1  0  1  1  0  0  0  0  1  0  1  0  0  0  0  0  1  0  0  0  0  1\n",
              " [76]  1  1  1  0  0  0  0  0  0  0  0  0  0  1  1  0 NA  0  1  0  1  1  0  1  0\n",
              "[101]  0 NA  0  0  0  0  0  0  1  0  0  0  0  0  1  0  0  1  0  0"
            ]
          },
          "metadata": {}
        },
        {
          "output_type": "display_data",
          "data": {
            "text/plain": [
              "   Min. 1st Qu.  Median    Mean 3rd Qu.    Max.    NA's \n",
              " 0.0000  0.0000  0.0000  0.3043  1.0000  1.0000       5 "
            ]
          },
          "metadata": {}
        },
        {
          "output_type": "display_data",
          "data": {
            "text/plain": [
              "[1]  0 NA  1"
            ]
          },
          "metadata": {}
        }
      ]
    },
    {
      "cell_type": "markdown",
      "source": [
        "Now run the following lines of code to create a factor:"
      ],
      "metadata": {
        "id": "89B0CvOXKJxQ"
      }
    },
    {
      "cell_type": "code",
      "source": [
        "x <- factor(x)\n",
        "class(x)\n",
        "x\n",
        "summary(x)"
      ],
      "metadata": {
        "colab": {
          "base_uri": "https://localhost:8080/",
          "height": 237
        },
        "id": "uJLkqSc4JICL",
        "outputId": "3b5f15ec-0d24-45fc-bb17-b4a12eab660f"
      },
      "execution_count": null,
      "outputs": [
        {
          "output_type": "display_data",
          "data": {
            "text/plain": [
              "[1] \"factor\""
            ]
          },
          "metadata": {}
        },
        {
          "output_type": "display_data",
          "data": {
            "text/plain": [
              "  [1] 0    0    0    <NA> 1    0    0    1    1    0    0    0    0    0    0   \n",
              " [16] 0    0    1    0    1    1    0    0    0    1    0    0    0    <NA> 1   \n",
              " [31] 0    0    0    <NA> 1    0    1    1    0    0    0    0    0    1    1   \n",
              " [46] 1    0    0    0    0    0    1    1    1    0    1    1    0    0    0   \n",
              " [61] 0    1    0    1    0    0    0    0    0    1    0    0    0    0    1   \n",
              " [76] 1    1    1    0    0    0    0    0    0    0    0    0    0    1    1   \n",
              " [91] 0    <NA> 0    1    0    1    1    0    1    0    0    <NA> 0    0    0   \n",
              "[106] 0    0    0    1    0    0    0    0    0    1    0    0    1    0    0   \n",
              "Levels: 0 1"
            ]
          },
          "metadata": {}
        },
        {
          "output_type": "display_data",
          "data": {
            "text/plain": [
              "   0    1 NA's \n",
              "  80   35    5 "
            ]
          },
          "metadata": {}
        }
      ]
    },
    {
      "cell_type": "markdown",
      "source": [
        "Notice that although the data have stayed the same, the two summaries are different. This is because although the data haven't changed, the *data representation* or *encoding* has; *R treats the numeric encoding differently from the factor encoding.*\n",
        "\n",
        "What does the second summary tell us?\n",
        "\n",
        "Judging by these outputs, what do you think a factor is?\n",
        "\n",
        "These subtleties also suggest that we can improve the data representation further; the data should be as easy to interpret as possible (\"human readable\"). Representing the data as zeros and ones may be convenient for the computer, but it is confusing when representing the data as a factor because it \"looks\" like numeric data, when in fact it is not.\n",
        "\n",
        "Fortunately, now that the data are stored as a factor, this is easily fixed. To fix this, we modify a property (\"attribute\") of the object. Since this is the first time we are using an object's attributes, let's first take a quick look at the object's attributes:"
      ],
      "metadata": {
        "id": "fPaIW-mmMPxV"
      }
    },
    {
      "cell_type": "code",
      "source": [
        "attributes(x)"
      ],
      "metadata": {
        "colab": {
          "base_uri": "https://localhost:8080/",
          "height": 109
        },
        "id": "LCt4sun4dnA3",
        "outputId": "bc68a242-a9c9-46d7-c147-8c10dc7cea88"
      },
      "execution_count": null,
      "outputs": [
        {
          "output_type": "display_data",
          "data": {
            "text/plain": [
              "$levels\n",
              "[1] \"0\" \"1\"\n",
              "\n",
              "$class\n",
              "[1] \"factor\"\n"
            ]
          },
          "metadata": {}
        }
      ]
    },
    {
      "cell_type": "markdown",
      "source": [
        "What does the \"levels\" attribute keep track of?\n",
        "\n",
        "We can modify the levels attribute. For example, this replaces the zeros with \"no\" and ones with \"yes\":"
      ],
      "metadata": {
        "id": "hJAHwwQxxScD"
      }
    },
    {
      "cell_type": "code",
      "source": [
        "levels(x) <- c(\"no\",\"yes\")\n",
        "summary(x)"
      ],
      "metadata": {
        "colab": {
          "base_uri": "https://localhost:8080/",
          "height": 54
        },
        "id": "MAKgdnPJxS39",
        "outputId": "ea14f795-3bae-4110-9a42-e0a668af9b1c"
      },
      "execution_count": null,
      "outputs": [
        {
          "output_type": "display_data",
          "data": {
            "text/plain": [
              "  no  yes NA's \n",
              "  80   35    5 "
            ]
          },
          "metadata": {}
        }
      ]
    },
    {
      "cell_type": "markdown",
      "source": [
        "Having made these improvements to the shortcoat data, let's store the improved data in the data frame:"
      ],
      "metadata": {
        "id": "Ar4vmItNxtq0"
      }
    },
    {
      "cell_type": "code",
      "source": [
        "dogs$shortcoat <- x\n",
        "summary(dogs)"
      ],
      "metadata": {
        "colab": {
          "base_uri": "https://localhost:8080/",
          "height": 311
        },
        "id": "G3T0-M_NNaTI",
        "outputId": "e466eb28-3a34-443f-a211-9a1836ca7403"
      },
      "execution_count": null,
      "outputs": [
        {
          "output_type": "display_data",
          "data": {
            "text/plain": [
              "    breed                aod            height          weight       shortcoat\n",
              " Length:120         Min.   : 6.20   Min.   : 6.00   Min.   :  5.00   no  :80  \n",
              " Class :character   1st Qu.:11.15   1st Qu.:13.00   1st Qu.: 17.38   yes :35  \n",
              " Mode  :character   Median :12.55   Median :19.00   Median : 46.38   NA's: 5  \n",
              "                    Mean   :12.36   Mean   :18.73   Mean   : 49.23            \n",
              "                    3rd Qu.:13.50   3rd Qu.:24.62   3rd Qu.: 67.50            \n",
              "                    Max.   :17.00   Max.   :32.00   Max.   :160.00            \n",
              "                                                                              \n",
              " cfa7_46696633bp       bmi        \n",
              " Min.   :0.0000   Min.   : 42.18  \n",
              " 1st Qu.:0.3455   1st Qu.: 67.41  \n",
              " Median :0.6880   Median : 82.57  \n",
              " Mean   :0.6054   Mean   : 88.32  \n",
              " 3rd Qu.:0.8800   3rd Qu.: 97.83  \n",
              " Max.   :1.0000   Max.   :215.20  \n",
              " NA's   :1                        "
            ]
          },
          "metadata": {}
        }
      ]
    },
    {
      "cell_type": "markdown",
      "source": [
        "To illustrate the power of factors, let's see how easily it can be incorporated into a linear regression analysis.\n",
        "\n",
        "Earlier I found that dogs with short coats tended not to live quite as long as dogs with longer coats:"
      ],
      "metadata": {
        "id": "Swr5hFcFjNPP"
      }
    },
    {
      "cell_type": "code",
      "source": [
        "sx <- dogs$shortcoat\n",
        "y <- dogs$aod\n",
        "i <- which(x == \"no\")\n",
        "j <- which(x == \"yes\")\n",
        "mean(y[i])\n",
        "mean(y[j])"
      ],
      "metadata": {
        "colab": {
          "base_uri": "https://localhost:8080/",
          "height": 54
        },
        "id": "-R8ttK-UjS6n",
        "outputId": "b7757937-567d-4097-b81d-24f9d6f385ed"
      },
      "execution_count": null,
      "outputs": [
        {
          "output_type": "display_data",
          "data": {
            "text/plain": [
              "[1] 12.4675"
            ]
          },
          "metadata": {}
        },
        {
          "output_type": "display_data",
          "data": {
            "text/plain": [
              "[1] 12.05914"
            ]
          },
          "metadata": {}
        }
      ]
    },
    {
      "cell_type": "markdown",
      "source": [
        "Is this difference significant? We can check this with `lm`:"
      ],
      "metadata": {
        "id": "FVmgnqFmyR19"
      }
    },
    {
      "cell_type": "code",
      "source": [
        "fit <- lm(aod ~ shortcoat,dogs)\n",
        "coef(fit)\n",
        "summary(fit)"
      ],
      "metadata": {
        "colab": {
          "base_uri": "https://localhost:8080/",
          "height": 403
        },
        "id": "5uLsJizlyR8e",
        "outputId": "a132faff-b513-4598-f7e3-df040a8bd850"
      },
      "execution_count": null,
      "outputs": [
        {
          "output_type": "display_data",
          "data": {
            "text/plain": [
              " (Intercept) shortcoatyes \n",
              "  12.4675000   -0.4083571 "
            ]
          },
          "metadata": {}
        },
        {
          "output_type": "display_data",
          "data": {
            "text/plain": [
              "\n",
              "Call:\n",
              "lm(formula = aod ~ shortcoat, data = dogs)\n",
              "\n",
              "Residuals:\n",
              "    Min      1Q  Median      3Q     Max \n",
              "-6.2675 -1.0591  0.4409  1.0325  4.5325 \n",
              "\n",
              "Coefficients:\n",
              "             Estimate Std. Error t value Pr(>|t|)    \n",
              "(Intercept)   12.4675     0.2135  58.402   <2e-16 ***\n",
              "shortcoatyes  -0.4084     0.3870  -1.055    0.294    \n",
              "---\n",
              "Signif. codes:  0 ‘***’ 0.001 ‘**’ 0.01 ‘*’ 0.05 ‘.’ 0.1 ‘ ’ 1\n",
              "\n",
              "Residual standard error: 1.909 on 113 degrees of freedom\n",
              "  (5 observations deleted due to missingness)\n",
              "Multiple R-squared:  0.009759,\tAdjusted R-squared:  0.000996 \n",
              "F-statistic: 1.114 on 1 and 113 DF,  p-value: 0.2935\n"
            ]
          },
          "metadata": {}
        }
      ]
    },
    {
      "cell_type": "markdown",
      "source": [
        "What does the \"shortcoatyes\" output from `coef(fit)` represent?\n",
        "\n",
        "Is the difference significant?\n",
        "\n",
        "The difference in expected lifespan might be explained better by differences in the body weights between dogs with short and long coats. Is the AOD difference explained by \"shortcoat\" still significant when weight is included as an explanatory variable for AOD?"
      ],
      "metadata": {
        "id": "YLG_5_YsywWn"
      }
    },
    {
      "cell_type": "code",
      "source": [
        "fit <- lm(aod ~ weight + shortcoat,dogs)\n",
        "summary(fit)"
      ],
      "metadata": {
        "colab": {
          "base_uri": "https://localhost:8080/",
          "height": 384
        },
        "id": "wwStFDhdywga",
        "outputId": "e8ea61a2-f609-4c68-eb9e-c0292a679e7b"
      },
      "execution_count": null,
      "outputs": [
        {
          "output_type": "display_data",
          "data": {
            "text/plain": [
              "\n",
              "Call:\n",
              "lm(formula = aod ~ weight + shortcoat, data = dogs)\n",
              "\n",
              "Residuals:\n",
              "    Min      1Q  Median      3Q     Max \n",
              "-4.0995 -0.7129  0.1529  1.0039  3.3422 \n",
              "\n",
              "Coefficients:\n",
              "              Estimate Std. Error t value Pr(>|t|)    \n",
              "(Intercept)  14.162226   0.233402  60.677   <2e-16 ***\n",
              "weight       -0.036032   0.003669  -9.822   <2e-16 ***\n",
              "shortcoatyes -0.038727   0.287372  -0.135    0.893    \n",
              "---\n",
              "Signif. codes:  0 ‘***’ 0.001 ‘**’ 0.01 ‘*’ 0.05 ‘.’ 0.1 ‘ ’ 1\n",
              "\n",
              "Residual standard error: 1.406 on 112 degrees of freedom\n",
              "  (5 observations deleted due to missingness)\n",
              "Multiple R-squared:  0.468,\tAdjusted R-squared:  0.4585 \n",
              "F-statistic: 49.26 on 2 and 112 DF,  p-value: 4.487e-16\n"
            ]
          },
          "metadata": {}
        }
      ]
    },
    {
      "cell_type": "markdown",
      "source": [
        "An index of dog breeds\n",
        "----------------------\n",
        "\n",
        "In this last question, we will organize the dog breeds by the first letter of the breed name. It will help to create a factor.\n",
        "\n",
        "The first step is to extract the data we want. This can be done using `substr`:"
      ],
      "metadata": {
        "id": "q4zRINQoz1F9"
      }
    },
    {
      "cell_type": "code",
      "source": [
        "x <- dogs$breed\n",
        "d <- substr(x,start = 1,stop = 1)\n",
        "d"
      ],
      "metadata": {
        "colab": {
          "base_uri": "https://localhost:8080/",
          "height": 146
        },
        "id": "V0QZnTCT0Z8M",
        "outputId": "e4bce291-fe68-4e96-9549-04e351cbfa16"
      },
      "execution_count": null,
      "outputs": [
        {
          "output_type": "display_data",
          "data": {
            "text/plain": [
              "  [1] \"A\" \"A\" \"A\" \"A\" \"A\" \"A\" \"A\" \"B\" \"B\" \"B\" \"B\" \"B\" \"B\" \"B\" \"B\" \"B\" \"B\" \"B\"\n",
              " [19] \"B\" \"B\" \"B\" \"B\" \"B\" \"B\" \"B\" \"C\" \"C\" \"C\" \"C\" \"C\" \"C\" \"C\" \"C\" \"D\" \"D\" \"D\"\n",
              " [37] \"D\" \"E\" \"E\" \"E\" \"E\" \"F\" \"F\" \"F\" \"F\" \"F\" \"G\" \"G\" \"G\" \"G\" \"G\" \"G\" \"G\" \"G\"\n",
              " [55] \"H\" \"H\" \"I\" \"I\" \"I\" \"I\" \"I\" \"I\" \"I\" \"J\" \"J\" \"J\" \"K\" \"K\" \"K\" \"L\" \"L\" \"L\"\n",
              " [73] \"L\" \"M\" \"M\" \"M\" \"M\" \"M\" \"M\" \"M\" \"N\" \"N\" \"N\" \"N\" \"N\" \"P\" \"P\" \"P\" \"P\" \"P\"\n",
              " [91] \"P\" \"P\" \"P\" \"P\" \"P\" \"R\" \"R\" \"S\" \"S\" \"S\" \"S\" \"S\" \"S\" \"S\" \"S\" \"S\" \"S\" \"S\"\n",
              "[109] \"S\" \"S\" \"S\" \"S\" \"T\" \"T\" \"T\" \"W\" \"W\" \"W\" \"W\" \"Y\""
            ]
          },
          "metadata": {}
        }
      ]
    },
    {
      "cell_type": "markdown",
      "source": [
        "Which is the most common first letter for a dog breed? And how many breeds start with this letter?"
      ],
      "metadata": {
        "id": "oEKTKGTU1376"
      }
    },
    {
      "cell_type": "code",
      "source": [
        "d <- factor(d)\n",
        "s <- summary(d)\n",
        "s\n",
        "which.max(s)\n",
        "max(s)"
      ],
      "metadata": {
        "colab": {
          "base_uri": "https://localhost:8080/",
          "height": 109
        },
        "id": "ys3cgLrb1zUB",
        "outputId": "a3d8d283-5965-4388-8d46-df36eac54b5c"
      },
      "execution_count": null,
      "outputs": [
        {
          "output_type": "display_data",
          "data": {
            "text/plain": [
              " A  B  C  D  E  F  G  H  I  J  K  L  M  N  P  R  S  T  W  Y \n",
              " 7 18  8  4  4  5  8  2  7  3  3  4  7  5 10  2 15  3  4  1 "
            ]
          },
          "metadata": {}
        },
        {
          "output_type": "display_data",
          "data": {
            "text/plain": [
              "B \n",
              "2 "
            ]
          },
          "metadata": {}
        },
        {
          "output_type": "display_data",
          "data": {
            "text/plain": [
              "[1] 18"
            ]
          },
          "metadata": {}
        }
      ]
    },
    {
      "cell_type": "markdown",
      "source": [
        "The `factor` function automatically determined which letters were needed. It would be useful to include all the letters in the alphabet, not just the ones that are needed. Modify your `factor` call above to include the unused letters as well. See `help(factor)` and `help(LETTERS)` for guidance."
      ],
      "metadata": {
        "id": "nXTUhXGqxi1i"
      }
    },
    {
      "cell_type": "code",
      "source": [
        "d <- factor(d,LETTERS)"
      ],
      "metadata": {
        "colab": {
          "base_uri": "https://localhost:8080/",
          "height": 54
        },
        "id": "CpszGc8cxgEK",
        "outputId": "fe3abd84-1eba-4510-dc5e-172c726fdf8a"
      },
      "execution_count": null,
      "outputs": [
        {
          "output_type": "display_data",
          "data": {
            "text/plain": [
              " Q  U  V  X  Z \n",
              "17 21 22 24 26 "
            ]
          },
          "metadata": {}
        }
      ]
    },
    {
      "cell_type": "markdown",
      "source": [
        "Once you have the new factor using all the letters, write code to determine which letters are not used for the first letter of any dog breed:"
      ],
      "metadata": {
        "id": "ngLTJNF13ASG"
      }
    },
    {
      "cell_type": "code",
      "source": [
        "s <- summary(d)\n",
        "which(s == 0)"
      ],
      "metadata": {
        "colab": {
          "base_uri": "https://localhost:8080/",
          "height": 54
        },
        "id": "HZpXcAb63AYI",
        "outputId": "bf1024e8-2433-4673-bad0-409b20a79fb6"
      },
      "execution_count": null,
      "outputs": [
        {
          "output_type": "display_data",
          "data": {
            "text/plain": [
              " Q  U  V  X  Z \n",
              "17 21 22 24 26 "
            ]
          },
          "metadata": {}
        }
      ]
    },
    {
      "cell_type": "markdown",
      "source": [
        "Programming Challenge: The Tornado Super Outbreak of 1974\n",
        "=========================================================\n",
        "\n",
        "*Now we will find out to what extent the skills we developed in analyzing the dogs data transfer to a much larger data set.*\n",
        "\n",
        "In this programming challenge, you will be given some suggestions for how to proceed, *but you will (mostly) not be given the code.*\n",
        "\n",
        "From *University of Chicago Magazine*, Fall, 2020:\n",
        "\n",
        "> Fujita published his proposed tornado scale in 1971, but it needed a\n",
        "> high-profile event to take root. On April 3, 1974, a tornado touched\n",
        "> down in Morris, Illinois, around noon. Over the next 17 hours, 148\n",
        "> confirmed tornadoes tore through 13 states and Ontario,\n",
        "> Canada. Following the 1974 Super Outbreak—one of the worst tornado\n",
        "> outbreaks on record—Fujita and his team took a whirlwind airplane\n",
        "> tour of more than 10,000 miles, surveying the ruins.\n",
        "\n",
        "Fujita's scale is now known the \"F-scale\", and it scores tornadoes\n",
        "from F0 to F5 based on wind speeds and ensuing damage."
      ],
      "metadata": {
        "id": "D7cY39XwX8MZ"
      }
    },
    {
      "cell_type": "markdown",
      "source": [
        "Analysis aims\n",
        "-------------\n",
        "\n",
        "Our main analysis aim is to uncover evidence for the 1974 Tornado\n",
        "Super Outbreak in data from NOAA's Severe Weather Data Inventory\n",
        "(SWDI)."
      ],
      "metadata": {
        "id": "6-kmucDqpZD1"
      }
    },
    {
      "cell_type": "markdown",
      "source": [
        "Import the data\n",
        "---------------\n",
        "\n",
        "The SWDI data stored in a file `StormEvents_details-ftp_v1.0_d1974_c20220425.csv.gz` which is included in the [GitHub repository](https://github.com/pcarbo/qBio9_stuff).\n",
        "\n",
        "Since the SWDI data are stored as a CSV file, you should now know what\n",
        "to do to import the data into R."
      ],
      "metadata": {
        "id": "0vxg_lDNvNQG"
      }
    },
    {
      "cell_type": "code",
      "source": [
        "# Add your code here."
      ],
      "metadata": {
        "id": "CWQGGwUYvxG-"
      },
      "execution_count": 1,
      "outputs": []
    },
    {
      "cell_type": "markdown",
      "source": [
        "Examine the data\n",
        "----------------\n",
        "\n",
        "Now that we have the data in a data frame, write some code to get an overview of the data."
      ],
      "metadata": {
        "id": "_fm5oPwLwlep"
      }
    },
    {
      "cell_type": "code",
      "source": [
        "# Add your code here."
      ],
      "metadata": {
        "id": "F0CNxqAjw56F"
      },
      "execution_count": 2,
      "outputs": []
    },
    {
      "cell_type": "markdown",
      "source": [
        "In our search for the Tornado Super Outbreak, we will use these seven\n",
        "columns: EVENT_TYPE, BEGIN_DAY, MONTH_NAME, STATE, BEGIN_LON,\n",
        "BEGIN_LAT and TOR_F_SCALE. Write some code to examine more closely these columns. **Hint:** You might that the `table` function is useful for this."
      ],
      "metadata": {
        "id": "r8o0iGn6xLK9"
      }
    },
    {
      "cell_type": "code",
      "source": [
        "# Add your code here."
      ],
      "metadata": {
        "id": "bVWeavofxLTw"
      },
      "execution_count": 3,
      "outputs": []
    },
    {
      "cell_type": "markdown",
      "source": [
        "Prepare the data\n",
        "----------------\n",
        "\n",
        "Your initial examinations should suggest a few improvements to the seven columns of the data frame we are interested in. Write code to make those improvements. (This is a judgement call—there is no definitive \"best\" answer to this question.)\n",
        "\n",
        "**Hints:** In R, `month.name` is a built-in constant than\n",
        "may be useful. Also, `\"\"` produces the empty text value\n",
        "(a string of length zero)."
      ],
      "metadata": {
        "id": "QbR3h1y3zibs"
      }
    },
    {
      "cell_type": "code",
      "source": [
        "# Add your code here."
      ],
      "metadata": {
        "id": "0mkH5ncVz8rk"
      },
      "execution_count": 5,
      "outputs": []
    },
    {
      "cell_type": "markdown",
      "source": [
        "Since the focus is a particular type of storm event—tornadoes—extract the rows of the table that are relevant to this analysis."
      ],
      "metadata": {
        "id": "BK7n37ntz9w5"
      }
    },
    {
      "cell_type": "code",
      "source": [
        "# Add your code here."
      ],
      "metadata": {
        "id": "08ZTJBGV0G89"
      },
      "execution_count": 4,
      "outputs": []
    },
    {
      "cell_type": "markdown",
      "source": [
        "When and where did the tornadoes occur?\n",
        "---------------------------------------\n",
        "\n",
        "What month and what day of the year saw the most tornadoes? Let's call this day the \"day of the Super Outbreak.\" **Hint:** Since there is no data column for \"day of year\", to answer this question you could create a new column (say, called \"dayofyear\") from other columns using the `paste` function."
      ],
      "metadata": {
        "id": "8Y9jXd1x14O9"
      }
    },
    {
      "cell_type": "code",
      "source": [
        "# Add your code here."
      ],
      "metadata": {
        "id": "RROtv1Fl21Tg"
      },
      "execution_count": 6,
      "outputs": []
    },
    {
      "cell_type": "markdown",
      "source": [
        "Which two states had the most tornadoes in 1974? **Hint:** The `sort` function might be useful here."
      ],
      "metadata": {
        "id": "egB0I3Ug22dr"
      }
    },
    {
      "cell_type": "code",
      "source": [
        "# Add your code here."
      ],
      "metadata": {
        "id": "WXKsufHw3d8x"
      },
      "execution_count": 7,
      "outputs": []
    },
    {
      "cell_type": "markdown",
      "source": [
        "To understand the geography of the tornadoes in more detail, use the lat-long coordinates to plot the tornadoes on a map. First, this can be done very simply using the `plot` function. (What geographical structure does this plot evoke?)"
      ],
      "metadata": {
        "id": "H6kVL9g_4Vv_"
      }
    },
    {
      "cell_type": "code",
      "source": [
        "# Add your code here."
      ],
      "metadata": {
        "id": "ShSwutol4_Kv"
      },
      "execution_count": 8,
      "outputs": []
    },
    {
      "cell_type": "markdown",
      "source": [
        "For more detail, I have written a *custom function* that takes a data frame \"latlongs\" as input and outputs a map of the US with the geographic locations\n",
        "projected onto it.\n",
        "\n",
        "The inputs are two numeric vectors of the same length.\n",
        "The output is a ggplot object."
      ],
      "metadata": {
        "id": "mfFKRLbp5LyJ"
      }
    },
    {
      "cell_type": "code",
      "source": [
        "map_usa_latlongs <- function (lats, longs) {\n",
        "  dat <- data.frame(lat = lats,long = longs)\n",
        "  return(ggplot(dat,aes(x = long,y = lat)) +\n",
        "         geom_path(data = map_data(\"state\"),\n",
        "                   aes(x = long,y = lat,group = group),\n",
        "                   color = \"gray\") +\n",
        "         geom_point(shape = 20,size = 1) +\n",
        "         theme_classic())\n",
        "}\n",
        "library(ggplot2)\n",
        "# Add the rest of the code here."
      ],
      "metadata": {
        "id": "mD129Ist5L56"
      },
      "execution_count": 10,
      "outputs": []
    },
    {
      "cell_type": "markdown",
      "source": [
        "Remove the outliers\n",
        "-------------------\n",
        "\n",
        "Plotting the tornadoes by geographic location revealed some\n",
        "strange \"outliers\". Write some code to understand what these\n",
        "\"outliers\" are, remove them from the data frame, then create a new map of the tornadoes without these strange outliers (reusing `map_usa_latlongs`)."
      ],
      "metadata": {
        "id": "GpsaLY_W62it"
      }
    },
    {
      "cell_type": "code",
      "source": [
        "# Add your code here."
      ],
      "metadata": {
        "id": "XSkYS8tW7Cm2"
      },
      "execution_count": 11,
      "outputs": []
    },
    {
      "cell_type": "markdown",
      "source": [
        "Map the Super Outbreak\n",
        "----------------------\n",
        "\n",
        "Now reuse `map_usa_latlong` once more to create a map of the tornadoes that occurred on the single day of the tornado Super Outbreak. Compare your map to\n",
        "https://en.wikipedia.org/wiki/1974_Super_Outbreak."
      ],
      "metadata": {
        "id": "8jXq4NEY8g4S"
      }
    },
    {
      "cell_type": "code",
      "source": [
        "# Add your code here."
      ],
      "metadata": {
        "id": "43t_dPKd8yBk"
      },
      "execution_count": 12,
      "outputs": []
    },
    {
      "cell_type": "markdown",
      "source": [
        "Outline of remaining content:\n",
        "\n",
        "+ ggplot2 tutorial using dogs data.\n",
        "\n",
        "+ ggplot2 Programming Challenge on the mouse data. (This will be in an R Markdown and in the render PDF, not in this Jupyter notebook.)"
      ],
      "metadata": {
        "id": "sOZ3sQfLW4dc"
      }
    }
  ]
}